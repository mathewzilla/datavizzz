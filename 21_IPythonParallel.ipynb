{
 "metadata": {
  "name": "",
  "signature": "sha256:7de2e03b7ef6cb7136ffd6be0105e0978ebb88ed1e3c273f2eb1c80962b1ccec"
 },
 "nbformat": 3,
 "nbformat_minor": 0,
 "worksheets": [
  {
   "cells": [
    {
     "cell_type": "markdown",
     "metadata": {},
     "source": [
      "<style>\n",
      "div.cell, div.text_cell_render{\n",
      "  max-width:750px;\n",
      "  margin-left:auto;\n",
      "  margin-right:auto;\n",
      "}\n",
      "\n",
      ".rendered_html\n",
      "{\n",
      "  font-size: 140%;\n",
      "  }\n",
      "\n",
      ".rendered_html li\n",
      "{\n",
      "  line-height: 1.8;\n",
      "  }\n",
      "\n",
      ".rendered_html h1, h2 {\n",
      "  text-align:center;\n",
      "  font-familly:\"Charis SIL\", serif;\n",
      "}\n",
      "</style>"
     ]
    },
    {
     "cell_type": "markdown",
     "metadata": {},
     "source": [
      "# Parallel Computing with IPython\n",
      "\n",
      "Today we'll look at performing parallel computations with IPython.  Much of this material will draw from resources available online, including\n",
      "\n",
      "- The IPython [Parallel documentation](http://ipython.org/ipython-doc/rel-1.1.0/parallel/parallel_intro.html)\n",
      "- Min RK's [IPython Parallel Tutorial](https://github.com/minrk/IPython.parallel.tutorial.git) (the source for much of this lecture)\n",
      "\n",
      "Parallel computing is generally very difficult, and IPython provides primitives for a number of scenarios, including:\n",
      "\n",
      "-   Single program, multiple data (SPMD) parallelism\n",
      "-   Multiple program, multiple data (MPMD) parallelism\n",
      "-   Task farming\n",
      "-   Data parallel computation\n",
      "-   Coordination of distributed processes\n",
      "-   Combinations of these approaches\n",
      "-   Custom user defined approaches\n",
      "\n",
      "\n",
      "In addition, IPython parallel includes tools for executing parallel jobs *interactively* (this is the \"I\" in \"IPython\")."
     ]
    },
    {
     "cell_type": "markdown",
     "metadata": {},
     "source": [
      "## First... Why IPython Parallel?\n",
      "\n",
      "One common complaint levied against IPython is that it's too bloated.  Why does a project which started as an enhanced Python interpreter include Parallel tools?  You can hear the answer from IPython's creators in [This Scipy 2012 Keynote](http://pyvideo.org/video/1221/ipython-tools-for-the-entire-lifecycle-of-resear).  In it, Fernando Perez says IPython is\n",
      "\n",
      "> *\"A tool for managing the entire lifecycle of a scientific idea\"*\n",
      "\n",
      "\n",
      "This life-cycle includes the following:\n",
      "\n",
      "- Individual exploratory work\n",
      "- Collaborative development\n",
      "- Production work (HPC, cloud, parallel computing)\n",
      "- Publication\n",
      "- Education\n",
      "\n",
      "Within this context, you can see how the IPython interpreter, parallel tools, and the notebook all fit the vision.\n",
      "\n",
      "Additionally, it is a natural fit because the underlying message-passing architecture necessary for the IPython notebook is also a natural platform for parallel computing."
     ]
    },
    {
     "cell_type": "markdown",
     "metadata": {},
     "source": [
      "## IPython Parallel Architecture\n",
      "<img src=\"files/images/wideView.png\" style=\"float: right;margin-top: -4em\" width=\"400px\"/>\n",
      "\n",
      "The IPython architecture consists of four components:\n",
      "\n",
      "-   The IPython engine\n",
      "-   The IPython hub\n",
      "-   The IPython schedulers\n",
      "-   The cluster client\n",
      "\n",
      "These components live in the `IPython.parallel` package and are\n",
      "installed with IPython."
     ]
    },
    {
     "cell_type": "markdown",
     "metadata": {},
     "source": [
      "### IPython engine\n",
      "\n",
      "The IPython engine is a **Python kernel which takes commands over a network connection**.  There is one engine per core.\n",
      "\n",
      "An important property of an IPython engine is that it blocks while user code is being executed, which allows asynchronous execution.\n",
      "\n",
      "### IPython controller\n",
      "<img src=\"files/images/wideView.png\" style=\"float: right;margin-top: -4em\" width=\"400px\"/>\n",
      "\n",
      "The IPython controller **provides an interface for working with a\n",
      "set of engines.**\n",
      "\n",
      "At a general level, the controller is a collection of\n",
      "processes to which IPython engines and clients can connect. The\n",
      "controller is composed of a `Hub` and a collection of\n",
      "`Schedulers`, which may be in processes or threads.\n",
      "\n",
      "The controller provides a single point of contact for users who\n",
      "wish to utilize the engines in the cluster. There is a variety of\n",
      "different ways of working with a controller, but all of these\n",
      "models are implemented via the `View.apply` method, after\n",
      "constructing `View` objects to represent different collections engines.\n",
      "The two primary models for interacting with engines are:\n",
      "\n",
      "-   A **Direct** interface, where engines are addressed explicitly.\n",
      "-   A **LoadBalanced** interface, where the Scheduler is trusted with\n",
      "    assigning work to appropriate engines.\n",
      "\n",
      "Advanced users can readily extend the View models to enable other styles\n",
      "of parallelism.\n",
      "\n",
      "#### The Hub\n",
      "The center of an IPython cluster is the Hub.  The Hub can be viewed as an \u00fcber-logger, which keeps track of engine connections, schedulers, clients, as well as persist all\n",
      "task requests and results in a database for later use.\n",
      "\n",
      "\n",
      "#### Schedulers\n",
      "All actions that can be performed on the engine go through a Scheduler.\n",
      "While the engines themselves block when user code is run, the schedulers\n",
      "hide that from the user to provide a fully asynchronous interface to a\n",
      "set of engines.  Each Scheduler is a small GIL-less function in C provided\n",
      "by pyzmq (the Python load-balanced scheduler being an exception). "
     ]
    },
    {
     "cell_type": "markdown",
     "metadata": {},
     "source": [
      "## Getting Started\n",
      "\n",
      "The first thing required for using IPython Parallel is to start the cluster.  By default, this will start a local cluster on your own computer, utilizing your CPU's multiple cores if available.\n",
      "\n",
      "There are two ways to do this.\n",
      "\n",
      "### From the command-line\n",
      "On the command-line, you can run the following command to start an IPython cluster:\n",
      "\n",
      "    [~]$ ipcluster start -n 4\n",
      "    \n",
      "will start a cluster with 4 cores (probably what you have available on a modern laptop).  To use as many cores as are available, leave out the ``n``:\n",
      "\n",
      "    [~]$ ipcluster start\n",
      "    \n",
      "This spins-up a Python kernel on each core, along with a hub that connects to them.\n",
      "\n",
      "### From the notebook interface\n",
      "Within the IPython notebook, you can use the *Clusters* tab of the dashboard, and press *Start* with the desired number of cores, under the desired profile (more on profiles later).  This will automatically run the correct commands to start your IPython cluster."
     ]
    },
    {
     "cell_type": "markdown",
     "metadata": {},
     "source": [
      "## Accessing the Clients\n",
      "\n",
      "To make sure everything is working, let's run a simple example.  We'll use the ``IPython.parallel`` submodule to get a view of the clients, and print the client ids:"
     ]
    },
    {
     "cell_type": "code",
     "collapsed": false,
     "input": [
      "from IPython import parallel\n",
      "clients = parallel.Client()\n",
      "clients.block = True  # use synchronous computations\n",
      "print clients.ids"
     ],
     "language": "python",
     "metadata": {},
     "outputs": [
      {
       "output_type": "stream",
       "stream": "stdout",
       "text": [
        "[0, 1, 2, 3]\n"
       ]
      }
     ],
     "prompt_number": 1
    },
    {
     "cell_type": "markdown",
     "metadata": {},
     "source": [
      "Now we can use this object to run some code.  Let's define a simple function that we will execute on the cores:"
     ]
    },
    {
     "cell_type": "code",
     "collapsed": false,
     "input": [
      "def mul(a, b):\n",
      "    return a * b\n",
      "\n",
      "mul(5, 6)"
     ],
     "language": "python",
     "metadata": {},
     "outputs": [
      {
       "metadata": {},
       "output_type": "pyout",
       "prompt_number": 2,
       "text": [
        "30"
       ]
      }
     ],
     "prompt_number": 2
    },
    {
     "cell_type": "markdown",
     "metadata": {},
     "source": [
      "Now let's execute ``mul`` on the first engine:"
     ]
    },
    {
     "cell_type": "code",
     "collapsed": false,
     "input": [
      "clients[0].apply(mul, 5, 6)"
     ],
     "language": "python",
     "metadata": {},
     "outputs": [
      {
       "metadata": {},
       "output_type": "pyout",
       "prompt_number": 3,
       "text": [
        "30"
       ]
      }
     ],
     "prompt_number": 3
    },
    {
     "cell_type": "markdown",
     "metadata": {},
     "source": [
      "Notice that the *function* becomes the first argument of ``apply``, and any\n",
      "additional arguments or keyword arguments are passed after it.\n",
      "\n",
      "We can similarly execute ``mul`` in parallel on all the engines at once:"
     ]
    },
    {
     "cell_type": "code",
     "collapsed": false,
     "input": [
      "clients[:].apply(mul, 5, 6)"
     ],
     "language": "python",
     "metadata": {},
     "outputs": [
      {
       "metadata": {},
       "output_type": "pyout",
       "prompt_number": 4,
       "text": [
        "[30, 30, 30, 30]"
       ]
      }
     ],
     "prompt_number": 4
    },
    {
     "cell_type": "markdown",
     "metadata": {},
     "source": [
      "But say we want to pass different arguments to each instance of ``mul``. In normal Python, we could do this with the ``map()`` function:"
     ]
    },
    {
     "cell_type": "code",
     "collapsed": false,
     "input": [
      "map(mul, [5, 6, 7, 8], [8, 9, 10, 11])"
     ],
     "language": "python",
     "metadata": {},
     "outputs": [
      {
       "metadata": {},
       "output_type": "pyout",
       "prompt_number": 5,
       "text": [
        "[40, 54, 70, 88]"
       ]
      }
     ],
     "prompt_number": 5
    },
    {
     "cell_type": "markdown",
     "metadata": {},
     "source": [
      "The client views also have a map function which does the execution in parallel.  Let's use a load-balanced view so that the IPython scheduler takes care of farming the tasks for us:"
     ]
    },
    {
     "cell_type": "code",
     "collapsed": false,
     "input": [
      "view = clients.load_balanced_view()\n",
      "view.map(mul, [5, 6, 7, 8], [8, 9, 10, 11])"
     ],
     "language": "python",
     "metadata": {},
     "outputs": [
      {
       "metadata": {},
       "output_type": "pyout",
       "prompt_number": 6,
       "text": [
        "[40, 54, 70, 88]"
       ]
      }
     ],
     "prompt_number": 6
    },
    {
     "cell_type": "markdown",
     "metadata": {},
     "source": [
      "This is the basic interface to parallel computation in IPython!"
     ]
    },
    {
     "cell_type": "markdown",
     "metadata": {},
     "source": [
      "## Basic Concepts\n",
      "\n",
      "### The Client\n",
      "The client is a lightweight handle on all the engines of a cluster:"
     ]
    },
    {
     "cell_type": "code",
     "collapsed": false,
     "input": [
      "clients = parallel.Client(profile='default')\n",
      "print len(clients)"
     ],
     "language": "python",
     "metadata": {},
     "outputs": [
      {
       "output_type": "stream",
       "stream": "stdout",
       "text": [
        "4\n"
       ]
      }
     ],
     "prompt_number": 7
    },
    {
     "cell_type": "markdown",
     "metadata": {},
     "source": [
      "### Views\n",
      "Views provide the fundamental ways of accessing the clients.  There are two types of views:\n",
      "\n",
      "#### Direct View\n",
      "A direct view allows direct execution of a command on *all* the engines:"
     ]
    },
    {
     "cell_type": "code",
     "collapsed": false,
     "input": [
      "clients.block = True\n",
      "dview = clients.direct_view()\n",
      "dview.block = True\n",
      "print dview"
     ],
     "language": "python",
     "metadata": {},
     "outputs": [
      {
       "output_type": "stream",
       "stream": "stdout",
       "text": [
        "<DirectView all>\n"
       ]
      }
     ],
     "prompt_number": 8
    },
    {
     "cell_type": "code",
     "collapsed": false,
     "input": [
      "dview.apply(sum, [1, 2, 3])"
     ],
     "language": "python",
     "metadata": {},
     "outputs": [
      {
       "metadata": {},
       "output_type": "pyout",
       "prompt_number": 9,
       "text": [
        "[6, 6, 6, 6]"
       ]
      }
     ],
     "prompt_number": 9
    },
    {
     "cell_type": "markdown",
     "metadata": {},
     "source": [
      "You can also obtain a Direct view by slicing the ``Clients`` object:"
     ]
    },
    {
     "cell_type": "code",
     "collapsed": false,
     "input": [
      "clients[::2]"
     ],
     "language": "python",
     "metadata": {},
     "outputs": [
      {
       "metadata": {},
       "output_type": "pyout",
       "prompt_number": 10,
       "text": [
        "<DirectView [0, 2]>"
       ]
      }
     ],
     "prompt_number": 10
    },
    {
     "cell_type": "code",
     "collapsed": false,
     "input": [
      "clients[::2].apply(sum, [1, 2, 3])"
     ],
     "language": "python",
     "metadata": {},
     "outputs": [
      {
       "metadata": {},
       "output_type": "pyout",
       "prompt_number": 11,
       "text": [
        "[6, 6]"
       ]
      }
     ],
     "prompt_number": 11
    },
    {
     "cell_type": "markdown",
     "metadata": {},
     "source": [
      "#### Load Balanced View\n",
      "\n",
      "A load balanced view allows execution of a command on *any one* engine.  Which engine is used is up to the scheduler:"
     ]
    },
    {
     "cell_type": "code",
     "collapsed": false,
     "input": [
      "lview = clients.load_balanced_view()\n",
      "print lview"
     ],
     "language": "python",
     "metadata": {},
     "outputs": [
      {
       "output_type": "stream",
       "stream": "stdout",
       "text": [
        "<LoadBalancedView None>\n"
       ]
      }
     ],
     "prompt_number": 12
    },
    {
     "cell_type": "code",
     "collapsed": false,
     "input": [
      "lview.apply(sum, [1, 2, 3])"
     ],
     "language": "python",
     "metadata": {},
     "outputs": [
      {
       "metadata": {},
       "output_type": "pyout",
       "prompt_number": 13,
       "text": [
        "6"
       ]
      }
     ],
     "prompt_number": 13
    },
    {
     "cell_type": "markdown",
     "metadata": {},
     "source": [
      "### Introspection: looking at the Process ID\n",
      "\n",
      "One way to introspect what's going on is to get the Process ID of the engines.\n",
      "This gives a unique label of any running process on your computer.  If you have\n",
      "a cluster running on multiple computers, you can also print the hostname to see\n",
      "which host each cluster is running on:"
     ]
    },
    {
     "cell_type": "code",
     "collapsed": false,
     "input": [
      "import os\n",
      "import socket\n",
      "print os.getpid()\n",
      "print socket.gethostname()"
     ],
     "language": "python",
     "metadata": {},
     "outputs": [
      {
       "output_type": "stream",
       "stream": "stdout",
       "text": [
        "1306\n",
        "mathews-mbp.hhmi.org\n"
       ]
      }
     ],
     "prompt_number": 14
    },
    {
     "cell_type": "code",
     "collapsed": false,
     "input": [
      "dview.apply(os.getpid)"
     ],
     "language": "python",
     "metadata": {},
     "outputs": [
      {
       "metadata": {},
       "output_type": "pyout",
       "prompt_number": 15,
       "text": [
        "[1256, 1257, 1258, 1259]"
       ]
      }
     ],
     "prompt_number": 15
    },
    {
     "cell_type": "code",
     "collapsed": false,
     "input": [
      "for i in range(5):\n",
      "    print lview.apply(os.getpid)"
     ],
     "language": "python",
     "metadata": {},
     "outputs": [
      {
       "output_type": "stream",
       "stream": "stdout",
       "text": [
        "1256\n",
        "1257\n",
        "1259\n",
        "1258\n",
        "1256\n"
       ]
      }
     ],
     "prompt_number": 16
    },
    {
     "cell_type": "markdown",
     "metadata": {},
     "source": [
      "Notice that the load-balanced view chooses engines somewhat randomly (it's not actually random, but is based on a process which is opaque to the user)."
     ]
    },
    {
     "cell_type": "markdown",
     "metadata": {},
     "source": [
      "## Working with Direct Views:\n",
      "\n",
      "The direct view is an interface in which **each engine is directly exposed to the user**.\n",
      "\n",
      "The direct view is a very flexible wrapper of the client.  Let's look at a few ways of managing remote execution and remote data with direct views.  We'll look at the following:\n",
      "\n",
      "- Blocking vs. non-blocking execution\n",
      "- Ways to manage remote execution\n",
      "- Ways to manage & access remote data"
     ]
    },
    {
     "cell_type": "code",
     "collapsed": false,
     "input": [
      "clients = parallel.Client()\n",
      "dview = clients[:]"
     ],
     "language": "python",
     "metadata": {},
     "outputs": [],
     "prompt_number": 17
    },
    {
     "cell_type": "markdown",
     "metadata": {},
     "source": [
      "### DirectView: blocking vs. non-blocking\n",
      "\n",
      "In a DirectView interface, we can either use **Blocking** (synchronous) execution, in which all results must finish computing before any results are recorded, or **non-blocking** (asynchronous) execution, where we receive results as they finish.\n",
      "\n",
      "Here's an example of the two:"
     ]
    },
    {
     "cell_type": "code",
     "collapsed": false,
     "input": [
      "def get_pid_slowly():\n",
      "    # imports in the function, otherwise these imports\n",
      "    # don't happen on the engines\n",
      "    import os\n",
      "    import time\n",
      "    import random\n",
      "    \n",
      "    # sleep up to 10 seconds\n",
      "    time.sleep(10 * random.random())\n",
      "    return os.getpid()"
     ],
     "language": "python",
     "metadata": {},
     "outputs": [],
     "prompt_number": 18
    },
    {
     "cell_type": "code",
     "collapsed": false,
     "input": [
      "dview.block = True\n",
      "dview.apply(get_pid_slowly)"
     ],
     "language": "python",
     "metadata": {},
     "outputs": [
      {
       "metadata": {},
       "output_type": "pyout",
       "prompt_number": 19,
       "text": [
        "[1256, 1257, 1258, 1259]"
       ]
      }
     ],
     "prompt_number": 19
    },
    {
     "cell_type": "markdown",
     "metadata": {},
     "source": [
      "Notice that all three results come back at the same time, after all are finished computing.\n",
      "\n",
      "Let's now see what happens if we use non-blocking execution:"
     ]
    },
    {
     "cell_type": "code",
     "collapsed": false,
     "input": [
      "dview.block = False\n",
      "dview.apply(get_pid_slowly)"
     ],
     "language": "python",
     "metadata": {},
     "outputs": [
      {
       "metadata": {},
       "output_type": "pyout",
       "prompt_number": 20,
       "text": [
        "<AsyncResult: get_pid_slowly>"
       ]
      }
     ],
     "prompt_number": 20
    },
    {
     "cell_type": "markdown",
     "metadata": {},
     "source": [
      "What is returned is an ``AsyncResult`` object."
     ]
    },
    {
     "cell_type": "code",
     "collapsed": false,
     "input": [
      "res = dview.apply(get_pid_slowly)"
     ],
     "language": "python",
     "metadata": {},
     "outputs": [],
     "prompt_number": 21
    },
    {
     "cell_type": "code",
     "collapsed": false,
     "input": [
      "res.ready()"
     ],
     "language": "python",
     "metadata": {},
     "outputs": [
      {
       "metadata": {},
       "output_type": "pyout",
       "prompt_number": 25,
       "text": [
        "True"
       ]
      }
     ],
     "prompt_number": 25
    },
    {
     "cell_type": "markdown",
     "metadata": {},
     "source": [
      "We can ask if the result is ready using the ``ready()`` command.  Once it's ready, we can get the result with the ``get()`` command"
     ]
    },
    {
     "cell_type": "code",
     "collapsed": false,
     "input": [
      "res.ready()"
     ],
     "language": "python",
     "metadata": {},
     "outputs": [
      {
       "metadata": {},
       "output_type": "pyout",
       "prompt_number": 24,
       "text": [
        "True"
       ]
      }
     ],
     "prompt_number": 24
    },
    {
     "cell_type": "code",
     "collapsed": false,
     "input": [
      "res.get()"
     ],
     "language": "python",
     "metadata": {},
     "outputs": [
      {
       "metadata": {},
       "output_type": "pyout",
       "prompt_number": 26,
       "text": [
        "[1256, 1257, 1258, 1259]"
       ]
      }
     ],
     "prompt_number": 26
    },
    {
     "cell_type": "markdown",
     "metadata": {},
     "source": [
      "For convenience, you can also use the ``apply_sync`` and ``apply_async`` commands"
     ]
    },
    {
     "cell_type": "code",
     "collapsed": false,
     "input": [
      "dview.apply_sync(get_pid_slowly)"
     ],
     "language": "python",
     "metadata": {},
     "outputs": [
      {
       "metadata": {},
       "output_type": "pyout",
       "prompt_number": 27,
       "text": [
        "[1256, 1257, 1258, 1259]"
       ]
      }
     ],
     "prompt_number": 27
    },
    {
     "cell_type": "code",
     "collapsed": false,
     "input": [
      "dview.apply_async(get_pid_slowly)"
     ],
     "language": "python",
     "metadata": {},
     "outputs": [
      {
       "metadata": {},
       "output_type": "pyout",
       "prompt_number": 28,
       "text": [
        "<AsyncResult: get_pid_slowly>"
       ]
      }
     ],
     "prompt_number": 28
    },
    {
     "cell_type": "markdown",
     "metadata": {},
     "source": [
      "### DirectView: Remote Imports\n",
      "\n",
      "You might notice that you get errors if you've not imported certain modules on the engines.  For example:"
     ]
    },
    {
     "cell_type": "code",
     "collapsed": false,
     "input": [
      "import numpy\n",
      "def normalize_vector(v):\n",
      "    return numpy.asarray(v) / numpy.linalg.norm(v)"
     ],
     "language": "python",
     "metadata": {},
     "outputs": [],
     "prompt_number": 29
    },
    {
     "cell_type": "code",
     "collapsed": false,
     "input": [
      "x = numpy.random.random(5)\n",
      "normalize_vector(x)"
     ],
     "language": "python",
     "metadata": {},
     "outputs": [
      {
       "metadata": {},
       "output_type": "pyout",
       "prompt_number": 30,
       "text": [
        "array([ 0.09819503,  0.57856175,  0.30233928,  0.5655073 ,  0.49438496])"
       ]
      }
     ],
     "prompt_number": 30
    },
    {
     "cell_type": "code",
     "collapsed": false,
     "input": [
      "dview.block = True\n",
      "dview.apply(normalize_vector, x)"
     ],
     "language": "python",
     "metadata": {},
     "outputs": [
      {
       "ename": "CompositeError",
       "evalue": "one or more exceptions from call to method: normalize_vector\n[0:apply]: NameError: global name 'numpy' is not defined\n[1:apply]: NameError: global name 'numpy' is not defined\n[2:apply]: NameError: global name 'numpy' is not defined\n[3:apply]: NameError: global name 'numpy' is not defined",
       "output_type": "pyerr",
       "traceback": [
        "[0:apply]: ",
        "\u001b[0;31m---------------------------------------------------------------------------\u001b[0m",
        "\u001b[0;31mNameError\u001b[0m                                 Traceback (most recent call last)\u001b[0;32m<string>\u001b[0m in \u001b[0;36m<module>\u001b[0;34m()\u001b[0m",
        "\u001b[0;32m<ipython-input-29-bb245818ec0d>\u001b[0m in \u001b[0;36mnormalize_vector\u001b[0;34m(v)\u001b[0m",
        "\u001b[0;31mNameError\u001b[0m: global name 'numpy' is not defined",
        "",
        "[1:apply]: ",
        "\u001b[0;31m---------------------------------------------------------------------------\u001b[0m",
        "\u001b[0;31mNameError\u001b[0m                                 Traceback (most recent call last)\u001b[0;32m<string>\u001b[0m in \u001b[0;36m<module>\u001b[0;34m()\u001b[0m",
        "\u001b[0;32m<ipython-input-29-bb245818ec0d>\u001b[0m in \u001b[0;36mnormalize_vector\u001b[0;34m(v)\u001b[0m",
        "\u001b[0;31mNameError\u001b[0m: global name 'numpy' is not defined",
        "",
        "[2:apply]: ",
        "\u001b[0;31m---------------------------------------------------------------------------\u001b[0m",
        "\u001b[0;31mNameError\u001b[0m                                 Traceback (most recent call last)\u001b[0;32m<string>\u001b[0m in \u001b[0;36m<module>\u001b[0;34m()\u001b[0m",
        "\u001b[0;32m<ipython-input-29-bb245818ec0d>\u001b[0m in \u001b[0;36mnormalize_vector\u001b[0;34m(v)\u001b[0m",
        "\u001b[0;31mNameError\u001b[0m: global name 'numpy' is not defined",
        "",
        "[3:apply]: ",
        "\u001b[0;31m---------------------------------------------------------------------------\u001b[0m",
        "\u001b[0;31mNameError\u001b[0m                                 Traceback (most recent call last)\u001b[0;32m<string>\u001b[0m in \u001b[0;36m<module>\u001b[0;34m()\u001b[0m",
        "\u001b[0;32m<ipython-input-29-bb245818ec0d>\u001b[0m in \u001b[0;36mnormalize_vector\u001b[0;34m(v)\u001b[0m",
        "\u001b[0;31mNameError\u001b[0m: global name 'numpy' is not defined",
        ""
       ]
      }
     ],
     "prompt_number": 31
    },
    {
     "cell_type": "markdown",
     "metadata": {},
     "source": [
      "Though we've imported ``numpy`` on our *local* engine, we haven't imported ``numpy`` on any of our other engines, so the code won't work.\n",
      "\n",
      "There are a few ways to execute imports on other engines.  We can do this directly with the ``execute`` method:"
     ]
    },
    {
     "cell_type": "code",
     "collapsed": false,
     "input": [
      "dview.execute('import numpy')"
     ],
     "language": "python",
     "metadata": {},
     "outputs": [
      {
       "metadata": {},
       "output_type": "pyout",
       "prompt_number": 32,
       "text": [
        "<AsyncResult: finished>"
       ]
      }
     ],
     "prompt_number": 32
    },
    {
     "cell_type": "markdown",
     "metadata": {},
     "source": [
      "Alternatively, we can use the ``sync_imports`` context manager to make this happen:"
     ]
    },
    {
     "cell_type": "code",
     "collapsed": false,
     "input": [
      "with dview.sync_imports():\n",
      "    import numpy"
     ],
     "language": "python",
     "metadata": {},
     "outputs": [
      {
       "output_type": "stream",
       "stream": "stdout",
       "text": [
        "importing numpy on engine(s)\n"
       ]
      }
     ],
     "prompt_number": 33
    },
    {
     "cell_type": "markdown",
     "metadata": {},
     "source": [
      "Or, we can use the ``px`` (parallel execute) magic function to execute the contents of the cell on every engine:"
     ]
    },
    {
     "cell_type": "code",
     "collapsed": false,
     "input": [
      "%px import numpy"
     ],
     "language": "python",
     "metadata": {},
     "outputs": [],
     "prompt_number": 34
    },
    {
     "cell_type": "markdown",
     "metadata": {},
     "source": [
      "After doing any of these, we're able to run our function and see the results:"
     ]
    },
    {
     "cell_type": "code",
     "collapsed": false,
     "input": [
      "dview.apply(normalize_vector, x)"
     ],
     "language": "python",
     "metadata": {},
     "outputs": [
      {
       "metadata": {},
       "output_type": "pyout",
       "prompt_number": 35,
       "text": [
        "[array([ 0.09819503,  0.57856175,  0.30233928,  0.5655073 ,  0.49438496]),\n",
        " array([ 0.09819503,  0.57856175,  0.30233928,  0.5655073 ,  0.49438496]),\n",
        " array([ 0.09819503,  0.57856175,  0.30233928,  0.5655073 ,  0.49438496]),\n",
        " array([ 0.09819503,  0.57856175,  0.30233928,  0.5655073 ,  0.49438496])]"
       ]
      }
     ],
     "prompt_number": 35
    },
    {
     "cell_type": "markdown",
     "metadata": {},
     "source": [
      "### DirectView: running scripts remotely\n",
      "\n",
      "We can use a direct view to run a given script on each client.  For example, let's look at the following script:"
     ]
    },
    {
     "cell_type": "code",
     "collapsed": false,
     "input": [
      "%%file myscript.py\n",
      "import numpy\n",
      "\n",
      "a = 5\n",
      "\n",
      "def square(x):\n",
      "    return x * x"
     ],
     "language": "python",
     "metadata": {},
     "outputs": [
      {
       "output_type": "stream",
       "stream": "stdout",
       "text": [
        "Writing myscript.py\n"
       ]
      }
     ],
     "prompt_number": 36
    },
    {
     "cell_type": "markdown",
     "metadata": {},
     "source": [
      "Now we can run this script on each of our clients:"
     ]
    },
    {
     "cell_type": "code",
     "collapsed": false,
     "input": [
      "dview.run(\"myscript.py\")"
     ],
     "language": "python",
     "metadata": {},
     "outputs": [
      {
       "metadata": {},
       "output_type": "pyout",
       "prompt_number": 37,
       "text": [
        "<AsyncResult: finished>"
       ]
      }
     ],
     "prompt_number": 37
    },
    {
     "cell_type": "markdown",
     "metadata": {},
     "source": [
      "To look at the data, let's use the dictionary interface:"
     ]
    },
    {
     "cell_type": "code",
     "collapsed": false,
     "input": [
      "print dview['a']"
     ],
     "language": "python",
     "metadata": {},
     "outputs": [
      {
       "output_type": "stream",
       "stream": "stdout",
       "text": [
        "[5, 5, 5, 5]\n"
       ]
      }
     ],
     "prompt_number": 38
    },
    {
     "cell_type": "code",
     "collapsed": false,
     "input": [
      "print dview['square']"
     ],
     "language": "python",
     "metadata": {},
     "outputs": [
      {
       "output_type": "stream",
       "stream": "stdout",
       "text": [
        "[<function square at 0x110e5f848>, <function square at 0x110e5f8c0>, <function square at 0x110e5f938>, <function square at 0x110e5f9b0>]\n"
       ]
      }
     ],
     "prompt_number": 39
    },
    {
     "cell_type": "markdown",
     "metadata": {},
     "source": [
      "We can also use the dictionary interface to assign data:"
     ]
    },
    {
     "cell_type": "code",
     "collapsed": false,
     "input": [
      "dview['b'] = 4\n",
      "print dview['b']"
     ],
     "language": "python",
     "metadata": {},
     "outputs": [
      {
       "output_type": "stream",
       "stream": "stdout",
       "text": [
        "[4, 4, 4, 4]\n"
       ]
      }
     ],
     "prompt_number": 40
    },
    {
     "cell_type": "markdown",
     "metadata": {},
     "source": [
      "Now the variables ``a`` and ``b`` are defined globally on all our engines."
     ]
    },
    {
     "cell_type": "markdown",
     "metadata": {},
     "source": [
      "### DirectView: execute() method\n",
      "\n",
      "Code can also be executed directly on the engine by passing strings to the engines.\n",
      "First, let's look at the definitions of ``a`` and ``b`` on our engines:"
     ]
    },
    {
     "cell_type": "code",
     "collapsed": false,
     "input": [
      "print dview['a']\n",
      "print dview['b']"
     ],
     "language": "python",
     "metadata": {},
     "outputs": [
      {
       "output_type": "stream",
       "stream": "stdout",
       "text": [
        "[5, 5, 5, 5]\n",
        "[4, 4, 4, 4]\n"
       ]
      }
     ],
     "prompt_number": 41
    },
    {
     "cell_type": "markdown",
     "metadata": {},
     "source": [
      "Now we'll use ``execute()`` to add ``a`` and ``b`` and save the result to ``c``:"
     ]
    },
    {
     "cell_type": "code",
     "collapsed": false,
     "input": [
      "dview.execute('c=a+b')"
     ],
     "language": "python",
     "metadata": {},
     "outputs": [
      {
       "metadata": {},
       "output_type": "pyout",
       "prompt_number": 42,
       "text": [
        "<AsyncResult: finished>"
       ]
      }
     ],
     "prompt_number": 42
    },
    {
     "cell_type": "code",
     "collapsed": false,
     "input": [
      "dview['c']"
     ],
     "language": "python",
     "metadata": {},
     "outputs": [
      {
       "metadata": {},
       "output_type": "pyout",
       "prompt_number": 43,
       "text": [
        "[9, 9, 9, 9]"
       ]
      }
     ],
     "prompt_number": 43
    },
    {
     "cell_type": "markdown",
     "metadata": {},
     "source": [
      "We can also execute code on any subset of the engines:"
     ]
    },
    {
     "cell_type": "code",
     "collapsed": false,
     "input": [
      "clients[:2].execute('c=a*b')"
     ],
     "language": "python",
     "metadata": {},
     "outputs": [
      {
       "metadata": {},
       "output_type": "pyout",
       "prompt_number": 44,
       "text": [
        "<AsyncResult: execute>"
       ]
      }
     ],
     "prompt_number": 44
    },
    {
     "cell_type": "code",
     "collapsed": false,
     "input": [
      "dview['c']"
     ],
     "language": "python",
     "metadata": {},
     "outputs": [
      {
       "metadata": {},
       "output_type": "pyout",
       "prompt_number": 45,
       "text": [
        "[20, 20, 9, 9]"
       ]
      }
     ],
     "prompt_number": 45
    },
    {
     "cell_type": "markdown",
     "metadata": {},
     "source": [
      "This is the basic way to push and pull data to and from the client and engines."
     ]
    },
    {
     "cell_type": "markdown",
     "metadata": {},
     "source": [
      "### Parallel Magics\n",
      "\n",
      "We saw this above, but one nice way to interface to the clients is through the ``%px`` magic functions.  This works only within the IPython notebook, but is a nice shortcut for simple parallel execution.  Basically, anything after the ``%px`` on a line is executed on every engine:"
     ]
    },
    {
     "cell_type": "code",
     "collapsed": false,
     "input": [
      "%px c = numpy.random.random(3)\n",
      "%px print c"
     ],
     "language": "python",
     "metadata": {},
     "outputs": [
      {
       "output_type": "stream",
       "stream": "stdout",
       "text": [
        "[stdout:0] [ 0.65332477  0.36357429  0.80887454]\n",
        "[stdout:1] [ 0.78360386  0.87382869  0.55726496]\n",
        "[stdout:2] [ 0.72727759  0.28775269  0.08387488]\n",
        "[stdout:3] [ 0.54978364  0.94368679  0.15192811]\n"
       ]
      }
     ],
     "prompt_number": 47
    },
    {
     "cell_type": "markdown",
     "metadata": {},
     "source": [
      "If you want to execute multiple lines at once, you can use the ``%%px`` cell magic to do this:"
     ]
    },
    {
     "cell_type": "code",
     "collapsed": false,
     "input": [
      "%%px\n",
      "c = numpy.random.random(5)\n",
      "c *= a\n",
      "print c"
     ],
     "language": "python",
     "metadata": {},
     "outputs": [
      {
       "output_type": "stream",
       "stream": "stdout",
       "text": [
        "[stdout:0] [ 0.4432559   4.95732401  4.23982694  2.65310188  0.94056906]\n",
        "[stdout:1] [ 3.03321266  0.77453036  3.44921886  3.5170516   1.58951602]\n",
        "[stdout:2] [ 1.85764891  1.30603269  2.84435073  4.70099619  1.78731836]\n",
        "[stdout:3] [ 1.89939541  2.71434541  3.88896132  4.83128343  0.5915427 ]\n"
       ]
      }
     ],
     "prompt_number": 48
    },
    {
     "cell_type": "markdown",
     "metadata": {},
     "source": [
      "Again, we can access the variables directly using the dictionary interface:"
     ]
    },
    {
     "cell_type": "code",
     "collapsed": false,
     "input": [
      "dview['c']"
     ],
     "language": "python",
     "metadata": {},
     "outputs": [
      {
       "metadata": {},
       "output_type": "pyout",
       "prompt_number": 49,
       "text": [
        "[array([ 0.4432559 ,  4.95732401,  4.23982694,  2.65310188,  0.94056906]),\n",
        " array([ 3.03321266,  0.77453036,  3.44921886,  3.5170516 ,  1.58951602]),\n",
        " array([ 1.85764891,  1.30603269,  2.84435073,  4.70099619,  1.78731836]),\n",
        " array([ 1.89939541,  2.71434541,  3.88896132,  4.83128343,  0.5915427 ])]"
       ]
      }
     ],
     "prompt_number": 49
    },
    {
     "cell_type": "markdown",
     "metadata": {},
     "source": [
      "### DirectView: Scatter and Gather\n",
      "\n",
      "One very useful way to push and pull data is using the ``scatter()`` and ``gather()`` commands.  This will take an array and partition it among the parallel instances:"
     ]
    },
    {
     "cell_type": "code",
     "collapsed": false,
     "input": [
      "import numpy as np\n",
      "dview.scatter('a', np.arange(24))\n",
      "dview['a']"
     ],
     "language": "python",
     "metadata": {},
     "outputs": [
      {
       "metadata": {},
       "output_type": "pyout",
       "prompt_number": 51,
       "text": [
        "[array([0, 1, 2, 3, 4, 5]),\n",
        " array([ 6,  7,  8,  9, 10, 11]),\n",
        " array([12, 13, 14, 15, 16, 17]),\n",
        " array([18, 19, 20, 21, 22, 23])]"
       ]
      }
     ],
     "prompt_number": 51
    },
    {
     "cell_type": "markdown",
     "metadata": {},
     "source": [
      "Notice that the contents of ``a`` are partitioned and scattered among the instances.  To bring them back, we can use ``gather()``:"
     ]
    },
    {
     "cell_type": "code",
     "collapsed": false,
     "input": [
      "a = dview.gather('a')\n",
      "a"
     ],
     "language": "python",
     "metadata": {},
     "outputs": [
      {
       "metadata": {},
       "output_type": "pyout",
       "prompt_number": 52,
       "text": [
        "array([ 0,  1,  2,  3,  4,  5,  6,  7,  8,  9, 10, 11, 12, 13, 14, 15, 16,\n",
        "       17, 18, 19, 20, 21, 22, 23])"
       ]
      }
     ],
     "prompt_number": 52
    },
    {
     "cell_type": "markdown",
     "metadata": {},
     "source": [
      "So, for example, you might do an operation something like this:"
     ]
    },
    {
     "cell_type": "code",
     "collapsed": false,
     "input": [
      "x = np.random.random(400)\n",
      "dview.scatter('x', x)\n",
      "dview.execute('y = numpy.sqrt(x)')\n",
      "y = dview.gather('y')\n",
      "\n",
      "print np.allclose(y, np.sqrt(x))"
     ],
     "language": "python",
     "metadata": {},
     "outputs": [
      {
       "output_type": "stream",
       "stream": "stdout",
       "text": [
        "True\n"
       ]
      }
     ],
     "prompt_number": 54
    },
    {
     "cell_type": "markdown",
     "metadata": {},
     "source": [
      "This is a somewhat trivial computation, but if you had a larger computation that could be done on partitions of the data, it would allow you to speed your calculation according to the number of cores available."
     ]
    },
    {
     "cell_type": "markdown",
     "metadata": {},
     "source": [
      "### Example: distributed matrix multiplication\n",
      "\n",
      "Let's write a simple distributed matrix multiplication function.\n",
      "\n",
      "First, let's look at how ``scatter`` works with matrices:"
     ]
    },
    {
     "cell_type": "code",
     "collapsed": false,
     "input": [
      "A = np.random.random((8, 3))\n",
      "dview.scatter('A', A)\n",
      "print A\n",
      "print\n",
      "for chunk in dview['A']:\n",
      "    print chunk"
     ],
     "language": "python",
     "metadata": {},
     "outputs": [
      {
       "output_type": "stream",
       "stream": "stdout",
       "text": [
        "[[ 0.23094878  0.49778801  0.51530591]\n",
        " [ 0.30121478  0.30276061  0.01554383]\n",
        " [ 0.72470129  0.30585047  0.09942055]\n",
        " [ 0.19622411  0.13583609  0.32058792]\n",
        " [ 0.40459983  0.35232715  0.28160958]\n",
        " [ 0.49675358  0.92103235  0.4622296 ]\n",
        " [ 0.59294355  0.19622897  0.48833085]\n",
        " [ 0.95904774  0.07401145  0.29124607]]\n",
        "\n",
        "[[ 0.23094878  0.49778801  0.51530591]\n",
        " [ 0.30121478  0.30276061  0.01554383]]\n",
        "[[ 0.72470129  0.30585047  0.09942055]\n",
        " [ 0.19622411  0.13583609  0.32058792]]\n",
        "[[ 0.40459983  0.35232715  0.28160958]\n",
        " [ 0.49675358  0.92103235  0.4622296 ]]\n",
        "[[ 0.59294355  0.19622897  0.48833085]\n",
        " [ 0.95904774  0.07401145  0.29124607]]\n"
       ]
      }
     ],
     "prompt_number": 55
    },
    {
     "cell_type": "markdown",
     "metadata": {},
     "source": [
      "So scattering a matrix breaks it up into blocks... we can perform a matrix multiplication on each of these blocks, and gather the individual results to get the final result!"
     ]
    },
    {
     "cell_type": "code",
     "collapsed": false,
     "input": [
      "def parallel_dot(dview, A, B):\n",
      "    dview.scatter('A', A)\n",
      "    dview['B'] = B\n",
      "    dview.execute('C = numpy.dot(A, B)')\n",
      "    return dview.gather('C')\n",
      "\n",
      "A = np.random.random((10, 3))\n",
      "B = np.random.random((3, 5))\n",
      "\n",
      "np.allclose(parallel_dot(dview, A, B),\n",
      "            np.dot(A, B))"
     ],
     "language": "python",
     "metadata": {},
     "outputs": [
      {
       "metadata": {},
       "output_type": "pyout",
       "prompt_number": 56,
       "text": [
        "True"
       ]
      }
     ],
     "prompt_number": 56
    },
    {
     "cell_type": "markdown",
     "metadata": {},
     "source": [
      "## Working with Load-balanced Views\n",
      "\n",
      "Direct views are a nice low-level interface to the clients, but for most tasks it can be more helpful to use Load-balanced views.\n",
      "\n",
      "A load-balanced view is a fault-tolerant way to distribute tasks among the engines.  While there is no direct access to individual engines, it provides a simple and powerful interface."
     ]
    },
    {
     "cell_type": "code",
     "collapsed": false,
     "input": [
      "lview = clients.load_balanced_view()"
     ],
     "language": "python",
     "metadata": {},
     "outputs": [],
     "prompt_number": 57
    },
    {
     "cell_type": "code",
     "collapsed": false,
     "input": [
      "def sleep_and_return(factor=10):\n",
      "    import time\n",
      "    import random\n",
      "    r = factor * random.random()\n",
      "    time.sleep(r)\n",
      "    return r"
     ],
     "language": "python",
     "metadata": {},
     "outputs": [],
     "prompt_number": 58
    },
    {
     "cell_type": "code",
     "collapsed": false,
     "input": [
      "lview.block = True\n",
      "lview.apply(sleep_and_return, 1)"
     ],
     "language": "python",
     "metadata": {},
     "outputs": [
      {
       "metadata": {},
       "output_type": "pyout",
       "prompt_number": 59,
       "text": [
        "0.10634122218412512"
       ]
      }
     ],
     "prompt_number": 59
    },
    {
     "cell_type": "markdown",
     "metadata": {},
     "source": [
      "Using ``apply`` on a load balanced view simply executes the function once.\n",
      "\n",
      "We can use the ``map`` function to execute multiple inputs.  We'll use ``block=False`` to make sure the results come asynchronously:"
     ]
    },
    {
     "cell_type": "code",
     "collapsed": false,
     "input": [
      "lview.block = False\n",
      "res = lview.map(sleep_and_return, range(10))"
     ],
     "language": "python",
     "metadata": {},
     "outputs": [],
     "prompt_number": 71
    },
    {
     "cell_type": "code",
     "collapsed": false,
     "input": [
      "res.ready()"
     ],
     "language": "python",
     "metadata": {},
     "outputs": [
      {
       "metadata": {},
       "output_type": "pyout",
       "prompt_number": 72,
       "text": [
        "False"
       ]
      }
     ],
     "prompt_number": 72
    },
    {
     "cell_type": "markdown",
     "metadata": {},
     "source": [
      "The ``progress`` attribute tells us how many of the jobs have been completed up to this point:"
     ]
    },
    {
     "cell_type": "code",
     "collapsed": false,
     "input": [
      "import time\n",
      "while not res.ready():\n",
      "    time.sleep(1)\n",
      "    print res.progress"
     ],
     "language": "python",
     "metadata": {},
     "outputs": [
      {
       "output_type": "stream",
       "stream": "stdout",
       "text": [
        "5\n",
        "6"
       ]
      },
      {
       "output_type": "stream",
       "stream": "stdout",
       "text": [
        "\n",
        "8"
       ]
      },
      {
       "output_type": "stream",
       "stream": "stdout",
       "text": [
        "\n",
        "9"
       ]
      },
      {
       "output_type": "stream",
       "stream": "stdout",
       "text": [
        "\n",
        "9"
       ]
      },
      {
       "output_type": "stream",
       "stream": "stdout",
       "text": [
        "\n",
        "9"
       ]
      },
      {
       "output_type": "stream",
       "stream": "stdout",
       "text": [
        "\n",
        "9"
       ]
      },
      {
       "output_type": "stream",
       "stream": "stdout",
       "text": [
        "\n",
        "10"
       ]
      },
      {
       "output_type": "stream",
       "stream": "stdout",
       "text": [
        "\n"
       ]
      }
     ],
     "prompt_number": 73
    },
    {
     "cell_type": "markdown",
     "metadata": {},
     "source": [
      "Once all the results are finished, we can use the ``result`` attribute to get at them:"
     ]
    },
    {
     "cell_type": "code",
     "collapsed": false,
     "input": [
      "res.result"
     ],
     "language": "python",
     "metadata": {},
     "outputs": [
      {
       "metadata": {},
       "output_type": "pyout",
       "prompt_number": 74,
       "text": [
        "[0.0,\n",
        " 0.25698634058055125,\n",
        " 1.0336774443578842,\n",
        " 2.4262691077366796,\n",
        " 1.1935237398981782,\n",
        " 4.35347885578226,\n",
        " 2.5388091525500367,\n",
        " 3.9281973934433494,\n",
        " 3.245343825736861,\n",
        " 6.074434985448711]"
       ]
      }
     ],
     "prompt_number": 74
    },
    {
     "cell_type": "markdown",
     "metadata": {},
     "source": [
      "The load-balanced view also includes an iterator which will return results as they come in:"
     ]
    },
    {
     "cell_type": "code",
     "collapsed": false,
     "input": [
      "for result in lview.map(sleep_and_return, range(10)):\n",
      "    print result"
     ],
     "language": "python",
     "metadata": {},
     "outputs": [
      {
       "output_type": "stream",
       "stream": "stdout",
       "text": [
        "0.0\n",
        "0.198608363322"
       ]
      },
      {
       "output_type": "stream",
       "stream": "stdout",
       "text": [
        "\n",
        "0.0902959533463\n",
        "2.53298891682"
       ]
      },
      {
       "output_type": "stream",
       "stream": "stdout",
       "text": [
        "\n",
        "0.913763646146\n",
        "4.6921637445"
       ]
      },
      {
       "output_type": "stream",
       "stream": "stdout",
       "text": [
        "\n",
        "1.98253039671\n",
        "3.2111964128\n",
        "2.68247483056"
       ]
      },
      {
       "output_type": "stream",
       "stream": "stdout",
       "text": [
        "\n",
        "1.42717972548\n"
       ]
      }
     ],
     "prompt_number": 75
    },
    {
     "cell_type": "markdown",
     "metadata": {},
     "source": [
      "## Exercise: Monte Carlo $\\pi$\n",
      "\n",
      "Here you'll do a quick exercise where you estimate $\\pi$ using a rudimentary Monte Carlo method.  Imagine you have a 2x2 square dart board and you randomly throw darts at it."
     ]
    },
    {
     "cell_type": "code",
     "collapsed": false,
     "input": [
      "%pylab inline\n",
      "x, y = 2 * np.random.random((2, 500)) - 1\n",
      "\n",
      "ax = plt.axes(aspect='equal', xticks=[], yticks=[], frameon=False)\n",
      "ax.scatter(x, y, c=(x ** 2 + y ** 2 < 1), cmap=plt.cm.binary)\n",
      "ax.add_patch(mpl.patches.Circle((0, 0), 1, zorder=0, fc='#FFAAAA'))"
     ],
     "language": "python",
     "metadata": {},
     "outputs": [
      {
       "output_type": "stream",
       "stream": "stdout",
       "text": [
        "Populating the interactive namespace from numpy and matplotlib\n"
       ]
      },
      {
       "metadata": {},
       "output_type": "pyout",
       "prompt_number": 76,
       "text": [
        "<matplotlib.patches.Circle at 0x111e8fc10>"
       ]
      },
      {
       "metadata": {},
       "output_type": "display_data",
       "png": "[encoded data removed]",
       "text": [
        "<matplotlib.figure.Figure at 0x11101c950>"
       ]
      }
     ],
     "prompt_number": 76
    },
    {
     "cell_type": "markdown",
     "metadata": {},
     "source": [
      "  The probability that those darts will fall within 1 unit of the center is\n",
      "\n",
      "$$\n",
      "p = \\frac{\\rm Area~of~circle}{Area~of~square} = \\frac{\\pi\\cdot 1^2}{2^2} = \\frac{\\pi}{4}\n",
      "$$\n",
      "\n",
      "So if you throw $N$ darts, you can estimate $\\pi$ to be equal to\n",
      "$$\n",
      "\\pi = 4\\frac{N_{in}}{N}\n",
      "$$\n",
      "\n",
      "Here we'll write a function to estimate $\\pi$ using a random number generator:"
     ]
    },
    {
     "cell_type": "code",
     "collapsed": false,
     "input": [
      "def estimate_pi(N):\n",
      "    r = np.random.random((N, 2))\n",
      "    inside = np.sum(r ** 2, 1) <= 1\n",
      "    return 4 * inside.sum() * 1. / N"
     ],
     "language": "python",
     "metadata": {},
     "outputs": [],
     "prompt_number": 89
    },
    {
     "cell_type": "code",
     "collapsed": false,
     "input": [
      "estimate_pi(1E6)\n",
      "print range(100)"
     ],
     "language": "python",
     "metadata": {},
     "outputs": [
      {
       "output_type": "stream",
       "stream": "stdout",
       "text": [
        "[0, 1, 2, 3, 4, 5, 6, 7, 8, 9, 10, 11, 12, 13, 14, 15, 16, 17, 18, 19, 20, 21, 22, 23, 24, 25, 26, 27, 28, 29, 30, 31, 32, 33, 34, 35, 36, 37, 38, 39, 40, 41, 42, 43, 44, 45, 46, 47, 48, 49, 50, 51, 52, 53, 54, 55, 56, 57, 58, 59, 60, 61, 62, 63, 64, 65, 66, 67, 68, 69, 70, 71, 72, 73, 74, 75, 76, 77, 78, 79, 80, 81, 82, 83, 84, 85, 86, 87, 88, 89, 90, 91, 92, 93, 94, 95, 96, 97, 98, 99]\n"
       ]
      }
     ],
     "prompt_number": 98
    },
    {
     "cell_type": "markdown",
     "metadata": {},
     "source": [
      "Write a function which uses a **Load-balanced View** to parallelize this estimation of pi:"
     ]
    },
    {
     "cell_type": "code",
     "collapsed": false,
     "input": [
      "def estimate_pi(N_per_trial):\n",
      "    import numpy as np\n",
      "    N = N_per_trial*1E6\n",
      "    r = np.random.random((N, 2))\n",
      "    inside = np.sum(r ** 2, 1) <= 1\n",
      "    return 4 * inside.sum() * 1. / N\n",
      "    # your code here:\n",
      "    # distribute the N trials across the load-balanced view,\n",
      "    # using lview.map() and return the average of the results\n",
      "    \n",
      "lview.block = False\n",
      "res = lview.map(estimate_pi, range(5,15))\n",
      "\n",
      "import time\n",
      "while not res.ready():\n",
      "    time.sleep(1)\n",
      "    print res.progress\n",
      "\n",
      "print res.result\n",
      "print np.mean(res.result)"
     ],
     "language": "python",
     "metadata": {},
     "outputs": [
      {
       "output_type": "stream",
       "stream": "stdout",
       "text": [
        "5\n",
        "9"
       ]
      },
      {
       "output_type": "stream",
       "stream": "stdout",
       "text": [
        "\n",
        "10"
       ]
      },
      {
       "output_type": "stream",
       "stream": "stdout",
       "text": [
        "\n",
        "[3.1422376000000001, 3.1406420000000002, 3.1426245714285712, 3.141254, 3.1413768888888889, 3.1411340000000001, 3.1417890909090911, 3.1413319999999998, 3.141848, 3.1411794285714287]\n",
        "3.14154175798\n"
       ]
      }
     ],
     "prompt_number": 102
    },
    {
     "cell_type": "markdown",
     "metadata": {},
     "source": [
      "Note that this is certainly **not** the best way to estimate $\\pi$, but it shows how you can use IPython parallel to do distributed Monte Carlo simulations, which can be **very** useful in practice."
     ]
    },
    {
     "cell_type": "markdown",
     "metadata": {},
     "source": [
      "## Homework\n",
      "\n",
      "For the homework today, we'll look at two Astronomy applications.  You may **choose one** (or both, if you want more practice) to turn in.  In both of them, we'll return to a problem that we've seen before, but extend our computation using IPython parallel.\n",
      "\n",
      "As usual, you can turn-in your results via GitHub: use either an IPython notebook, or a stand-alone ``.py`` file."
     ]
    },
    {
     "cell_type": "markdown",
     "metadata": {},
     "source": [
      "### 1. Cross-validation of photometric redshifts\n",
      "\n",
      "In the [Scikit-learn homework](http://www.astro.washington.edu/users/vanderplas/Astr599/notebooks/17_SklearnIntro) a few weeks ago, we looked at different regression schemes for computing photometric redshifts (see Exercise 2).  Return to this, and determine the minimum rms you can achieve given combinations of ``max_depth`` and ``n_estimators`` in the random forest regressor\n",
      "\n",
      "Here's how we'll download and prepare the data:"
     ]
    },
    {
     "cell_type": "code",
     "collapsed": false,
     "input": [
      "from astroML.datasets import fetch_sdss_specgals\n",
      "import numpy as np\n",
      "data = fetch_sdss_specgals()\n",
      "\n",
      "# put magnitudes in a matrix\n",
      "X = np.vstack([data['modelMag_%s' % f] for f in 'ugriz']).T\n",
      "y = data['z']\n",
      "\n",
      "# down-sample the data for speed\n",
      "X = X[::10]\n",
      "y = y[::10]"
     ],
     "language": "python",
     "metadata": {},
     "outputs": []
    },
    {
     "cell_type": "markdown",
     "metadata": {},
     "source": [
      "Here's an example of using cross-validation to compute the ``r2`` score for a given ``C``:"
     ]
    },
    {
     "cell_type": "code",
     "collapsed": false,
     "input": [
      "from sklearn.ensemble import RandomForestRegressor\n",
      "from sklearn.cross_validation import cross_val_score, StratifiedKFold\n",
      "\n",
      "# define the model with the given value of C\n",
      "model = RandomForestRegressor(n_estimators=10, max_depth=3)\n",
      "\n",
      "# compute the scores via cross-validation\n",
      "scores = cross_val_score(model, X, y,\n",
      "                         scoring='r2', cv=3)\n",
      "\n",
      "# print the mean of the cross-validation scores\n",
      "score = np.mean(scores)\n",
      "print score"
     ],
     "language": "python",
     "metadata": {},
     "outputs": []
    },
    {
     "cell_type": "markdown",
     "metadata": {},
     "source": [
      "Write a script that uses a parallel computation to explore what the best value of ``max_depth`` and ``n_estimators`` is.  What's the maximal score you can obtain?"
     ]
    },
    {
     "cell_type": "markdown",
     "metadata": {},
     "source": [
      "### 2. Computing Periods of Stars\n",
      "\n",
      "In the lecture on [optimization](http://www.astro.washington.edu/users/vanderplas/Astr599/notebooks/14_optimization), we looked at computing the periods of LINEAR stars using the lomb-scargle algorithm.\n",
      "\n",
      "Write a script which uses IPython parallel to compute the periods of ~1000 stars from the LINEAR dataset.  Plot the log of the period you found vs the g-i color of the star.  You can compare your results to [this paper](http://adsabs.harvard.edu/abs/2013AJ....146..101P), though the Lomb-Scargle period-finder might lead to slightly different results.\n",
      "\n",
      "Here's how to get the data:"
     ]
    },
    {
     "cell_type": "code",
     "collapsed": false,
     "input": [
      "from astroML.datasets import fetch_LINEAR_sample\n",
      "lcs = fetch_LINEAR_sample()\n",
      "\n",
      "id_ = lcs.ids[0]\n",
      "time, flux, dflux = lcs[id_].T"
     ],
     "language": "python",
     "metadata": {},
     "outputs": []
    },
    {
     "cell_type": "markdown",
     "metadata": {},
     "source": [
      "And here's how to compute the lomb-scargle periodogram:"
     ]
    },
    {
     "cell_type": "code",
     "collapsed": false,
     "input": [
      "from astroML.time_series import lomb_scargle\n",
      "periods = np.logspace(-2, 0, 10000)\n",
      "periodogram = lomb_scargle(time, flux, dflux, omega=2 * np.pi / periods, generalized=True)"
     ],
     "language": "python",
     "metadata": {},
     "outputs": []
    },
    {
     "cell_type": "markdown",
     "metadata": {},
     "source": [
      "Now we find the maximum period:"
     ]
    },
    {
     "cell_type": "code",
     "collapsed": false,
     "input": [
      "idx = np.argsort(periodogram)\n",
      "print periods[idx[-1]]"
     ],
     "language": "python",
     "metadata": {},
     "outputs": []
    },
    {
     "cell_type": "markdown",
     "metadata": {},
     "source": [
      "And we get the $g-r$ color:"
     ]
    },
    {
     "cell_type": "code",
     "collapsed": false,
     "input": [
      "g_r = lcs.get_target_parameter(id_, 'gr')\n",
      "print g_r"
     ],
     "language": "python",
     "metadata": {},
     "outputs": []
    },
    {
     "cell_type": "markdown",
     "metadata": {},
     "source": [
      "You'll have to automate the task of computing the best period, and use a ``LoadBalancedView`` to distribute this across as many cores as you have available."
     ]
    }
   ],
   "metadata": {}
  }
 ]
}