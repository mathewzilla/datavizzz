{
 "metadata": {
  "name": "",
  "signature": "sha256:c1599f3d0e1e39260f18fb77097bfb5081799180227c187a3dc3691567c4f656"
 },
 "nbformat": 3,
 "nbformat_minor": 0,
 "worksheets": [
  {
   "cells": [
    {
     "cell_type": "markdown",
     "metadata": {},
     "source": [
      "# WorldCup2014.ipynb\n",
      "## A World Cup 2014 Interactive Wallchart!\n",
      "\n",
      "### Exactly what it says on the tin, an interactive tournament planner for the 2014 FIFA World Cup in Brazil. Powered by d3.js\n"
     ]
    },
    {
     "cell_type": "code",
     "collapsed": false,
     "input": [],
     "language": "python",
     "metadata": {},
     "outputs": []
    }
   ],
   "metadata": {}
  }
 ]
}