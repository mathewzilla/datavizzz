{
 "metadata": {
  "name": "",
  "signature": "sha256:2e548b47e7481f2e96b6d4422559f6e845f88e66d3edb5d95b07014655e10d3c"
 },
 "nbformat": 3,
 "nbformat_minor": 0,
 "worksheets": [
  {
   "cells": [
    {
     "cell_type": "markdown",
     "metadata": {},
     "source": [
      "A World Cup 2014 Interactive Wallchart!\n",
      "======\n",
      "Exactly what it says on the tin, powered by d3.js\n",
      "-----"
     ]
    },
    {
     "cell_type": "code",
     "collapsed": false,
     "input": [],
     "language": "python",
     "metadata": {},
     "outputs": []
    }
   ],
   "metadata": {}
  }
 ]
}