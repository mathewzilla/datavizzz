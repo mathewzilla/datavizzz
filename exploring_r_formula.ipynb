{
 "metadata": {
  "name": "exploring_r_formula"
 },
 "nbformat": 3,
 "nbformat_minor": 0,
 "worksheets": [
  {
   "cells": [
    {
     "cell_type": "markdown",
     "metadata": {},
     "source": [
      "In which I try to explain the `R` formula object."
     ]
    },
    {
     "cell_type": "heading",
     "level": 2,
     "metadata": {},
     "source": [
      "What is an R formula?"
     ]
    },
    {
     "cell_type": "markdown",
     "metadata": {},
     "source": [
      "The standard reference on `R` / `S` models is Chapter 2 \"Statistical Models\" in \"Statistical models in S\", by John M. Chambers and Trevor J. Hastie (1992). I'll call this \"S models chapter 2\".\n",
      "\n",
      "> \"Formulas as discussed here follow generally the style of Wilkinson and Rogers (1973), and subsequently adopted by many statistical programs such as `GLIM` and `GENSTAT`.  While originally introduced in the context of the analysis of variance, the notation is in fact just a shorthand for expressing the set of terms defined separately and jointly by a number of variables, typically factors.\" (section 2.3.1 of S models chapter 2)"
     ]
    },
    {
     "cell_type": "markdown",
     "metadata": {},
     "source": [
      "Most of the time we'll be looking at the relationship of the R `formula` to the design matrix for a linear model.\n",
      "\n",
      "To start with, we're only going to be using the most basic operators in R's formula syntax, which are `+` and `:`.  `a + b` means \"include both of terms `a` and `b` in the model\", and `a:b` means \"model interaction between term `a` and term `b`\".  There are various other operators that we'll list later, that can be expressed in terms of the `+` and the `:`."
     ]
    },
    {
     "cell_type": "heading",
     "level": 2,
     "metadata": {},
     "source": [
      "Some code we need to get started"
     ]
    },
    {
     "cell_type": "markdown",
     "metadata": {},
     "source": [
      "First we start numpy for the array routines and matplotlib for the figures"
     ]
    },
    {
     "cell_type": "code",
     "collapsed": false,
     "input": [
      "%pylab inline"
     ],
     "language": "python",
     "metadata": {},
     "outputs": [
      {
       "output_type": "stream",
       "stream": "stdout",
       "text": [
        "\n",
        "Welcome to pylab, a matplotlib-based Python environment [backend: module://IPython.zmq.pylab.backend_inline].\n",
        "For more information, type 'help(pylab)'.\n"
       ]
      }
     ],
     "prompt_number": 1
    },
    {
     "cell_type": "markdown",
     "metadata": {},
     "source": [
      "Actually, we get the following imports from the `pylab` command above, but just to be clear"
     ]
    },
    {
     "cell_type": "code",
     "collapsed": false,
     "input": [
      "import numpy as np\n",
      "import matplotlib.pylab as plt"
     ],
     "language": "python",
     "metadata": {},
     "outputs": [],
     "prompt_number": 2
    },
    {
     "cell_type": "markdown",
     "metadata": {},
     "source": [
      "Next we start the extension to allow us to embed R commands in the notebook"
     ]
    },
    {
     "cell_type": "code",
     "collapsed": false,
     "input": [
      "%load_ext rmagic"
     ],
     "language": "python",
     "metadata": {},
     "outputs": [],
     "prompt_number": 3
    },
    {
     "cell_type": "markdown",
     "metadata": {},
     "source": [
      "I'm used to looking at design matrices as image plots, and to do that, I need some little utility functions for matplotlib"
     ]
    },
    {
     "cell_type": "code",
     "collapsed": false,
     "input": [
      "def scale_design_mtx(X):\n",
      "    \"\"\"utility to scale the design matrix for display\"\"\"\n",
      "    mi, ma = X.min(axis=0), X.max(axis=0)\n",
      "    col_neq = (ma - mi) > 1.e-8\n",
      "    Xs = np.ones_like(X)\n",
      "    mi = mi[col_neq]\n",
      "    ma = ma[col_neq]\n",
      "    Xs[:,col_neq] = (X[:,col_neq] - mi)/(ma - mi)\n",
      "    return Xs"
     ],
     "language": "python",
     "metadata": {},
     "outputs": [],
     "prompt_number": 4
    },
    {
     "cell_type": "code",
     "collapsed": false,
     "input": [
      "def show_x(X, title='Design matrix'):\n",
      "    \"\"\" Utility to show a design matrix \"\"\"\n",
      "    N, P = X.shape\n",
      "    plt.imshow(scale_design_mtx(X), interpolation='nearest', cmap=plt.cm.gray)\n",
      "    plt.title(title)\n",
      "    # Only integer ticks for the design matrix columns\n",
      "    ax = plt.gca()\n",
      "    ticks = ax.get_xticks()\n",
      "    ax.set_xticks(ticks[(ticks == np.round(ticks)) & (ticks >= 0)])\n",
      "    ax.set_xlim(-0.5, P-0.5)"
     ],
     "language": "python",
     "metadata": {},
     "outputs": [],
     "prompt_number": 5
    },
    {
     "cell_type": "markdown",
     "metadata": {},
     "source": [
      "Let's test that with a fake design matrix"
     ]
    },
    {
     "cell_type": "code",
     "collapsed": false,
     "input": [
      "show_x(np.random.normal(size=(10, 3)), 'My design')"
     ],
     "language": "python",
     "metadata": {},
     "outputs": [
      {
       "output_type": "display_data",
       "png": "[encoded data removed]"
      }
     ],
     "prompt_number": 6
    },
    {
     "cell_type": "heading",
     "level": 2,
     "metadata": {},
     "source": [
      "Exploring simple regression"
     ]
    },
    {
     "cell_type": "markdown",
     "metadata": {},
     "source": [
      "We start with a simple linear regression of one variable against another : $Y \\approx \\beta_1 x_1 + C$.  $Y$ is the vector of data we want to predict using the covariate $x_1$ times some slope $\\beta_1$ plus an intercept $C$.  Let's imagine that our data $y_i = y_1 ... y_N$ is a vector of citation scores for $N$ authors.  Maybe our covariate values $x_{1i} = x_{11} .. x_{1N}$ are the ages of author $i$."
     ]
    },
    {
     "cell_type": "code",
     "collapsed": false,
     "input": [
      "N = 15\n",
      "x1 = [49., 50, 45, 53, 69, 73, 35, 40, 36, 30, 49, 36, 73, 61, 74]\n",
      "Y = [ 132.03, 98.64, 146.24, 97.9, 145.12, 191.78, 155.34, 123.08, 140.87,\n",
      "      122.51, 146.08, 89.3, 134.52, 89.16, 136.08]"
     ],
     "language": "python",
     "metadata": {},
     "outputs": [],
     "prompt_number": 7
    },
    {
     "cell_type": "code",
     "collapsed": false,
     "input": [
      "%%R -i x1,Y -o X\n",
      "XYfit = lm(Y~x1)\n",
      "X = model.matrix(XYfit)"
     ],
     "language": "python",
     "metadata": {},
     "outputs": [],
     "prompt_number": 8
    },
    {
     "cell_type": "code",
     "collapsed": false,
     "input": [
      "X"
     ],
     "language": "python",
     "metadata": {},
     "outputs": [
      {
       "output_type": "pyout",
       "prompt_number": 9,
       "text": [
        "array([[  1.,  49.],\n",
        "       [  1.,  50.],\n",
        "       [  1.,  45.],\n",
        "       [  1.,  53.],\n",
        "       [  1.,  69.],\n",
        "       [  1.,  73.],\n",
        "       [  1.,  35.],\n",
        "       [  1.,  40.],\n",
        "       [  1.,  36.],\n",
        "       [  1.,  30.],\n",
        "       [  1.,  49.],\n",
        "       [  1.,  36.],\n",
        "       [  1.,  73.],\n",
        "       [  1.,  61.],\n",
        "       [  1.,  74.]])"
       ]
      }
     ],
     "prompt_number": 9
    },
    {
     "cell_type": "code",
     "collapsed": false,
     "input": [
      "show_x(X, 'Simple linear regression')"
     ],
     "language": "python",
     "metadata": {},
     "outputs": [
      {
       "output_type": "display_data",
       "png": "[encoded data removed]"
      }
     ],
     "prompt_number": 10
    },
    {
     "cell_type": "markdown",
     "metadata": {},
     "source": [
      "We don't have to specify data to get a model matrix:"
     ]
    },
    {
     "cell_type": "code",
     "collapsed": false,
     "input": [
      "%R model.matrix(~ x1)"
     ],
     "language": "python",
     "metadata": {},
     "outputs": [
      {
       "output_type": "pyout",
       "prompt_number": 11,
       "text": [
        "array([[  1.,  49.],\n",
        "       [  1.,  50.],\n",
        "       [  1.,  45.],\n",
        "       [  1.,  53.],\n",
        "       [  1.,  69.],\n",
        "       [  1.,  73.],\n",
        "       [  1.,  35.],\n",
        "       [  1.,  40.],\n",
        "       [  1.,  36.],\n",
        "       [  1.,  30.],\n",
        "       [  1.,  49.],\n",
        "       [  1.,  36.],\n",
        "       [  1.,  73.],\n",
        "       [  1.,  61.],\n",
        "       [  1.,  74.]])"
       ]
      }
     ],
     "prompt_number": 11
    },
    {
     "cell_type": "markdown",
     "metadata": {},
     "source": [
      "OK, so the first thing we see is that R decided we wanted an intercept.  The intercept became a column of ones in the design matrix, and goes first in the design matrix.  So, our model above, `Y ~ x1` is in fact `Y ~ x1 + 1` in R terms:"
     ]
    },
    {
     "cell_type": "code",
     "collapsed": false,
     "input": [
      "%R model.matrix(~x1 + 1)"
     ],
     "language": "python",
     "metadata": {},
     "outputs": [
      {
       "output_type": "pyout",
       "prompt_number": 12,
       "text": [
        "array([[  1.,  49.],\n",
        "       [  1.,  50.],\n",
        "       [  1.,  45.],\n",
        "       [  1.,  53.],\n",
        "       [  1.,  69.],\n",
        "       [  1.,  73.],\n",
        "       [  1.,  35.],\n",
        "       [  1.,  40.],\n",
        "       [  1.,  36.],\n",
        "       [  1.,  30.],\n",
        "       [  1.,  49.],\n",
        "       [  1.,  36.],\n",
        "       [  1.,  73.],\n",
        "       [  1.,  61.],\n",
        "       [  1.,  74.]])"
       ]
      }
     ],
     "prompt_number": 12
    },
    {
     "cell_type": "markdown",
     "metadata": {},
     "source": [
      "We see also that there's nothing we can do about where the column of ones goes; it goes at the front.  This is a specific application of some general rules that R applies when making the design matrix from a formula, as we'll see later."
     ]
    },
    {
     "cell_type": "markdown",
     "metadata": {},
     "source": [
      "If we already have a constant in the model we still get a new one, whether we asked for one or not."
     ]
    },
    {
     "cell_type": "code",
     "collapsed": false,
     "input": [
      "C = np.ones((N,))\n",
      "%Rpush C\n",
      "%R model.matrix(~x1 + C)"
     ],
     "language": "python",
     "metadata": {},
     "outputs": [
      {
       "output_type": "pyout",
       "prompt_number": 13,
       "text": [
        "array([[  1.,  49.,   1.],\n",
        "       [  1.,  50.,   1.],\n",
        "       [  1.,  45.,   1.],\n",
        "       [  1.,  53.,   1.],\n",
        "       [  1.,  69.,   1.],\n",
        "       [  1.,  73.,   1.],\n",
        "       [  1.,  35.,   1.],\n",
        "       [  1.,  40.,   1.],\n",
        "       [  1.,  36.,   1.],\n",
        "       [  1.,  30.,   1.],\n",
        "       [  1.,  49.,   1.],\n",
        "       [  1.,  36.,   1.],\n",
        "       [  1.,  73.,   1.],\n",
        "       [  1.,  61.,   1.],\n",
        "       [  1.,  74.,   1.]])"
       ]
      }
     ],
     "prompt_number": 13
    },
    {
     "cell_type": "markdown",
     "metadata": {},
     "source": [
      "But we can turn off the added constant by hand with the '- 1' shorthand:"
     ]
    },
    {
     "cell_type": "code",
     "collapsed": false,
     "input": [
      "%R model.matrix(~x1 - 1)"
     ],
     "language": "python",
     "metadata": {},
     "outputs": [
      {
       "output_type": "pyout",
       "prompt_number": 14,
       "text": [
        "array([[ 49.],\n",
        "       [ 50.],\n",
        "       [ 45.],\n",
        "       [ 53.],\n",
        "       [ 69.],\n",
        "       [ 73.],\n",
        "       [ 35.],\n",
        "       [ 40.],\n",
        "       [ 36.],\n",
        "       [ 30.],\n",
        "       [ 49.],\n",
        "       [ 36.],\n",
        "       [ 73.],\n",
        "       [ 61.],\n",
        "       [ 74.]])"
       ]
      }
     ],
     "prompt_number": 14
    },
    {
     "cell_type": "markdown",
     "metadata": {},
     "source": [
      "Multiple regression : $Y \\approx \\beta_1 x_1 + \\beta_2 x_2 + C$"
     ]
    },
    {
     "cell_type": "code",
     "collapsed": false,
     "input": [
      "x2 = np.arange(N)\n",
      "%Rpush x2\n",
      "X = %R model.matrix(~ x1 + x2)\n",
      "show_x(X, 'Two variables')"
     ],
     "language": "python",
     "metadata": {},
     "outputs": [
      {
       "output_type": "display_data",
       "png": "[encoded data removed]"
      }
     ],
     "prompt_number": 15
    },
    {
     "cell_type": "markdown",
     "metadata": {},
     "source": [
      "Yes, intercept at the front, `x1`, then `x2`"
     ]
    },
    {
     "cell_type": "code",
     "collapsed": false,
     "input": [
      "X = %R model.matrix(~ x2 + x1)\n",
      "show_x(X, 'Same two variables')"
     ],
     "language": "python",
     "metadata": {},
     "outputs": [
      {
       "output_type": "display_data",
       "png": "[encoded data removed]"
      }
     ],
     "prompt_number": 16
    },
    {
     "cell_type": "markdown",
     "metadata": {},
     "source": [
      "You can see from the plot above that the order of columns in the design matrix is determined by order of entry of variables into the formula."
     ]
    },
    {
     "cell_type": "markdown",
     "metadata": {},
     "source": [
      "R uses `:` for expressing the *interaction* between variables:"
     ]
    },
    {
     "cell_type": "code",
     "collapsed": false,
     "input": [
      "X = %R model.matrix(~x1 + x2 + x1:x2)\n",
      "show_x(X, \"Two variables and their interaction\")"
     ],
     "language": "python",
     "metadata": {},
     "outputs": [
      {
       "output_type": "display_data",
       "png": "[encoded data removed]"
      }
     ],
     "prompt_number": 17
    },
    {
     "cell_type": "markdown",
     "metadata": {},
     "source": [
      "In this case it is an interaction between two numerical variables, but later we'll see interaction between factors.  The interaction column for two numerical variables like `x1` and `x2` is the elementwise product of `x1` and `x2`."
     ]
    },
    {
     "cell_type": "code",
     "collapsed": false,
     "input": [
      "X[:,3] == x1 * x2"
     ],
     "language": "python",
     "metadata": {},
     "outputs": [
      {
       "output_type": "pyout",
       "prompt_number": 18,
       "text": [
        "array([ True,  True,  True,  True,  True,  True,  True,  True,  True,\n",
        "        True,  True,  True,  True,  True,  True], dtype=bool)"
       ]
      }
     ],
     "prompt_number": 18
    },
    {
     "cell_type": "markdown",
     "metadata": {},
     "source": [
      "The interaction column always comes after the \"main effects\" `x1` and `x2`, no matter how we ask for them"
     ]
    },
    {
     "cell_type": "code",
     "collapsed": false,
     "input": [
      "X2 = %R model.matrix(~ x1:x2 + x1 + x2)\n",
      "if np.all(X == X2):\n",
      "    print \"Designs are the same\"\n",
      "%R print(coef(lm(Y ~ x1:x2 + x1 + x2)))"
     ],
     "language": "python",
     "metadata": {},
     "outputs": [
      {
       "output_type": "stream",
       "stream": "stdout",
       "text": [
        "Designs are the same\n"
       ]
      },
      {
       "output_type": "display_data",
       "text": [
        "(Intercept)          x1          x2       x1:x2 \n",
        "78.19705800  1.15405802  2.57086251 -0.06924777 \n"
       ]
      }
     ],
     "prompt_number": 19
    },
    {
     "cell_type": "markdown",
     "metadata": {},
     "source": [
      "All the interactions come after all the main effects, even if there are other main effect not related to the interactions"
     ]
    },
    {
     "cell_type": "code",
     "collapsed": false,
     "input": [
      "x3 = np.random.normal(size=(N,))\n",
      "x4 = np.random.normal(size=(N,))\n",
      "%Rpush x3 x4"
     ],
     "language": "python",
     "metadata": {},
     "outputs": [],
     "prompt_number": 20
    },
    {
     "cell_type": "code",
     "collapsed": false,
     "input": [
      "%R print(coef(lm(Y ~ x1 + x2 + x1:x2 + x3 + x4)))"
     ],
     "language": "python",
     "metadata": {},
     "outputs": [
      {
       "output_type": "display_data",
       "text": [
        "(Intercept)          x1          x2          x3          x4       x1:x2 \n",
        " 54.7950866   1.6052856   6.9301647  -7.9637614 -13.8470418  -0.1535353 \n"
       ]
      }
     ],
     "prompt_number": 21
    },
    {
     "cell_type": "heading",
     "level": 2,
     "metadata": {},
     "source": [
      "Factors in formulae"
     ]
    },
    {
     "cell_type": "markdown",
     "metadata": {},
     "source": [
      "Quoting again from the Chambers and Hastie chapter, section 2.2.1: \"A factor is an object that represents values from some specified set of possible *levels*\".  For example, we might have a 'nationality' factor that represents the nationality of subjects in our sample.  Maybe the subjects all come from one of the USA, UK or France."
     ]
    },
    {
     "cell_type": "code",
     "collapsed": false,
     "input": [
      "nationality = ['USA'] * 5 + ['UK'] * 5 + ['France'] * 5"
     ],
     "language": "python",
     "metadata": {},
     "outputs": [],
     "prompt_number": 22
    },
    {
     "cell_type": "markdown",
     "metadata": {},
     "source": [
      "Because this is a string variable, R's formula will assume this is a factor"
     ]
    },
    {
     "cell_type": "code",
     "collapsed": false,
     "input": [
      "%Rpush nationality"
     ],
     "language": "python",
     "metadata": {},
     "outputs": [],
     "prompt_number": 23
    },
    {
     "cell_type": "code",
     "collapsed": false,
     "input": [
      "%R print(model.matrix( ~ nationality))"
     ],
     "language": "python",
     "metadata": {},
     "outputs": [
      {
       "output_type": "display_data",
       "text": [
        "   (Intercept) nationalityUK nationalityUSA\n",
        "1            1             0              1\n",
        "2            1             0              1\n",
        "3            1             0              1\n",
        "4            1             0              1\n",
        "5            1             0              1\n",
        "6            1             1              0\n",
        "7            1             1              0\n",
        "8            1             1              0\n",
        "9            1             1              0\n",
        "10           1             1              0\n",
        "11           1             0              0\n",
        "12           1             0              0\n",
        "13           1             0              0\n",
        "14           1             0              0\n",
        "15           1             0              0\n",
        "attr(,\"assign\")\n",
        "[1] 0 1 1\n",
        "attr(,\"contrasts\")\n",
        "attr(,\"contrasts\")$nationality\n",
        "[1] \"contr.treatment\"\n",
        "\n",
        "Warning message:\n",
        "In model.matrix.default(~nationality) :\n",
        "  variable 'nationality' converted to a factor\n"
       ]
      }
     ],
     "prompt_number": 24
    },
    {
     "cell_type": "markdown",
     "metadata": {},
     "source": [
      "To be more specific, and avoid the warning, we'll tell R that `nationality` is a factor:"
     ]
    },
    {
     "cell_type": "code",
     "collapsed": false,
     "input": [
      "%%R\n",
      "nationality = factor(nationality)\n",
      "print(levels(nationality))\n",
      "print(model.matrix( ~ nationality))"
     ],
     "language": "python",
     "metadata": {},
     "outputs": [
      {
       "output_type": "display_data",
       "text": [
        "[1] \"France\" \"UK\"     \"USA\"   \n",
        "   (Intercept) nationalityUK nationalityUSA\n",
        "1            1             0              1\n",
        "2            1             0              1\n",
        "3            1             0              1\n",
        "4            1             0              1\n",
        "5            1             0              1\n",
        "6            1             1              0\n",
        "7            1             1              0\n",
        "8            1             1              0\n",
        "9            1             1              0\n",
        "10           1             1              0\n",
        "11           1             0              0\n",
        "12           1             0              0\n",
        "13           1             0              0\n",
        "14           1             0              0\n",
        "15           1             0              0\n",
        "attr(,\"assign\")\n",
        "[1] 0 1 1\n",
        "attr(,\"contrasts\")\n",
        "attr(,\"contrasts\")$nationality\n",
        "[1] \"contr.treatment\"\n",
        "\n"
       ]
      }
     ],
     "prompt_number": 25
    },
    {
     "cell_type": "markdown",
     "metadata": {},
     "source": [
      "First note the levels.  R has sorted the levels alphabetically from the values in the vector.  So, the first level is now \"France\". Note the design matrix.  The intercept is there by default.  There are then two columns representing the factor.  The first is a column representing the difference between the reference level (the first level, \"France\") and the second level (\"UK\").  The second is a column representing the difference between \"France\" and \"USA\".  This is one of several possible choices for dummy variable coding of a factor in the design matrix.  This particular coding is called 'treatment' coding.  You'll see that noted as `'contr.treatment'` at the end of the model matrix printed output.  It's called 'treatment' coding because the first level is taken to be the 'no treatment' level and the others are taken to be 'treatment' groups to be compared to the no-treatment control."
     ]
    },
    {
     "cell_type": "markdown",
     "metadata": {},
     "source": [
      "It is interesting to think about the interpretetation of the coefficients $\\hat\\beta$. In this specific example, these coefficients are easily related to the difference of means between \"UK\" and \"France\", or \"USA\" and \"France\", but not directly to the mean of the observations for a specific country."
     ]
    },
    {
     "cell_type": "markdown",
     "metadata": {},
     "source": [
      "To see this, we think of the *fitted values* - that is, the values $\\hat{y}_i$.  What is the mean of the fitted values for $\\hat{y}_i$ for the \"USA\" authors?\n",
      "\n",
      "$$\n",
      "\\frac{1}{5} \\sum_{i=1}^5 \\hat{y}_i = \\hat\\beta_1 + \\hat\\beta_3\n",
      "$$\n",
      "\n",
      "In the same way, the mean for the fitted values for the \"UK\" are:\n",
      "\n",
      "$$\n",
      "\\frac{1}{5} \\sum_{i=6}^{10}\\hat{y}_i = \\hat\\beta_1 + \\hat\\beta_2 \n",
      "$$\n",
      "\n",
      "and for \"France\":\n",
      "\n",
      "$$\n",
      "\\frac{1}{5} \\sum_{i=11}^{15} \\hat{y}_i = \\hat\\beta_1 \n",
      "$$\n",
      "\n",
      "So the mean for the fitted values for the \"USA\" compared to the baseline is indeed our third coefficient:\n",
      "\n",
      "$$\n",
      "\\frac{1}{5}\\sum_{i=1}^5 \\hat{y}_i - \\frac{1}{5}\\sum_{i=11}^{15} \\hat{y}_i = \\hat\\beta_3\n",
      "$$"
     ]
    },
    {
     "cell_type": "markdown",
     "metadata": {},
     "source": [
      "There are various ways of changing how the factor gets coded as columns in the design matrix.  For example:"
     ]
    },
    {
     "cell_type": "code",
     "collapsed": false,
     "input": [
      "%R print(model.matrix( ~ C(nationality, helmert)))"
     ],
     "language": "python",
     "metadata": {},
     "outputs": [
      {
       "output_type": "display_data",
       "text": [
        "   (Intercept) C(nationality, helmert)1 C(nationality, helmert)2\n",
        "1            1                        0                        2\n",
        "2            1                        0                        2\n",
        "3            1                        0                        2\n",
        "4            1                        0                        2\n",
        "5            1                        0                        2\n",
        "6            1                        1                       -1\n",
        "7            1                        1                       -1\n",
        "8            1                        1                       -1\n",
        "9            1                        1                       -1\n",
        "10           1                        1                       -1\n",
        "11           1                       -1                       -1\n",
        "12           1                       -1                       -1\n",
        "13           1                       -1                       -1\n",
        "14           1                       -1                       -1\n",
        "15           1                       -1                       -1\n",
        "attr(,\"assign\")\n",
        "[1] 0 1 1\n",
        "attr(,\"contrasts\")\n",
        "attr(,\"contrasts\")$`C(nationality, helmert)`\n",
        "[1] \"contr.helmert\"\n",
        "\n"
       ]
      }
     ],
     "prompt_number": 26
    },
    {
     "cell_type": "markdown",
     "metadata": {},
     "source": [
      "This coding is of type 'helmert'; the first column encodes the difference between 'UK' and 'France'; the second is the difference between 'USA' and the average of ('UK', 'France')."
     ]
    },
    {
     "cell_type": "markdown",
     "metadata": {},
     "source": [
      "You can even pass in your own contrast matrices or vectors.  If a vector, as below, then R fills out the rest of the contrast matrix to make coding columns that cover the space of the factor."
     ]
    },
    {
     "cell_type": "code",
     "collapsed": false,
     "input": [
      "%R print(model.matrix( ~ C(nationality, c(2,-1,-1))))"
     ],
     "language": "python",
     "metadata": {},
     "outputs": [
      {
       "output_type": "display_data",
       "text": [
        "   (Intercept) C(nationality, c(2, -1, -1))1 C(nationality, c(2, -1, -1))2\n",
        "1            1                            -1                  7.071068e-01\n",
        "2            1                            -1                  7.071068e-01\n",
        "3            1                            -1                  7.071068e-01\n",
        "4            1                            -1                  7.071068e-01\n",
        "5            1                            -1                  7.071068e-01\n",
        "6            1                            -1                 -7.071068e-01\n",
        "7            1                            -1                 -7.071068e-01\n",
        "8            1                            -1                 -7.071068e-01\n",
        "9            1                            -1                 -7.071068e-01\n",
        "10           1                            -1                 -7.071068e-01\n",
        "11           1                             2                 -5.551115e-17\n",
        "12           1                             2                 -5.551115e-17\n",
        "13           1                             2                 -5.551115e-17\n",
        "14           1                             2                 -5.551115e-17\n",
        "15           1                             2                 -5.551115e-17\n",
        "attr(,\"assign\")\n",
        "[1] 0 1 1\n",
        "attr(,\"contrasts\")\n",
        "attr(,\"contrasts\")$`C(nationality, c(2, -1, -1))`\n",
        "       [,1]          [,2]\n",
        "France    2 -5.551115e-17\n",
        "UK       -1 -7.071068e-01\n",
        "USA      -1  7.071068e-01\n",
        "\n"
       ]
      }
     ],
     "prompt_number": 27
    },
    {
     "cell_type": "markdown",
     "metadata": {},
     "source": [
      "\"treatment\" and \"helmert\" and the `c(2, -1, -1)` option are *contrast* codings of the factor.  By \"coding\" I mean the coding of the factor in terms of dummy variables in the design matrix.  As the name implies, the contrast codings encode the means implied by the factors by contrasting the different levels.  Specifically for the default \"treatment\" coding, the coding contrasts the second level to the first, and the third level to the first."
     ]
    },
    {
     "cell_type": "heading",
     "level": 2,
     "metadata": {},
     "source": [
      "An interlude on vector spaces"
     ]
    },
    {
     "cell_type": "markdown",
     "metadata": {},
     "source": [
      "I've deliberately used the vague phrase 'encode the means' above, but now I'll get more specific.\n",
      "\n",
      "The design matrix $X$ is best thought of as the concatenation of the column vectors $x_1 .. x_P$ where $X$ is shape (dimension) $N, P$.  When we estimate our linear model, there will be a corresponding $P$ length vector of coefficients $\\beta_1 .. \\beta_P$ - call this vector $B$. We will fit our data $Y$ by choosing coefficients $B$ such that $Y \\approx X B$ in some sense of $\\approx$, such as least squares.\n",
      "\n",
      "The columns of $X$ define a *vector space*.  We can call this the *column space* of $X$. The column space of $X$ is the set of all vectors that can be formed by a some linear combination of the columns of $X$. For a given $B$, $X B$ is one particular vector in the column space of $X$.  The column space of a matrix $X$ obviously defines the range of vectors $X B$, and therefore constrains the ability of the design $X$ to fit the data $Y$.\n",
      "\n",
      "The column space of a matrix $W$ contains (spans) the column space of another matrix $X$ if, for all columns $x_1 .. x_i .. x_P$ there is some vector $B_i$ such that $x_i = W B_i$.  Let's say $W$ has $P_W$ columns. If we stack the column vectors $B_i$ into a $P_W, P$ matrix $C$ then we can rephrase the rule as: there is some matrix $C$ such that $X = W C$."
     ]
    },
    {
     "cell_type": "heading",
     "level": 2,
     "metadata": {},
     "source": [
      "Vector spaces, design matrices and factors"
     ]
    },
    {
     "cell_type": "markdown",
     "metadata": {},
     "source": [
      "Now let us return to the factor `nationality`.  What do we mean by a \"factor\"?  We mean that the observations $y_1 .. y_N$ each belong to one and only one of three groups, where the groups are \"USA\", \"UK\", and \"France\".  In terms of our statistical model, by including the factor `nationality`, we mean this:\n",
      "\n",
      "$y_i \\approx \\alpha_{USA} \\text{ if } \\mathtt{nationality}_i \\text{ is } \\mathtt{USA}$\n",
      "\n",
      "$y_i \\approx \\alpha_{UK} \\text{ if } \\mathtt{nationality}_i \\text{ is } \\mathtt{UK}$\n",
      "\n",
      "$y_i \\approx \\alpha_{France} \\text{ if } \\mathtt{nationality}_i \\text{ is } \\mathtt{France}$\n",
      "\n",
      "I can rephrase this model in terms of matrices by using \"indicator coding\".  There will be three columns in my matrix.  The first will be the indicator column for \"USA\", that contains a $1$ for rows corresponding to observations of type \"USA\" and a $0$ otherwise.  The second will contain a $1$ for \"UK\" observations, and the third a $1$ for \"France\" observations."
     ]
    },
    {
     "cell_type": "code",
     "collapsed": false,
     "input": [
      "nationality = np.array(nationality)\n",
      "indicate_usa = nationality == 'USA'\n",
      "indicate_uk = nationality == 'UK'\n",
      "indicate_france = nationality == 'France'\n",
      "X = np.column_stack((indicate_usa, indicate_uk, indicate_france)).astype(int)\n",
      "X"
     ],
     "language": "python",
     "metadata": {},
     "outputs": [
      {
       "output_type": "pyout",
       "prompt_number": 28,
       "text": [
        "array([[1, 0, 0],\n",
        "       [1, 0, 0],\n",
        "       [1, 0, 0],\n",
        "       [1, 0, 0],\n",
        "       [1, 0, 0],\n",
        "       [0, 1, 0],\n",
        "       [0, 1, 0],\n",
        "       [0, 1, 0],\n",
        "       [0, 1, 0],\n",
        "       [0, 1, 0],\n",
        "       [0, 0, 1],\n",
        "       [0, 0, 1],\n",
        "       [0, 0, 1],\n",
        "       [0, 0, 1],\n",
        "       [0, 0, 1]])"
       ]
      }
     ],
     "prompt_number": 28
    },
    {
     "cell_type": "markdown",
     "metadata": {},
     "source": [
      "We can now rephrase our factor model by stacking our coefficients $\\alpha_{USA}, \\alpha_{UK}, \\alpha_{France}$ into a column vector $A$, and rephrasing our model in matrix form as $Y = X A$. "
     ]
    },
    {
     "cell_type": "markdown",
     "metadata": {},
     "source": [
      "In this case, the parameters $\\hat\\beta$ are easily interpreted as the means of each group, since we have :\n",
      "\n",
      "$$\n",
      "\\frac{1}{5}\\sum_{i=1}^5 \\hat{y}_i =  \\hat\\beta_1\n",
      "$$\n",
      "$$\n",
      "\\frac{1}{5}\\sum_{i=6}^{10} \\hat{y}_i = \\hat\\beta_2 \n",
      "$$\n",
      "$$\n",
      "\\frac{1}{5}\\sum_{i=11}^{15} \\hat{y}_i = \\hat\\beta_3 \n",
      "$$\n"
     ]
    },
    {
     "cell_type": "markdown",
     "metadata": {},
     "source": [
      "What if we want to add an intercept to our design matrix $X$?  Let's call the design matrix with the intercept $W$:"
     ]
    },
    {
     "cell_type": "code",
     "collapsed": false,
     "input": [
      "W = np.column_stack((np.ones(N,), X))\n",
      "W"
     ],
     "language": "python",
     "metadata": {},
     "outputs": [
      {
       "output_type": "pyout",
       "prompt_number": 29,
       "text": [
        "array([[ 1.,  1.,  0.,  0.],\n",
        "       [ 1.,  1.,  0.,  0.],\n",
        "       [ 1.,  1.,  0.,  0.],\n",
        "       [ 1.,  1.,  0.,  0.],\n",
        "       [ 1.,  1.,  0.,  0.],\n",
        "       [ 1.,  0.,  1.,  0.],\n",
        "       [ 1.,  0.,  1.,  0.],\n",
        "       [ 1.,  0.,  1.,  0.],\n",
        "       [ 1.,  0.,  1.,  0.],\n",
        "       [ 1.,  0.,  1.,  0.],\n",
        "       [ 1.,  0.,  0.,  1.],\n",
        "       [ 1.,  0.,  0.,  1.],\n",
        "       [ 1.,  0.,  0.,  1.],\n",
        "       [ 1.,  0.,  0.,  1.],\n",
        "       [ 1.,  0.,  0.,  1.]])"
       ]
      }
     ],
     "prompt_number": 29
    },
    {
     "cell_type": "markdown",
     "metadata": {},
     "source": [
      "Our design has four columns, but one of them does not contribute to the column space of $W$, because $w_1 = w_2 + w_3 + w_4$.  That is the same as saying that any vector $S * w_1$ (where $S$ is a scalar) can be exactly given by $S * w2 + S * w_3 + S * w_4$.  Put another way, $X$ (with three column vectors) contains the column space of $W$ (with 4 column vectors).\n",
      "\n",
      "What should we do about this?  There are two options.  One is - do nothing.  Our design matrix $W$ has one column more than the minimum needed to span the column space, and if we find some parameters $B$ to fit the data $Y$ to the design $W$, then we will have to take some care in interpreting the parameters, because there will be a necessary relationship between $\\beta_1$ and $\\beta_2 + \\beta_3 + \\beta_4$.\n",
      "\n",
      "Another option is choose some new and reduced set of vectors to represent the factor, that we can append to the constant column, and that can nevertheless represent the column space of $X$ (the indicator columns).   That is what R refers to as \"contrast coding\" for factors.  Let's return to the default 'treatment' contrast coding:"
     ]
    },
    {
     "cell_type": "code",
     "collapsed": false,
     "input": [
      "Z = %R model.matrix( ~ nationality)\n",
      "Z"
     ],
     "language": "python",
     "metadata": {},
     "outputs": [
      {
       "output_type": "pyout",
       "prompt_number": 30,
       "text": [
        "array([[ 1.,  0.,  1.],\n",
        "       [ 1.,  0.,  1.],\n",
        "       [ 1.,  0.,  1.],\n",
        "       [ 1.,  0.,  1.],\n",
        "       [ 1.,  0.,  1.],\n",
        "       [ 1.,  1.,  0.],\n",
        "       [ 1.,  1.,  0.],\n",
        "       [ 1.,  1.,  0.],\n",
        "       [ 1.,  1.,  0.],\n",
        "       [ 1.,  1.,  0.],\n",
        "       [ 1.,  0.,  0.],\n",
        "       [ 1.,  0.,  0.],\n",
        "       [ 1.,  0.,  0.],\n",
        "       [ 1.,  0.,  0.],\n",
        "       [ 1.,  0.,  0.]])"
       ]
      }
     ],
     "prompt_number": 30
    },
    {
     "cell_type": "markdown",
     "metadata": {},
     "source": [
      "Does `Z` contain the column space of the indicator columns $X$?  Yes, because there is a $P, P$ matrix $C$ such that $X = Z C$:"
     ]
    },
    {
     "cell_type": "code",
     "collapsed": false,
     "input": [
      "C = np.array([[0, 0, 1], [0, 1, 0], [1, -1, -1]]).T\n",
      "np.dot(Z, C)"
     ],
     "language": "python",
     "metadata": {},
     "outputs": [
      {
       "output_type": "pyout",
       "prompt_number": 31,
       "text": [
        "array([[ 1.,  0.,  0.],\n",
        "       [ 1.,  0.,  0.],\n",
        "       [ 1.,  0.,  0.],\n",
        "       [ 1.,  0.,  0.],\n",
        "       [ 1.,  0.,  0.],\n",
        "       [ 0.,  1.,  0.],\n",
        "       [ 0.,  1.,  0.],\n",
        "       [ 0.,  1.,  0.],\n",
        "       [ 0.,  1.,  0.],\n",
        "       [ 0.,  1.,  0.],\n",
        "       [ 0.,  0.,  1.],\n",
        "       [ 0.,  0.,  1.],\n",
        "       [ 0.,  0.,  1.],\n",
        "       [ 0.,  0.,  1.],\n",
        "       [ 0.,  0.,  1.]])"
       ]
      }
     ],
     "prompt_number": 31
    },
    {
     "cell_type": "markdown",
     "metadata": {},
     "source": [
      "Does the treatment contrast coding have exactly the same column space as the indicator columns?  That is, can all vectors that are a combination of the columns of `Z` also be created from combinations of columns of `X`?  Yes, because our matrix $C$ above is invertible. If $C^{-1}$ is the inverse of $C$, then $Z = X C^{-1}$: "
     ]
    },
    {
     "cell_type": "code",
     "collapsed": false,
     "input": [
      "np.all(np.dot(X, np.linalg.inv(C)) == Z)"
     ],
     "language": "python",
     "metadata": {},
     "outputs": [
      {
       "output_type": "pyout",
       "prompt_number": 32,
       "text": [
        "True"
       ]
      }
     ],
     "prompt_number": 32
    },
    {
     "cell_type": "markdown",
     "metadata": {},
     "source": [
      "Therefore all vectors in the space of `Z` are also in the column space of `X`."
     ]
    },
    {
     "cell_type": "markdown",
     "metadata": {},
     "source": [
      "As a side-note, I can get the matrix that maps from the 3 indicator columns to the 2 contrast columns like this:"
     ]
    },
    {
     "cell_type": "code",
     "collapsed": false,
     "input": [
      "X_indicator = %R model.matrix(~ nationality-1)\n",
      "X_contrast = %R model.matrix(~ nationality)\n",
      "C_map = %R contr.treatment(3) # Three levels for nationality\n",
      "np.all(np.dot(X_indicator, C_map) == X_contrast[:, 1:])                                "
     ],
     "language": "python",
     "metadata": {},
     "outputs": [
      {
       "output_type": "pyout",
       "prompt_number": 33,
       "text": [
        "True"
       ]
      }
     ],
     "prompt_number": 33
    },
    {
     "cell_type": "markdown",
     "metadata": {},
     "source": [
      "It's easy to go from there to the full `C` matrix mapping from the indicator design to the intercept + contrast design:"
     ]
    },
    {
     "cell_type": "code",
     "collapsed": false,
     "input": [
      "C_map_with_inter = np.column_stack(([1, 1, 1], C_map))\n",
      "np.all(np.dot(X_indicator, C_map_with_inter) == X_contrast)"
     ],
     "language": "python",
     "metadata": {},
     "outputs": [
      {
       "output_type": "pyout",
       "prompt_number": 34,
       "text": [
        "True"
       ]
      }
     ],
     "prompt_number": 34
    },
    {
     "cell_type": "markdown",
     "metadata": {},
     "source": [
      "How about the \"helmert\" coding? Does that contain the column space of the indicator coding?"
     ]
    },
    {
     "cell_type": "code",
     "collapsed": false,
     "input": [
      "Z = %R model.matrix( ~ C(nationality, helmert))\n",
      "C = np.array([[1./3, -0.5, -1./6], [1./3, 0.5, -1./6], [1./3, 0, 1./3]]).T\n",
      "np.set_printoptions(suppress=True) # suppress very small floating point values\n",
      "np.dot(Z, C) # same as X_indicator"
     ],
     "language": "python",
     "metadata": {},
     "outputs": [
      {
       "output_type": "pyout",
       "prompt_number": 35,
       "text": [
        "array([[ 0.,  0.,  1.],\n",
        "       [ 0.,  0.,  1.],\n",
        "       [ 0.,  0.,  1.],\n",
        "       [ 0.,  0.,  1.],\n",
        "       [ 0.,  0.,  1.],\n",
        "       [-0.,  1.,  0.],\n",
        "       [-0.,  1.,  0.],\n",
        "       [-0.,  1.,  0.],\n",
        "       [-0.,  1.,  0.],\n",
        "       [-0.,  1.,  0.],\n",
        "       [ 1., -0.,  0.],\n",
        "       [ 1., -0.,  0.],\n",
        "       [ 1., -0.,  0.],\n",
        "       [ 1., -0.,  0.],\n",
        "       [ 1., -0.,  0.]])"
       ]
      }
     ],
     "prompt_number": 35
    },
    {
     "cell_type": "markdown",
     "metadata": {},
     "source": [
      "In fact, if we tell R to leave out the constant column, we will get indicator coding for the factor, with the columns permuted to reflect the fact that R thinks the levels should be ordered \"France\", \"UK\", \"USA\":"
     ]
    },
    {
     "cell_type": "code",
     "collapsed": false,
     "input": [
      "%R model.matrix( ~ nationality-1)"
     ],
     "language": "python",
     "metadata": {},
     "outputs": [
      {
       "output_type": "pyout",
       "prompt_number": 36,
       "text": [
        "array([[ 0.,  0.,  1.],\n",
        "       [ 0.,  0.,  1.],\n",
        "       [ 0.,  0.,  1.],\n",
        "       [ 0.,  0.,  1.],\n",
        "       [ 0.,  0.,  1.],\n",
        "       [ 0.,  1.,  0.],\n",
        "       [ 0.,  1.,  0.],\n",
        "       [ 0.,  1.,  0.],\n",
        "       [ 0.,  1.,  0.],\n",
        "       [ 0.,  1.,  0.],\n",
        "       [ 1.,  0.,  0.],\n",
        "       [ 1.,  0.,  0.],\n",
        "       [ 1.,  0.,  0.],\n",
        "       [ 1.,  0.,  0.],\n",
        "       [ 1.,  0.,  0.]])"
       ]
      }
     ],
     "prompt_number": 36
    },
    {
     "cell_type": "markdown",
     "metadata": {},
     "source": [
      "We now start to see the rules that R is using in constructing the design matrix.  It seems that R is looking at each effect to be added, and for each effect to be added, it is removing anything that can be modeled by columns already in the design matrix.  Later on, we'll make this rule more explicit."
     ]
    },
    {
     "cell_type": "heading",
     "level": 2,
     "metadata": {},
     "source": [
      "Factors, interactions and column spaces"
     ]
    },
    {
     "cell_type": "markdown",
     "metadata": {},
     "source": [
      "Let's define a new factor `awesome` which has levels of \"No\" (is not awesome) or \"Yes\" (is too awesome)."
     ]
    },
    {
     "cell_type": "code",
     "collapsed": false,
     "input": [
      "awesome = np.array([\"Yes\", \"No\"] * 7 + [\"Yes\"])\n",
      "awesome"
     ],
     "language": "python",
     "metadata": {},
     "outputs": [
      {
       "output_type": "pyout",
       "prompt_number": 37,
       "text": [
        "array(['Yes', 'No', 'Yes', 'No', 'Yes', 'No', 'Yes', 'No', 'Yes', 'No',\n",
        "       'Yes', 'No', 'Yes', 'No', 'Yes'], \n",
        "      dtype='|S3')"
       ]
      }
     ],
     "prompt_number": 37
    },
    {
     "cell_type": "markdown",
     "metadata": {},
     "source": [
      "To model both these factors independently:"
     ]
    },
    {
     "cell_type": "code",
     "collapsed": false,
     "input": [
      "%%R -i awesome\n",
      "awesome = factor(awesome)\n",
      "print(model.matrix(~ nationality + awesome))"
     ],
     "language": "python",
     "metadata": {},
     "outputs": [
      {
       "output_type": "display_data",
       "text": [
        "   (Intercept) nationalityUK nationalityUSA awesomeYes\n",
        "1            1             0              1          1\n",
        "2            1             0              1          0\n",
        "3            1             0              1          1\n",
        "4            1             0              1          0\n",
        "5            1             0              1          1\n",
        "6            1             1              0          0\n",
        "7            1             1              0          1\n",
        "8            1             1              0          0\n",
        "9            1             1              0          1\n",
        "10           1             1              0          0\n",
        "11           1             0              0          1\n",
        "12           1             0              0          0\n",
        "13           1             0              0          1\n",
        "14           1             0              0          0\n",
        "15           1             0              0          1\n",
        "attr(,\"assign\")\n",
        "[1] 0 1 1 2\n",
        "attr(,\"contrasts\")\n",
        "attr(,\"contrasts\")$nationality\n",
        "[1] \"contr.treatment\"\n",
        "\n",
        "attr(,\"contrasts\")$awesome\n",
        "[1] \"contr.treatment\"\n",
        "\n"
       ]
      }
     ],
     "prompt_number": 38
    },
    {
     "cell_type": "markdown",
     "metadata": {},
     "source": [
      "Notice that both `nationality` and `awesome` have \"treatment\" contrast coding, and that for `awesome` this gives just one column corresponding to the difference between \"no treatment\" == first level after alphabetical sort == \"No\", and \"treatment\" == second level == \"Yes\"."
     ]
    },
    {
     "cell_type": "markdown",
     "metadata": {},
     "source": [
      "This allows us to model the effect of `nationality`, and the effect of `awesome`, but what if the effect of `awesome` is different depending on what nationality you are?  Maybe if you are from the \"UK\", you get cited all the time, even though you are not awesome.  If the effect of `awesome` differs across the levels of `nationality`, then there is said to be an \"interaction\" between `awesome` and `nationality`.\n",
      "\n",
      "In order to be able to model any such interaction, we can do the classic analysis of variance trick of breaking up the data into cells defined by every combination of `nationality` and `awesome`:\n",
      "\n",
      "$y_i \\approx \\alpha_{USA,Yes} \\text{ if } \\mathtt{nationality}_i \\text{ is } \\mathtt{USA} \\text{ and } \\mathtt{awesome}_i \\text{ is } \\mathtt{Yes}$\n",
      "\n",
      "$y_i \\approx \\alpha_{USA,No} \\text{ if } \\mathtt{nationality}_i \\text{ is } \\mathtt{USA} \\text{ and } \\mathtt{awesome}_i \\text{ is } \\mathtt{No}$\n",
      "\n",
      "$y_i \\approx \\alpha_{UK,Yes} \\text{ if } \\mathtt{nationality}_i \\text{ is } \\mathtt{UK} \\text{ and } \\mathtt{awesome}_i \\text{ is } \\mathtt{Yes}$\n",
      "\n",
      "$y_i \\approx \\alpha_{UK,No} \\text{ if } \\mathtt{nationality}_i \\text{ is } \\mathtt{UK} \\text{ and } \\mathtt{awesome}_i \\text{ is } \\mathtt{No}$\n",
      "\n",
      "$y_i \\approx \\alpha_{France,Yes} \\text{ if } \\mathtt{nationality}_i \\text{ is } \\mathtt{France} \\text{ and } \\mathtt{awesome}_i \\text{ is } \\mathtt{Yes}$\n",
      "\n",
      "$y_i \\approx \\alpha_{France,No} \\text{ if } \\mathtt{nationality}_i \\text{ is } \\mathtt{France} \\text{ and } \\mathtt{awesome}_i \\text{ is } \\mathtt{No}$\n",
      "\n",
      "The indicator coding for this is:"
     ]
    },
    {
     "cell_type": "code",
     "collapsed": false,
     "input": [
      "indicator_columns = []\n",
      "for country in 'USA', 'UK', 'France':\n",
      "    for quality in 'Yes', 'No':\n",
      "        indicator_columns.append((nationality == country) & (awesome == quality))\n",
      "X = np.column_stack(indicator_columns).astype(int)\n",
      "X"
     ],
     "language": "python",
     "metadata": {},
     "outputs": [
      {
       "output_type": "pyout",
       "prompt_number": 39,
       "text": [
        "array([[1, 0, 0, 0, 0, 0],\n",
        "       [0, 1, 0, 0, 0, 0],\n",
        "       [1, 0, 0, 0, 0, 0],\n",
        "       [0, 1, 0, 0, 0, 0],\n",
        "       [1, 0, 0, 0, 0, 0],\n",
        "       [0, 0, 0, 1, 0, 0],\n",
        "       [0, 0, 1, 0, 0, 0],\n",
        "       [0, 0, 0, 1, 0, 0],\n",
        "       [0, 0, 1, 0, 0, 0],\n",
        "       [0, 0, 0, 1, 0, 0],\n",
        "       [0, 0, 0, 0, 1, 0],\n",
        "       [0, 0, 0, 0, 0, 1],\n",
        "       [0, 0, 0, 0, 1, 0],\n",
        "       [0, 0, 0, 0, 0, 1],\n",
        "       [0, 0, 0, 0, 1, 0]])"
       ]
      }
     ],
     "prompt_number": 39
    },
    {
     "cell_type": "markdown",
     "metadata": {},
     "source": [
      "This can be a little easier to grasp in an image of the design matrix.  Here black corresponds to 0 and white to 1:"
     ]
    },
    {
     "cell_type": "code",
     "collapsed": false,
     "input": [
      "show_x(X, 'Interaction of nationality and awesome')"
     ],
     "language": "python",
     "metadata": {},
     "outputs": [
      {
       "output_type": "display_data",
       "png": "[encoded data removed]"
      }
     ],
     "prompt_number": 40
    },
    {
     "cell_type": "markdown",
     "metadata": {},
     "source": [
      "These columns are also the element-wise products of the indicator columns for each pair of (`nationality`, `awesome`):"
     ]
    },
    {
     "cell_type": "code",
     "collapsed": false,
     "input": [
      "nat_cols = []\n",
      "for country in 'USA', 'UK', 'France':\n",
      "    nat_cols.append(nationality == country)\n",
      "awe_cols = []\n",
      "for quality in 'Yes', 'No':\n",
      "    awe_cols.append(awesome == quality)\n",
      "all_cols = []\n",
      "for nat_col in nat_cols:\n",
      "    for awe_col in awe_cols:\n",
      "        all_cols.append(nat_col * awe_col)\n",
      "X_again = np.column_stack(all_cols).astype(int)\n",
      "show_x(X_again, 'Interaction by product of indicator columns')"
     ],
     "language": "python",
     "metadata": {},
     "outputs": [
      {
       "output_type": "display_data",
       "png": "[encoded data removed]"
      }
     ],
     "prompt_number": 41
    },
    {
     "cell_type": "markdown",
     "metadata": {},
     "source": [
      "R formulae represent an interaction with the colon `:`.  We can make R give us this same coding, if we ask for the interaction, and to have no intercept. The columns will be permuted because R orders the factor levels alphabetically."
     ]
    },
    {
     "cell_type": "code",
     "collapsed": false,
     "input": [
      "X_r = %R model.matrix(~ awesome:nationality-1)\n",
      "show_x(X_r, 'R interaction using indicator coding')"
     ],
     "language": "python",
     "metadata": {},
     "outputs": [
      {
       "output_type": "display_data",
       "png": "[encoded data removed]"
      }
     ],
     "prompt_number": 42
    },
    {
     "cell_type": "markdown",
     "metadata": {},
     "source": [
      "Back to column spaces.  The first two columns of X add up to the indicator column for the first country. So, for R's design, the first two columns add up to the indicator coding for 'France'."
     ]
    },
    {
     "cell_type": "code",
     "collapsed": false,
     "input": [
      "X_nations = %R model.matrix(~ nationality-1)\n",
      "X_nations[:, 0] == X_r[:, 0] + X_r[:, 1]"
     ],
     "language": "python",
     "metadata": {},
     "outputs": [
      {
       "output_type": "pyout",
       "prompt_number": 43,
       "text": [
        "array([ True,  True,  True,  True,  True,  True,  True,  True,  True,\n",
        "        True,  True,  True,  True,  True,  True], dtype=bool)"
       ]
      }
     ],
     "prompt_number": 43
    },
    {
     "cell_type": "markdown",
     "metadata": {},
     "source": [
      "Similarly, the first, third and fifth columns add up to the indicator coding for \"No\":"
     ]
    },
    {
     "cell_type": "code",
     "collapsed": false,
     "input": [
      "X_awesome = %R model.matrix(~ awesome-1)\n",
      "X_awesome[:, 0] == np.sum(X_r[:, (0, 2, 4)], axis=1)"
     ],
     "language": "python",
     "metadata": {},
     "outputs": [
      {
       "output_type": "pyout",
       "prompt_number": 44,
       "text": [
        "array([ True,  True,  True,  True,  True,  True,  True,  True,  True,\n",
        "        True,  True,  True,  True,  True,  True], dtype=bool)"
       ]
      }
     ],
     "prompt_number": 44
    },
    {
     "cell_type": "markdown",
     "metadata": {},
     "source": [
      "So, the indicator coding for the interaction, contains the column space of the indicator coding for the individual factors.  Put another way, anything that can be fit with the model `nationality-1` and anything that can be fit by `awesome-1` can also be fit by the model `nationality:awesome-1`.  As we saw before, the column space of `nationality` is the same as the column space of `nationality-1`, as is also true of the pairs (`awesome`, `awesome-1`), (`nationality:awesome`, `nationality:awesome-1`), (`nationality + awesome`, `nationality + awsome-1`).  So, the model `nationality:awesome` contains the column space of `nationality + awesome`."
     ]
    },
    {
     "cell_type": "heading",
     "level": 2,
     "metadata": {},
     "source": [
      "The intercept, main effects and interaction effects"
     ]
    },
    {
     "cell_type": "markdown",
     "metadata": {},
     "source": [
      "Consider a simple model of our data `Y`, in which we have only an intercept (constant) term: $Y = \\mu$. In a model fit with ordinary least squares, $\\mu$ will be the mean of the observations `Y`.  Compare this to the model we have seen before in which each country has its own characteristic value:\n",
      "\n",
      "$\\begin{array}{cl}\n",
      "y_i \\approx \\alpha_{USA} & \\text{ if } \\mathtt{nationality}_i \\text{ is } \\mathtt{USA} \\cr\n",
      "y_i \\approx \\alpha_{UK} & \\text{ if } \\mathtt{nationality}_i \\text{ is } \\mathtt{UK} \\cr\n",
      "y_i \\approx \\alpha_{France} &\\text{ if } \\mathtt{nationality}_i \\text{ is } \\mathtt{France}\n",
      "\\end{array}$\n",
      "\n",
      "Again, for ordinary least squares, the values $\\alpha_{USA}, \\alpha_{UK}, \\alpha_{France}$ will be the respective means of the values `Y` for authors from countries \"USA\", \"UK\" and \"France\" respectively.\n",
      "\n",
      "The *main effect* of `nationality` is the difference between the intercept-only model $Y = \\mu$ and the second model with intercepts specific to each nationality.\n",
      "\n",
      "More generally, the main effect of a factor is the difference between a model that has a single intercept for all observations, compared to a model that has separate intercepts for each groups defined by the factor levels.\n",
      "\n",
      "Therefore, a main effect is a difference in a model caused by modeling the *differences* between the intercepts for the groups defined by the factor levels.\n",
      "\n",
      "We can see this distinction in the way that R constructs the design for a single factor.  We've seen this before of course:"
     ]
    },
    {
     "cell_type": "code",
     "collapsed": false,
     "input": [
      "%%R\n",
      "fit_with_intercept = lm(Y ~ nationality)\n",
      "print(model.matrix(fit_with_intercept))"
     ],
     "language": "python",
     "metadata": {},
     "outputs": [
      {
       "output_type": "display_data",
       "text": [
        "   (Intercept) nationalityUK nationalityUSA\n",
        "1            1             0              1\n",
        "2            1             0              1\n",
        "3            1             0              1\n",
        "4            1             0              1\n",
        "5            1             0              1\n",
        "6            1             1              0\n",
        "7            1             1              0\n",
        "8            1             1              0\n",
        "9            1             1              0\n",
        "10           1             1              0\n",
        "11           1             0              0\n",
        "12           1             0              0\n",
        "13           1             0              0\n",
        "14           1             0              0\n",
        "15           1             0              0\n",
        "attr(,\"assign\")\n",
        "[1] 0 1 1\n",
        "attr(,\"contrasts\")\n",
        "attr(,\"contrasts\")$nationality\n",
        "[1] \"contr.treatment\"\n",
        "\n"
       ]
      }
     ],
     "prompt_number": 45
    },
    {
     "cell_type": "markdown",
     "metadata": {},
     "source": [
      "So, the model starts with the intercept, and continues with two columns that complete the column spaces spanned by the model with the indidual intercepts.   That is, the design can be considered as two designs one after the other, the intercept-only design (a column of ones) and the remaining column space of the indicator columns for the three intercept model.  Let's now look at the summary of the fit:"
     ]
    },
    {
     "cell_type": "code",
     "collapsed": false,
     "input": [
      "%R print(summary(fit_with_intercept))"
     ],
     "language": "python",
     "metadata": {},
     "outputs": [
      {
       "output_type": "display_data",
       "text": [
        "\n",
        "Call:\n",
        "lm(formula = Y ~ nationality)\n",
        "\n",
        "Residuals:\n",
        "    Min      1Q  Median      3Q     Max \n",
        "-29.868 -24.776   8.044  19.093  45.064 \n",
        "\n",
        "Coefficients:\n",
        "               Estimate Std. Error t value Pr(>|t|)    \n",
        "(Intercept)     119.028     12.008   9.912 3.94e-07 ***\n",
        "nationalityUK    27.688     16.982   1.630    0.129    \n",
        "nationalityUSA    4.958     16.982   0.292    0.775    \n",
        "---\n",
        "Signif. codes:  0 \u2018***\u2019 0.001 \u2018**\u2019 0.01 \u2018*\u2019 0.05 \u2018.\u2019 0.1 \u2018 \u2019 1 \n",
        "\n",
        "Residual standard error: 26.85 on 12 degrees of freedom\n",
        "Multiple R-squared: 0.2012,\tAdjusted R-squared: 0.06812 \n",
        "F-statistic: 1.512 on 2 and 12 DF,  p-value: 0.2597 \n",
        "\n"
       ]
      }
     ],
     "prompt_number": 46
    },
    {
     "cell_type": "markdown",
     "metadata": {},
     "source": [
      "We have coefficients for `nationalityUK` and `nationalityUSA` with associated t statistics and p values.   These are meaningful as tests for differences between the group means for nationality, because the overall intercept has been modeled separately. The coefficients and the tests on the coefficients relate to the main effect of nationality. However, if we remove the intercept from the model:"
     ]
    },
    {
     "cell_type": "code",
     "collapsed": false,
     "input": [
      "%%R\n",
      "fit_no_intercept = lm(Y ~ nationality -1)\n",
      "print(summary(fit_no_intercept))"
     ],
     "language": "python",
     "metadata": {},
     "outputs": [
      {
       "output_type": "display_data",
       "text": [
        "\n",
        "Call:\n",
        "lm(formula = Y ~ nationality - 1)\n",
        "\n",
        "Residuals:\n",
        "    Min      1Q  Median      3Q     Max \n",
        "-29.868 -24.776   8.044  19.093  45.064 \n",
        "\n",
        "Coefficients:\n",
        "                  Estimate Std. Error t value Pr(>|t|)    \n",
        "nationalityFrance   119.03      12.01   9.912 3.94e-07 ***\n",
        "nationalityUK       146.72      12.01  12.218 3.96e-08 ***\n",
        "nationalityUSA      123.99      12.01  10.325 2.53e-07 ***\n",
        "---\n",
        "Signif. codes:  0 \u2018***\u2019 0.001 \u2018**\u2019 0.01 \u2018*\u2019 0.05 \u2018.\u2019 0.1 \u2018 \u2019 1 \n",
        "\n",
        "Residual standard error: 26.85 on 12 degrees of freedom\n",
        "Multiple R-squared: 0.9672,\tAdjusted R-squared: 0.959 \n",
        "F-statistic:   118 on 3 and 12 DF,  p-value: 3.583e-09 \n",
        "\n"
       ]
      }
     ],
     "prompt_number": 47
    },
    {
     "cell_type": "markdown",
     "metadata": {},
     "source": [
      "Now group means for each nationality must model the overall mean across all nationalities, and the values of the coefficients therefore no longer reflect the difference between the intercept-only model and the the model with separate intercepts for each group that we fit here.\n",
      "\n",
      "By adding the intercept to the model by default, R makes the default coefficients relate to the expected test of interest, which is for the main effect of the factor.  The main effect of the factor is the comparison between the intercept only model and the model with the factor level intercepts.\n",
      "\n",
      "We remember that the design matrix for the intercept (`model.matrix(fit_with_intercept)`) and the design matrix without the intercept (`model.matrix(fit_no_intercept)`) have the same *column space*.  In fact, strictly speaking, they are identical model with different parametrization, but they really model the same things.  It is the column space that determines what the design is able to fit in the data, so we see that the two design matrix have the same `Residual standard error` in the summaries above, and:"
     ]
    },
    {
     "cell_type": "code",
     "collapsed": false,
     "input": [
      "%R sum(abs(fit_no_intercept$residuals - fit_with_intercept$residuals))"
     ],
     "language": "python",
     "metadata": {},
     "outputs": [
      {
       "output_type": "pyout",
       "prompt_number": 48,
       "text": [
        "array([ 0.])"
       ]
      }
     ],
     "prompt_number": 48
    },
    {
     "cell_type": "markdown",
     "metadata": {},
     "source": [
      "Now we know why R might prefer to insert the intercept for single factor models, we may be some way to explaining the following mystery:\n",
      "\n",
      "The most typical two factor and interaction formula in R looks (in effect) like this:\n",
      "\n",
      "`Y ~ nationality + awesome + nationality:awesome`\n",
      "\n",
      "(I say, \"in effect\", because that formula is usually written with the shortcut form of `Y ~ nationality * awesome`; more on the shortcuts later).\n",
      "\n",
      "The mystery is this: we know that:\n",
      "\n",
      "`Y ~ nationality:awesome`\n",
      "\n",
      "covers the same column space.  Why prefer the more verbose form (or - with the shortcut - the slightly more obscure form)?\n",
      "\n",
      "The answer is the same as for the inclusion of intercept in the single-factor design; it makes it easier to interpret the parts of the design matrix in an hierarchical way.  For the intercept and the single factor, including the intercept made the columns of the design refer to the main effect (comparison between the intercept model and factor level intercept model).  Including the main effects separately from the interactions in the formula means that the first colums in the design refer to the main effect, and the later columns refer to the *added* effect of the interaction.\n",
      "\n",
      "Let's have a look at the standard R form of this model with main effects and interactions:"
     ]
    },
    {
     "cell_type": "code",
     "collapsed": false,
     "input": [
      "%R fit_main_inters = lm(Y ~ nationality + awesome + nationality:awesome)\n",
      "X_main_inters = %R model.matrix(fit_main_inters)\n",
      "print X_main_inters"
     ],
     "language": "python",
     "metadata": {},
     "outputs": [
      {
       "output_type": "stream",
       "stream": "stdout",
       "text": [
        "[[ 1.  0.  1.  1.  0.  1.]\n",
        " [ 1.  0.  1.  0.  0.  0.]\n",
        " [ 1.  0.  1.  1.  0.  1.]\n",
        " [ 1.  0.  1.  0.  0.  0.]\n",
        " [ 1.  0.  1.  1.  0.  1.]\n",
        " [ 1.  1.  0.  0.  0.  0.]\n",
        " [ 1.  1.  0.  1.  1.  0.]\n",
        " [ 1.  1.  0.  0.  0.  0.]\n",
        " [ 1.  1.  0.  1.  1.  0.]\n",
        " [ 1.  1.  0.  0.  0.  0.]\n",
        " [ 1.  0.  0.  1.  0.  0.]\n",
        " [ 1.  0.  0.  0.  0.  0.]\n",
        " [ 1.  0.  0.  1.  0.  0.]\n",
        " [ 1.  0.  0.  0.  0.  0.]\n",
        " [ 1.  0.  0.  1.  0.  0.]]\n"
       ]
      }
     ],
     "prompt_number": 49
    },
    {
     "cell_type": "markdown",
     "metadata": {},
     "source": [
      "You'll recognize the first three columns as being the same as those for `~ nationality`.  The fourth column is the contrast coding for `awesome`, and is what we expected.  The last two columns encode the (remainder of) the interaction.  What are these last two columns?  Let's get the names:"
     ]
    },
    {
     "cell_type": "code",
     "collapsed": false,
     "input": [
      "names = %R colnames(model.matrix(fit_main_inters))\n",
      "for i, name in enumerate(names):\n",
      "    print i, name"
     ],
     "language": "python",
     "metadata": {},
     "outputs": [
      {
       "output_type": "stream",
       "stream": "stdout",
       "text": [
        "0 (Intercept)\n",
        "1 nationalityUK\n",
        "2 nationalityUSA\n",
        "3 awesomeYes\n",
        "4 nationalityUK:awesomeYes\n",
        "5 nationalityUSA:awesomeYes\n"
       ]
      }
     ],
     "prompt_number": 50
    },
    {
     "cell_type": "markdown",
     "metadata": {},
     "source": [
      "And in fact:"
     ]
    },
    {
     "cell_type": "code",
     "collapsed": false,
     "input": [
      "print np.all(X_main_inters[:, 4] == X_main_inters[:, 1] * X_main_inters[:, 3])\n",
      "print np.all(X_main_inters[:, 5] == X_main_inters[:, 2] * X_main_inters[:, 3])"
     ],
     "language": "python",
     "metadata": {},
     "outputs": [
      {
       "output_type": "stream",
       "stream": "stdout",
       "text": [
        "True\n",
        "True\n"
       ]
      }
     ],
     "prompt_number": 51
    },
    {
     "cell_type": "markdown",
     "metadata": {},
     "source": [
      "The fit:"
     ]
    },
    {
     "cell_type": "code",
     "collapsed": false,
     "input": [
      "%R print(summary(fit_main_inters))"
     ],
     "language": "python",
     "metadata": {},
     "outputs": [
      {
       "output_type": "display_data",
       "text": [
        "\n",
        "Call:\n",
        "lm(formula = Y ~ nationality + awesome + nationality:awesome)\n",
        "\n",
        "Residuals:\n",
        "    Min      1Q  Median      3Q     Max \n",
        "-23.280  -5.804  -0.070   4.550  45.990 \n",
        "\n",
        "Coefficients:\n",
        "                          Estimate Std. Error t value Pr(>|t|)    \n",
        "(Intercept)                 89.230     13.907   6.416 0.000123 ***\n",
        "nationalityUK               56.560     17.954   3.150 0.011732 *  \n",
        "nationalityUSA               9.040     19.667   0.460 0.656674    \n",
        "awesomeYes                  49.663     17.954   2.766 0.021890 *  \n",
        "nationalityUK:awesomeYes   -47.348     25.391  -1.865 0.095084 .  \n",
        "nationalityUSA:awesomeYes   -6.803     25.391  -0.268 0.794780    \n",
        "---\n",
        "Signif. codes:  0 \u2018***\u2019 0.001 \u2018**\u2019 0.01 \u2018*\u2019 0.05 \u2018.\u2019 0.1 \u2018 \u2019 1 \n",
        "\n",
        "Residual standard error: 19.67 on 9 degrees of freedom\n",
        "Multiple R-squared: 0.6786,\tAdjusted R-squared:   0.5 \n",
        "F-statistic:   3.8 on 5 and 9 DF,  p-value: 0.03967 \n",
        "\n"
       ]
      }
     ],
     "prompt_number": 52
    },
    {
     "cell_type": "markdown",
     "metadata": {},
     "source": [
      "We see the same principle as before; the later columns can be interpreted as tests of the extra effects over and above the earlier columns.  Specifically, the design matrix here has 0-order effects first (the intercept), followed by first-order (nationality, awesome - over and above the zero order effect), followed by the second order effects (nationality interaction with awesome over and above the first order effects).\n",
      "\n",
      "Compare the interaction-only model, that has the same column space.  For clarity, let's omit the intercept to get indicator coding for the factor level pairs:"
     ]
    },
    {
     "cell_type": "code",
     "collapsed": false,
     "input": [
      "%R fit_inters = lm(Y ~ nationality:awesome-1)\n",
      "X_inters = %R model.matrix(fit_inters)\n",
      "print X_inters"
     ],
     "language": "python",
     "metadata": {},
     "outputs": [
      {
       "output_type": "stream",
       "stream": "stdout",
       "text": [
        "[[ 0.  0.  0.  0.  0.  1.]\n",
        " [ 0.  0.  1.  0.  0.  0.]\n",
        " [ 0.  0.  0.  0.  0.  1.]\n",
        " [ 0.  0.  1.  0.  0.  0.]\n",
        " [ 0.  0.  0.  0.  0.  1.]\n",
        " [ 0.  1.  0.  0.  0.  0.]\n",
        " [ 0.  0.  0.  0.  1.  0.]\n",
        " [ 0.  1.  0.  0.  0.  0.]\n",
        " [ 0.  0.  0.  0.  1.  0.]\n",
        " [ 0.  1.  0.  0.  0.  0.]\n",
        " [ 0.  0.  0.  1.  0.  0.]\n",
        " [ 1.  0.  0.  0.  0.  0.]\n",
        " [ 0.  0.  0.  1.  0.  0.]\n",
        " [ 1.  0.  0.  0.  0.  0.]\n",
        " [ 0.  0.  0.  1.  0.  0.]]\n"
       ]
      }
     ],
     "prompt_number": 53
    },
    {
     "cell_type": "markdown",
     "metadata": {},
     "source": [
      "Do `X_inter` and `X_main_inters` have the same column space as I have claimed?  We see first that they have the same `Residual standard error`:"
     ]
    },
    {
     "cell_type": "code",
     "collapsed": false,
     "input": [
      "%R print(summary(fit_inters))"
     ],
     "language": "python",
     "metadata": {},
     "outputs": [
      {
       "output_type": "display_data",
       "text": [
        "\n",
        "Call:\n",
        "lm(formula = Y ~ nationality:awesome - 1)\n",
        "\n",
        "Residuals:\n",
        "    Min      1Q  Median      3Q     Max \n",
        "-23.280  -5.804  -0.070   4.550  45.990 \n",
        "\n",
        "Coefficients:\n",
        "                             Estimate Std. Error t value Pr(>|t|)    \n",
        "nationalityFrance:awesomeNo     89.23      13.91   6.416 0.000123 ***\n",
        "nationalityUK:awesomeNo        145.79      11.36  12.839 4.32e-07 ***\n",
        "nationalityUSA:awesomeNo        98.27      13.91   7.066 5.88e-05 ***\n",
        "nationalityFrance:awesomeYes   138.89      11.36  12.232 6.54e-07 ***\n",
        "nationalityUK:awesomeYes       148.10      13.91  10.650 2.11e-06 ***\n",
        "nationalityUSA:awesomeYes      141.13      11.36  12.429 5.71e-07 ***\n",
        "---\n",
        "Signif. codes:  0 \u2018***\u2019 0.001 \u2018**\u2019 0.01 \u2018*\u2019 0.05 \u2018.\u2019 0.1 \u2018 \u2019 1 \n",
        "\n",
        "Residual standard error: 19.67 on 9 degrees of freedom\n",
        "Multiple R-squared: 0.9868,\tAdjusted R-squared: 0.978 \n",
        "F-statistic: 112.2 on 6 and 9 DF,  p-value: 6.075e-08 \n",
        "\n"
       ]
      }
     ],
     "prompt_number": 54
    },
    {
     "cell_type": "markdown",
     "metadata": {},
     "source": [
      "Is there a matrix `C` such that `X_main_inters = np.dot(X_inters, C)`?  Yes:"
     ]
    },
    {
     "cell_type": "code",
     "collapsed": false,
     "input": [
      "C = np.dot(np.linalg.pinv(X_inters), X_main_inters)\n",
      "np.allclose(np.dot(X_inters, C), X_main_inters)"
     ],
     "language": "python",
     "metadata": {},
     "outputs": [
      {
       "output_type": "pyout",
       "prompt_number": 55,
       "text": [
        "True"
       ]
      }
     ],
     "prompt_number": 55
    },
    {
     "cell_type": "markdown",
     "metadata": {},
     "source": [
      "From the fit above, we see that the individual coefficients in the `fit_inters` fit carry the effect of the (otherwise unmodeled) global intercept, and in fact they also carry the main effects.  That makes sense because the intercept and main effect and interaction are all modeled with the same set of columns."
     ]
    },
    {
     "cell_type": "heading",
     "level": 2,
     "metadata": {},
     "source": [
      "Column space and contrast matrices"
     ]
    },
    {
     "cell_type": "markdown",
     "metadata": {},
     "source": [
      "If two design matrices have the same column space, then any comparison possible for the first model is also possible for the second, with suitable *contrast matrices*.  Consider the designs above for the `nationality` factor, with and without the intercept.\n",
      "\n",
      "Remember that the design with the intercept gave us coefficients reflecting the *treatment contrast* for the factor main effect. But, the design without the intercept has the same column space.  What if have coefficients for the no-intercept design matrix, but I want the coefficients I would have got for the with-intercept design?\n",
      "\n",
      "Call our design matrix with intercept $X_W$, and the design matrix without the intercept $X_N$.   The fitted values $\\hat{Y}$ for any design $X$ are given by:\n",
      "\n",
      "$\\hat{Y} = X B$\n",
      "\n",
      "where $B$ is the column vector of coefficients from the fit (for example: `coef(fit_no_intercept))`).   So for the no-intercept design:\n",
      "\n",
      "$\\hat{Y} = X_N B_N$\n",
      "\n",
      "I postulate there is a vector of parameters $B_W$ for the with-intercept design that gives me exactly the same fitted values, so:\n",
      "\n",
      "$\n",
      "\\hat{Y} = X_W B_W \\implies\n",
      "X_W B_W = X_N B_N\n",
      "$\n",
      "\n",
      "We want to know what $B_W$ are given $B_N$.\n",
      "\n",
      "Because the intercept design $X_W$ spans the column space of $X_N$, we know that there is some matrix $C$ such that $X_N = X_W C$.  Therefore:\n",
      "\n",
      "$X_W B_W = X_W C B_N$\n",
      "\n",
      "This will be true if:\n",
      "\n",
      "$B_W = C B_N$\n",
      "\n",
      "So, we need the matrix $C$ mapping the columns of $X_W$ to the columns of $X_N$.  $C$ is our contrast matrix.\n"
     ]
    },
    {
     "cell_type": "markdown",
     "metadata": {},
     "source": [
      "R will give us the matrix to construct the contrast columns from the indicator columns; this maps the columns of $X_W$ to the columns of $X_N$."
     ]
    },
    {
     "cell_type": "code",
     "collapsed": false,
     "input": [
      "C_ind2treat = %R contr.treatment(3) # 3 factor levels for nationality\n",
      "C_N2W = np.column_stack(([1, 1, 1], C_ind2treat)) # Add intercept generating column\n",
      "X_N = %R model.matrix(fit_no_intercept)\n",
      "X_W = %R model.matrix(fit_with_intercept)\n",
      "print np.all(np.dot(X_N, C_N2W) == X_W) # Confirm we have C' to map X_N to X_W"
     ],
     "language": "python",
     "metadata": {},
     "outputs": [
      {
       "output_type": "stream",
       "stream": "stdout",
       "text": [
        "True\n"
       ]
      }
     ],
     "prompt_number": 56
    },
    {
     "cell_type": "markdown",
     "metadata": {},
     "source": [
      "We have the mapping from `X_N` to `X_W`, but we want $C$ to map `X_W` to `X_N`.  Call this `C_W2N`. Luckily `C_N2W` is invertible, and we have our `C_W2N` with one bound:"
     ]
    },
    {
     "cell_type": "code",
     "collapsed": false,
     "input": [
      "C_W2N = np.linalg.inv(C_N2W) # The C we want\n",
      "print np.all(np.dot(X_W, C_W2N) == X_N) # confirm it's the C we want"
     ],
     "language": "python",
     "metadata": {},
     "outputs": [
      {
       "output_type": "stream",
       "stream": "stdout",
       "text": [
        "True\n"
       ]
      }
     ],
     "prompt_number": 57
    },
    {
     "cell_type": "markdown",
     "metadata": {},
     "source": [
      "Now we can get the $B_N$ cooefficients from the $B_W$ coefficients without reestimating the design:"
     ]
    },
    {
     "cell_type": "code",
     "collapsed": false,
     "input": [
      "B_N = %R coef(fit_no_intercept) # No intercept coefficients\n",
      "B_N = B_N.reshape(-1, 1) # Make into a column vector for dot product\n",
      "B_I_est = np.dot(C_W2N, B_N) # Estimate coefficients for with-intercept model\n",
      "B_I = %R coef(fit_with_intercept)\n",
      "print \"Coefficients from intercept model\", B_I\n",
      "print \"Coefficients recreated from non-intercept model\", B_I_est.T"
     ],
     "language": "python",
     "metadata": {},
     "outputs": [
      {
       "output_type": "stream",
       "stream": "stdout",
       "text": [
        "Coefficients from intercept model [ 119.028   27.688    4.958]\n",
        "Coefficients recreated from non-intercept model [[ 119.028   27.688    4.958]]\n"
       ]
      }
     ],
     "prompt_number": 58
    },
    {
     "cell_type": "heading",
     "level": 2,
     "metadata": {},
     "source": [
      "Formulae and ANOVA tables"
     ]
    },
    {
     "cell_type": "markdown",
     "metadata": {},
     "source": [
      "We've seen that R uses the formula to do some partitioning of the design matrix.  We've seen for example that `~ nationality + awesome + nationality:awesome` has the the same column space as `~ nationality:awesome` but that the coefficients are different, because, in the first case, R partitions the design into (first) main effects, then interactions.\n",
      "\n",
      "R uses the order of elements in the formula for even more explicit partioning when doing ANOVA tables."
     ]
    },
    {
     "cell_type": "code",
     "collapsed": false,
     "input": [
      "%%R\n",
      "fit_sequential = lm(Y ~ nationality + awesome + nationality:awesome)\n",
      "print(anova(fit_sequential))"
     ],
     "language": "python",
     "metadata": {},
     "outputs": [
      {
       "output_type": "display_data",
       "text": [
        "Analysis of Variance Table\n",
        "\n",
        "Response: Y\n",
        "                    Df Sum Sq Mean Sq F value Pr(>F)  \n",
        "nationality          2 2179.8  1089.9  2.8176 0.1121  \n",
        "awesome              1 3597.7  3597.7  9.3010 0.0138 *\n",
        "nationality:awesome  2 1572.8   786.4  2.0331 0.1868  \n",
        "Residuals            9 3481.3   386.8                 \n",
        "---\n",
        "Signif. codes:  0 \u2018***\u2019 0.001 \u2018**\u2019 0.01 \u2018*\u2019 0.05 \u2018.\u2019 0.1 \u2018 \u2019 1 \n"
       ]
      }
     ],
     "prompt_number": 59
    },
    {
     "cell_type": "markdown",
     "metadata": {},
     "source": [
      "The ANOVA table reports sequential tests as each element enters the formula.  The first line in the table compares the model `~ 1` (intercept only) to `~ 1 + nationality`.   The second line compares `~ 1 + nationality` to `~1 + nationality + awesome`.  The third line compares `~1 + nationality + awesome` to `~ 1 + nationality + awesome + nationality:awesome`.   By \"compares the model\" I mean, do an F test where the numerator is (extra sum of squares error explained by the second (larger) model compared to the first (smaller) model, divided by the extra degrees of freedom used by second compared to the first model).  The denominator is the (sum of squared residuals from `~ 1 + nationality + awesome + nationality:awesome` model divided by the degrees of freedom used by this model).  For example, to get the first F value in the table we take the sum of squares explained by the `~ 1 + nationality` model (below) (2176.8), divide by the degrees of freedom (2), then divide by (the residual sum of squares for the full model (above) (3481.3), divided by the degrees of freedom for the full model (9)):"
     ]
    },
    {
     "cell_type": "code",
     "collapsed": false,
     "input": [
      "%R print(anova(lm(Y ~ nationality)))\n",
      "(2179.8 / 2) / (3481.3 / 9)"
     ],
     "language": "python",
     "metadata": {},
     "outputs": [
      {
       "output_type": "display_data",
       "text": [
        "Analysis of Variance Table\n",
        "\n",
        "Response: Y\n",
        "            Df Sum Sq Mean Sq F value Pr(>F)\n",
        "nationality  2 2179.8 1089.88  1.5117 0.2597\n",
        "Residuals   12 8651.8  720.99               \n"
       ]
      },
      {
       "output_type": "pyout",
       "prompt_number": 60,
       "text": [
        "2.8176543245339385"
       ]
      }
     ],
     "prompt_number": 60
    },
    {
     "cell_type": "markdown",
     "metadata": {},
     "source": [
      "This sequential form of testing is sometimes called *type I sum of squares*.  \n",
      "\n",
      "The order is strictly sequential, so it makes a difference which order you enter the factors in the formula.  For example, compare:"
     ]
    },
    {
     "cell_type": "code",
     "collapsed": false,
     "input": [
      "%%R\n",
      "print(anova(lm(Y ~ nationality + awesome)))\n",
      "print(anova(lm(Y ~ awesome + nationality)))\n"
     ],
     "language": "python",
     "metadata": {},
     "outputs": [
      {
       "output_type": "display_data",
       "text": [
        "Analysis of Variance Table\n",
        "\n",
        "Response: Y\n",
        "            Df Sum Sq Mean Sq F value  Pr(>F)  \n",
        "nationality  2 2179.8  1089.9  2.3721 0.13916  \n",
        "awesome      1 3597.7  3597.7  7.8303 0.01733 *\n",
        "Residuals   11 5054.1   459.5                  \n",
        "---\n",
        "Signif. codes:  0 \u2018***\u2019 0.001 \u2018**\u2019 0.01 \u2018*\u2019 0.05 \u2018.\u2019 0.1 \u2018 \u2019 1 \n",
        "Analysis of Variance Table\n",
        "\n",
        "Response: Y\n",
        "            Df Sum Sq Mean Sq F value  Pr(>F)  \n",
        "awesome      1 2520.3 2520.27  5.4852 0.03903 *\n",
        "nationality  2 3257.2 1628.61  3.5446 0.06484 .\n",
        "Residuals   11 5054.1  459.46                  \n",
        "---\n",
        "Signif. codes:  0 \u2018***\u2019 0.001 \u2018**\u2019 0.01 \u2018*\u2019 0.05 \u2018.\u2019 0.1 \u2018 \u2019 1 \n"
       ]
      }
     ],
     "prompt_number": 61
    },
    {
     "cell_type": "markdown",
     "metadata": {},
     "source": [
      "For more detail, see the R FAQ section \"Why does the output from anova() depend on the order of factors in the model?\""
     ]
    },
    {
     "cell_type": "markdown",
     "metadata": {},
     "source": [
      "Needless to say, entering the interaction-only formula changes the table too:"
     ]
    },
    {
     "cell_type": "code",
     "collapsed": false,
     "input": [
      "%R print(anova(lm(Y ~ nationality:awesome)))"
     ],
     "language": "python",
     "metadata": {},
     "outputs": [
      {
       "output_type": "display_data",
       "text": [
        "Analysis of Variance Table\n",
        "\n",
        "Response: Y\n",
        "                    Df Sum Sq Mean Sq F value  Pr(>F)  \n",
        "nationality:awesome  5 7350.3 1470.06  3.8005 0.03967 *\n",
        "Residuals            9 3481.3  386.81                  \n",
        "---\n",
        "Signif. codes:  0 \u2018***\u2019 0.001 \u2018**\u2019 0.01 \u2018*\u2019 0.05 \u2018.\u2019 0.1 \u2018 \u2019 1 \n"
       ]
      }
     ],
     "prompt_number": 62
    },
    {
     "cell_type": "heading",
     "level": 2,
     "metadata": {},
     "source": [
      "From R formula to design matrix"
     ]
    },
    {
     "cell_type": "markdown",
     "metadata": {},
     "source": [
      "These is an attempt to set out the rules, as I understand them, for going from an R formula to a a design matrix.  There are three stages:\n",
      "\n",
      "1. Expanding shortcuts to create terms\n",
      "2. Reordering terms\n",
      "3. Coding of factors in terms\n",
      "\n",
      "In what follows, I will use the name *element* for a factor (such as `nationality`) or a numerical numerical variable (such as `x1`).  A *term* is either the intercept (`1`) or an element (such as `nationality`, or an interaction between two or more elements (e.g. `x1:nationality:awesome`). The order of a term is the number of contained elements.  `1` is a term with zero elements. Examples of terms with their orders are:\n",
      "\n",
      "* `1` - order 0\n",
      "* `nationality` - order 1\n",
      "* `nationality:x1` - order 2\n",
      "* `x1:x2:awesome` - order 3"
     ]
    },
    {
     "cell_type": "heading",
     "level": 3,
     "metadata": {},
     "source": [
      "Expanding model shortcuts"
     ]
    },
    {
     "cell_type": "markdown",
     "metadata": {},
     "source": [
      "There are 4 syntactic shortcuts.  Here is a list, with their translations to the basic operators of \"+\" and \":\".  In the *expansion* phase, R translates the shortcuts to their meaning given here:\n",
      "\n",
      "* `A * B`  $\\implies$ `A + B + A:B`\n",
      "   * `A * B * C`  $\\implies$ `A + B + C + A:B + A:C + B:C + A:B:C` \n",
      "* `A %in% B` $\\implies$ `A:B`\n",
      "* `A / B` $\\implies$ `A + A:B`\n",
      "* `A + B - A` $\\implies$ `B`\n",
      "   * `A + B + A:B - B` $\\implies$ `A + A:B`\n",
      "* `(A + B + C)^2` $\\implies$ `A + B + C + A:B + A:C`\n",
      "   * `(A + B + C)^3` $\\implies$ `A + B + C + A:B + A:C + B:C + A:B:C`\n",
      "\n",
      "Let's see them in action by looking at the \"terms\" created from formulae in R:"
     ]
    },
    {
     "cell_type": "code",
     "collapsed": false,
     "input": [
      "%%R\n",
      "print(attributes(terms(~A * B))$term)\n",
      "print(attributes(terms(~A * B * C))$term)\n",
      "print(attributes(terms(~A %in% B))$term)\n",
      "print(attributes(terms(~A / B))$term)\n",
      "print(attributes(terms(~A + B - A))$term)\n",
      "print(attributes(terms(~A + B + A:B - B))$term)\n",
      "print(attributes(terms(~(A + B + C)^2))$term)\n",
      "print(attributes(terms(~(A + B + C)^3))$term)"
     ],
     "language": "python",
     "metadata": {},
     "outputs": [
      {
       "output_type": "display_data",
       "text": [
        "[1] \"A\"   \"B\"   \"A:B\"\n",
        "[1] \"A\"     \"B\"     \"C\"     \"A:B\"   \"A:C\"   \"B:C\"   \"A:B:C\"\n",
        "[1] \"A:B\"\n",
        "[1] \"A\"   \"A:B\"\n",
        "[1] \"B\"\n",
        "[1] \"A\"   \"A:B\"\n",
        "[1] \"A\"   \"B\"   \"C\"   \"A:B\" \"A:C\" \"B:C\"\n",
        "[1] \"A\"     \"B\"     \"C\"     \"A:B\"   \"A:C\"   \"B:C\"   \"A:B:C\"\n"
       ]
      }
     ],
     "prompt_number": 63
    },
    {
     "cell_type": "heading",
     "level": 3,
     "metadata": {},
     "source": [
      "Reordering terms"
     ]
    },
    {
     "cell_type": "markdown",
     "metadata": {},
     "source": [
      "Terms are ordered so that 0 order terms go first, then first order terms, and so on.  The intercept is the only zero order term. Let's see the ordering in action:"
     ]
    },
    {
     "cell_type": "code",
     "collapsed": false,
     "input": [
      "%%R\n",
      "print(attributes(terms(~A:B +1 + B))$term) # actually the intercept does not appear in the terms\n",
      "print(attributes(terms(~D + A:B:C + A + B + E))$term)"
     ],
     "language": "python",
     "metadata": {},
     "outputs": [
      {
       "output_type": "display_data",
       "text": [
        "[1] \"B\"   \"A:B\"\n",
        "[1] \"D\"     \"A\"     \"B\"     \"E\"     \"A:B:C\"\n"
       ]
      }
     ],
     "prompt_number": 64
    },
    {
     "cell_type": "heading",
     "level": 3,
     "metadata": {},
     "source": [
      "Column space of interactions"
     ]
    },
    {
     "cell_type": "markdown",
     "metadata": {},
     "source": [
      "This is to be specific about the meaning of interactions, in terms of column space.  Any design matrix that models an interaction must contain this column space."
     ]
    },
    {
     "cell_type": "heading",
     "level": 4,
     "metadata": {},
     "source": [
      "Numeric:numeric interactions"
     ]
    },
    {
     "cell_type": "markdown",
     "metadata": {},
     "source": [
      "The column space of a numeric:numeric interaction is just the elementwise product of the two numeric variables.  That is, the interaction between two length $N$ vectors $x, z$ is given by the \n",
      "vector $x_1 z_1, x_2 z_2,... x_P, z_P$.  For example:"
     ]
    },
    {
     "cell_type": "code",
     "collapsed": false,
     "input": [
      "%R print(model.matrix(~ x1 + x2 + x1:x2 - 1))\n",
      "x1 * x2"
     ],
     "language": "python",
     "metadata": {},
     "outputs": [
      {
       "output_type": "display_data",
       "text": [
        "   x1 x2 x1:x2\n",
        "1  49  0     0\n",
        "2  50  1    50\n",
        "3  45  2    90\n",
        "4  53  3   159\n",
        "5  69  4   276\n",
        "6  73  5   365\n",
        "7  35  6   210\n",
        "8  40  7   280\n",
        "9  36  8   288\n",
        "10 30  9   270\n",
        "11 49 10   490\n",
        "12 36 11   396\n",
        "13 73 12   876\n",
        "14 61 13   793\n",
        "15 74 14  1036\n",
        "attr(,\"assign\")\n",
        "[1] 1 2 3\n"
       ]
      },
      {
       "output_type": "pyout",
       "prompt_number": 65,
       "text": [
        "array([    0.,    50.,    90.,   159.,   276.,   365.,   210.,   280.,\n",
        "         288.,   270.,   490.,   396.,   876.,   793.,  1036.])"
       ]
      }
     ],
     "prompt_number": 65
    },
    {
     "cell_type": "heading",
     "level": 4,
     "metadata": {},
     "source": [
      "Factor:factor interactions"
     ]
    },
    {
     "cell_type": "markdown",
     "metadata": {},
     "source": [
      "The column space of a factor:factor interaction is given by a set of indicator columns in which there is one indicator column for each unique combination of levels in the two factors. So if the first factor has $P$ levels, and the second factor has $Q$ levels, there will be $P * Q$ columns in the interaction. Put otherwise, the column space of the interaction for two factors $f1, f2$ is given by taking the matrix giving indicator coding for $f1$ (call this $M_1$) and the matrix giving indicator coding for $f2$ (call this $M_2$) and creating a new matrix $M_{1,2}$ that has the products of all columns of $M_1$ with all columns of $M_2$:"
     ]
    },
    {
     "cell_type": "code",
     "collapsed": false,
     "input": [
      "X_nat = %R model.matrix(~ nationality - 1) # indicator coding\n",
      "X_awe = %R model.matrix(~ awesome - 1) # indicator coding\n",
      "X_both = %R model.matrix(~ nationality:awesome - 1)\n",
      "print X_nat\n",
      "print X_awe\n",
      "print X_both"
     ],
     "language": "python",
     "metadata": {},
     "outputs": [
      {
       "output_type": "stream",
       "stream": "stdout",
       "text": [
        "[[ 0.  0.  1.]\n",
        " [ 0.  0.  1.]\n",
        " [ 0.  0.  1.]\n",
        " [ 0.  0.  1.]\n",
        " [ 0.  0.  1.]\n",
        " [ 0.  1.  0.]\n",
        " [ 0.  1.  0.]\n",
        " [ 0.  1.  0.]\n",
        " [ 0.  1.  0.]\n",
        " [ 0.  1.  0.]\n",
        " [ 1.  0.  0.]\n",
        " [ 1.  0.  0.]\n",
        " [ 1.  0.  0.]\n",
        " [ 1.  0.  0.]\n",
        " [ 1.  0.  0.]]\n",
        "[[ 0.  1.]\n",
        " [ 1.  0.]\n",
        " [ 0.  1.]\n",
        " [ 1.  0.]\n",
        " [ 0.  1.]\n",
        " [ 1.  0.]\n",
        " [ 0.  1.]\n",
        " [ 1.  0.]\n",
        " [ 0.  1.]\n",
        " [ 1.  0.]\n",
        " [ 0.  1.]\n",
        " [ 1.  0.]\n",
        " [ 0.  1.]\n",
        " [ 1.  0.]\n",
        " [ 0.  1.]]\n",
        "[[ 0.  0.  0.  0.  0.  1.]\n",
        " [ 0.  0.  1.  0.  0.  0.]\n",
        " [ 0.  0.  0.  0.  0.  1.]\n",
        " [ 0.  0.  1.  0.  0.  0.]\n",
        " [ 0.  0.  0.  0.  0.  1.]\n",
        " [ 0.  1.  0.  0.  0.  0.]\n",
        " [ 0.  0.  0.  0.  1.  0.]\n",
        " [ 0.  1.  0.  0.  0.  0.]\n",
        " [ 0.  0.  0.  0.  1.  0.]\n",
        " [ 0.  1.  0.  0.  0.  0.]\n",
        " [ 0.  0.  0.  1.  0.  0.]\n",
        " [ 1.  0.  0.  0.  0.  0.]\n",
        " [ 0.  0.  0.  1.  0.  0.]\n",
        " [ 1.  0.  0.  0.  0.  0.]\n",
        " [ 0.  0.  0.  1.  0.  0.]]\n"
       ]
      }
     ],
     "prompt_number": 66
    },
    {
     "cell_type": "heading",
     "level": 4,
     "metadata": {},
     "source": [
      "Factor:numeric interactions"
     ]
    },
    {
     "cell_type": "markdown",
     "metadata": {},
     "source": [
      "The column space of a factor:numeric interaction is given by taking the matrix giving indicator coding of the factor $f$ (call this $M$) and multiplying each column in $M$ by the numeric variable.  This is a varying slope model, where the slope of the relationship of the response variable $Y$ and the numeric variable $x$ differs according to the levels of the factor $f$.  For example:"
     ]
    },
    {
     "cell_type": "code",
     "collapsed": false,
     "input": [
      "%R model.matrix(~ x1:nationality - 1)"
     ],
     "language": "python",
     "metadata": {},
     "outputs": [
      {
       "output_type": "pyout",
       "prompt_number": 67,
       "text": [
        "array([[  0.,   0.,  49.],\n",
        "       [  0.,   0.,  50.],\n",
        "       [  0.,   0.,  45.],\n",
        "       [  0.,   0.,  53.],\n",
        "       [  0.,   0.,  69.],\n",
        "       [  0.,  73.,   0.],\n",
        "       [  0.,  35.,   0.],\n",
        "       [  0.,  40.,   0.],\n",
        "       [  0.,  36.,   0.],\n",
        "       [  0.,  30.,   0.],\n",
        "       [ 49.,   0.,   0.],\n",
        "       [ 36.,   0.,   0.],\n",
        "       [ 73.,   0.,   0.],\n",
        "       [ 61.,   0.,   0.],\n",
        "       [ 74.,   0.,   0.]])"
       ]
      }
     ],
     "prompt_number": 67
    },
    {
     "cell_type": "heading",
     "level": 3,
     "metadata": {},
     "source": [
      "Coding of factors"
     ]
    },
    {
     "cell_type": "markdown",
     "metadata": {},
     "source": [
      "Once the terms have been ordered, R has to make a design matrix.  The one decision left is how to code the factors - should they use 'indicator' coding or 'contrast' coding.  The rule is the following:\n",
      "\n",
      "> Suppose we have an expanded formula with $p$ factors [*elements* in my terminology]: $F_1,F_2,...,F_p$.  and $m$ terms: $T_1 + T_2+...+T_m$ ...\n",
      "\n",
      "> \"Suppose $F_J$ is any factor included in term $T_i$.  Let $T_{i(j)}$ denote the *margin* of $T_i$ for factor $F_j$ - that is, the term obtained by dropping $F_j$ from $T_i$.  We say that $T_{i(j)}$ has appeared in the formula if there is some term $T_{i'}$ for $i' < i$ such that $T_{i'}$ contains all the factors appearing in $T_{i(j)}$.  The usual case is that $T_{i(j)}$ itself is one of the preceding terms.  Then $F_j$ is coded by contrasts if $T_{i(j)}$ has appeared in the formula and by dummy variables if it has not\" (S models chapter, section 2.4.1)\n",
      "\n",
      "Coding with dummy variables in the quote above means coding with indicator variables in my terminology.\n",
      "\n",
      "Let us explore these rules. For the sake of these rules, a factor `f` on its own (no interactions) should be read as the interaction between the factor and the intercept; that is `f` $\\implies$ `1:f`.\n",
      "\n",
      "So - a model with one factor and the intercept - `~ nationality` (= `~ nationality + 1`):"
     ]
    },
    {
     "cell_type": "code",
     "collapsed": false,
     "input": [
      "%R model.matrix(~ 1 + nationality)"
     ],
     "language": "python",
     "metadata": {},
     "outputs": [
      {
       "output_type": "pyout",
       "prompt_number": 68,
       "text": [
        "array([[ 1.,  0.,  1.],\n",
        "       [ 1.,  0.,  1.],\n",
        "       [ 1.,  0.,  1.],\n",
        "       [ 1.,  0.,  1.],\n",
        "       [ 1.,  0.,  1.],\n",
        "       [ 1.,  1.,  0.],\n",
        "       [ 1.,  1.,  0.],\n",
        "       [ 1.,  1.,  0.],\n",
        "       [ 1.,  1.,  0.],\n",
        "       [ 1.,  1.,  0.],\n",
        "       [ 1.,  0.,  0.],\n",
        "       [ 1.,  0.,  0.],\n",
        "       [ 1.,  0.,  0.],\n",
        "       [ 1.,  0.,  0.],\n",
        "       [ 1.,  0.,  0.]])"
       ]
      }
     ],
     "prompt_number": 68
    },
    {
     "cell_type": "markdown",
     "metadata": {},
     "source": [
      "Logic: R reaches term `nationality`; it interprets this as the interaction of `nationality` and the intercept.  Removing `nationality` from this term it looks backwards for the intercept, finds it, and thus codes `nationality` with contrast coding.  But, if no intercept:"
     ]
    },
    {
     "cell_type": "code",
     "collapsed": false,
     "input": [
      "%R model.matrix(~ nationality - 1)"
     ],
     "language": "python",
     "metadata": {},
     "outputs": [
      {
       "output_type": "pyout",
       "prompt_number": 69,
       "text": [
        "array([[ 0.,  0.,  1.],\n",
        "       [ 0.,  0.,  1.],\n",
        "       [ 0.,  0.,  1.],\n",
        "       [ 0.,  0.,  1.],\n",
        "       [ 0.,  0.,  1.],\n",
        "       [ 0.,  1.,  0.],\n",
        "       [ 0.,  1.,  0.],\n",
        "       [ 0.,  1.,  0.],\n",
        "       [ 0.,  1.,  0.],\n",
        "       [ 0.,  1.,  0.],\n",
        "       [ 1.,  0.,  0.],\n",
        "       [ 1.,  0.,  0.],\n",
        "       [ 1.,  0.,  0.],\n",
        "       [ 1.,  0.,  0.],\n",
        "       [ 1.,  0.,  0.]])"
       ]
      }
     ],
     "prompt_number": 69
    },
    {
     "cell_type": "markdown",
     "metadata": {},
     "source": [
      "Logic: R finds `nationality`, interprets as `1:nationality`, removes nationality and looks for the intercept in previous terms in the expanded formula, does not find it, so uses indicator coding for `nationality`.\n",
      "\n",
      "How about?"
     ]
    },
    {
     "cell_type": "code",
     "collapsed": false,
     "input": [
      "%R print(model.matrix(~ nationality + awesome + nationality:awesome - 1))"
     ],
     "language": "python",
     "metadata": {},
     "outputs": [
      {
       "output_type": "display_data",
       "text": [
        "   nationalityFrance nationalityUK nationalityUSA awesomeYes\n",
        "1                  0             0              1          1\n",
        "2                  0             0              1          0\n",
        "3                  0             0              1          1\n",
        "4                  0             0              1          0\n",
        "5                  0             0              1          1\n",
        "6                  0             1              0          0\n",
        "7                  0             1              0          1\n",
        "8                  0             1              0          0\n",
        "9                  0             1              0          1\n",
        "10                 0             1              0          0\n",
        "11                 1             0              0          1\n",
        "12                 1             0              0          0\n",
        "13                 1             0              0          1\n",
        "14                 1             0              0          0\n",
        "15                 1             0              0          1\n",
        "   nationalityUK:awesomeYes nationalityUSA:awesomeYes\n",
        "1                         0                         1\n",
        "2                         0                         0\n",
        "3                         0                         1\n",
        "4                         0                         0\n",
        "5                         0                         1\n",
        "6                         0                         0\n",
        "7                         1                         0\n",
        "8                         0                         0\n",
        "9                         1                         0\n",
        "10                        0                         0\n",
        "11                        0                         0\n",
        "12                        0                         0\n",
        "13                        0                         0\n",
        "14                        0                         0\n",
        "15                        0                         0\n",
        "attr(,\"assign\")\n",
        "[1] 1 1 1 2 3 3\n",
        "attr(,\"contrasts\")\n",
        "attr(,\"contrasts\")$nationality\n",
        "[1] \"contr.treatment\"\n",
        "\n",
        "attr(,\"contrasts\")$awesome\n",
        "[1] \"contr.treatment\"\n",
        "\n"
       ]
      }
     ],
     "prompt_number": 70
    },
    {
     "cell_type": "markdown",
     "metadata": {},
     "source": [
      "We recognize the first three columns as indicator coding for `nationality`, following the same logic as above. Next we have the term `awesome`, considered as `1:awesome`.  Has `1` appeared previously?  Yes, because the previous term was in fact `1:nationality`.  So, we code `awesome` with contrast coding.  The treatment contrast coding is a column coding only `awesomeYes`.  Now we reach the term `nationality:awesome`.  Considering `nationality` in `nationality:awesome`: we have seen `awesome` before, so we want contrast coding for `nationality` in the term `nationality:awesome`.  Considering `awesome` in `nationality:awesome`: we have seen `nationality` before, so we want contrast coding for `awesome` in the term `nationality:awesome`.  So, the interaction is the column product of the treatment contrast columns for `nationality` and the treatment contrast column for `awesome`.\n",
      "\n",
      "What if we have a factor in an interaction that has not previously appeared in the formula?"
     ]
    },
    {
     "cell_type": "code",
     "collapsed": false,
     "input": [
      "%R print(model.matrix(~ nationality + nationality:awesome - 1))"
     ],
     "language": "python",
     "metadata": {},
     "outputs": [
      {
       "output_type": "display_data",
       "text": [
        "   nationalityFrance nationalityUK nationalityUSA nationalityFrance:awesomeYes\n",
        "1                  0             0              1                            0\n",
        "2                  0             0              1                            0\n",
        "3                  0             0              1                            0\n",
        "4                  0             0              1                            0\n",
        "5                  0             0              1                            0\n",
        "6                  0             1              0                            0\n",
        "7                  0             1              0                            0\n",
        "8                  0             1              0                            0\n",
        "9                  0             1              0                            0\n",
        "10                 0             1              0                            0\n",
        "11                 1             0              0                            1\n",
        "12                 1             0              0                            0\n",
        "13                 1             0              0                            1\n",
        "14                 1             0              0                            0\n",
        "15                 1             0              0                            1\n",
        "   nationalityUK:awesomeYes nationalityUSA:awesomeYes\n",
        "1                         0                         1\n",
        "2                         0                         0\n",
        "3                         0                         1\n",
        "4                         0                         0\n",
        "5                         0                         1\n",
        "6                         0                         0\n",
        "7                         1                         0\n",
        "8                         0                         0\n",
        "9                         1                         0\n",
        "10                        0                         0\n",
        "11                        0                         0\n",
        "12                        0                         0\n",
        "13                        0                         0\n",
        "14                        0                         0\n",
        "15                        0                         0\n",
        "attr(,\"assign\")\n",
        "[1] 1 1 1 2 2 2\n",
        "attr(,\"contrasts\")\n",
        "attr(,\"contrasts\")$nationality\n",
        "[1] \"contr.treatment\"\n",
        "\n",
        "attr(,\"contrasts\")$awesome\n",
        "[1] \"contr.treatment\"\n",
        "\n"
       ]
      }
     ],
     "prompt_number": 71
    },
    {
     "cell_type": "markdown",
     "metadata": {},
     "source": [
      "Now we reach the term `nationality:awesome`.  Considering `nationality` in `nationality:awesome`; we have *not* seen `awesome` before, so we need indicator coding for `nationality`.  Considering `awesome` in `nationality:awesome`; we have seen `nationality` before, so we want contrast coding for `awesome`.  The resulting interaction columns are the column products of indicator coding for `nationality` and treatment contrast coding for `awesome`.\n",
      "\n",
      "Let's try with a numerical variable:"
     ]
    },
    {
     "cell_type": "code",
     "collapsed": false,
     "input": [
      "%R model.matrix(~ x1:nationality + x1:awesome)"
     ],
     "language": "python",
     "metadata": {},
     "outputs": [
      {
       "output_type": "pyout",
       "prompt_number": 72,
       "text": [
        "array([[  1.,   0.,   0.,  49.,  49.],\n",
        "       [  1.,   0.,   0.,  50.,   0.],\n",
        "       [  1.,   0.,   0.,  45.,  45.],\n",
        "       [  1.,   0.,   0.,  53.,   0.],\n",
        "       [  1.,   0.,   0.,  69.,  69.],\n",
        "       [  1.,   0.,  73.,   0.,   0.],\n",
        "       [  1.,   0.,  35.,   0.,  35.],\n",
        "       [  1.,   0.,  40.,   0.,   0.],\n",
        "       [  1.,   0.,  36.,   0.,  36.],\n",
        "       [  1.,   0.,  30.,   0.,   0.],\n",
        "       [  1.,  49.,   0.,   0.,  49.],\n",
        "       [  1.,  36.,   0.,   0.,   0.],\n",
        "       [  1.,  73.,   0.,   0.,  73.],\n",
        "       [  1.,  61.,   0.,   0.,   0.],\n",
        "       [  1.,  74.,   0.,   0.,  74.]])"
       ]
      }
     ],
     "prompt_number": 72
    },
    {
     "cell_type": "markdown",
     "metadata": {},
     "source": [
      "Consider `nationality` in `x1:nationality`.  Seen `x1` before?  No, so we need indicator coding for `nationality`.  The second, third, fourth columns are the product of numerical vector `x1` with indicator coding for `nationality`.  Consider `awesome` in `x1:awesome`.  Have we seen `x1` before?  Yes, in `x1:nationality`, so we see the product of `x1` and contrast coding for `awesome`."
     ]
    },
    {
     "cell_type": "heading",
     "level": 3,
     "metadata": {},
     "source": [
      "Why go to all this trouble with reordering and contrast coding?  Isn't indicator coding easier to understand?"
     ]
    },
    {
     "cell_type": "markdown",
     "metadata": {},
     "source": [
      "Ah, yes, good question.  The S models chapter gives two explanations, numerical and statistical.   "
     ]
    },
    {
     "cell_type": "heading",
     "level": 4,
     "metadata": {},
     "source": [
      "The numerical argument"
     ]
    },
    {
     "cell_type": "markdown",
     "metadata": {},
     "source": [
      "If you use indicator codings for more than one factor, then the columns for first factor will add to a column of ones, and so will the columns for the second factor.  This means two things.  First, the design matrix is rank deficient, in that the same column space can be represented by one fewer columns.  I suppose there were some numerical methods for solving for the parameters $B$ that needed full-rank matrices, but if there are still such methods that are widely used, I don't know what they are.  I believe the most common method for estimation is to use the pseudoinverse, that does not require full-rank matrices.\n",
      "\n",
      "If there are very many factors, say $M$ factors, and we just model the main effects, and we always use indicator coding, then there will be $M-1$ redundant columns in the design, and this could slow down estimation and increase memory use, but I guess the case of $M$ being large enough to cause a problem is rather rare."
     ]
    },
    {
     "cell_type": "heading",
     "level": 4,
     "metadata": {},
     "source": [
      "The statistical argument"
     ]
    },
    {
     "cell_type": "markdown",
     "metadata": {},
     "source": [
      "In part we have heard this argument already.  The formula is a kind of shorthand for an hierarchical ANOVA model, seen in the model fit summary, but most clearly in the `anova` table.  The intention is to make the parameters from the fit meaningful in terms of hypotheses that R assumes you intended in the arrangement of terms in your formula.  The contrast coding rules make these $B$ coefficients more useful for this purpose.\n",
      "\n",
      "The problem with indicator coding is that the coefficients from the estimation are often not useful without further testing.  For two factors with indicator coding, there is an immediate problem with interpreting the $B$ coefficients; they are not uniquely estimable.  Let's say we do a fit of the design $X$ to the data $Y$, giving us a parameter vector $B$.  Remember that the indicator columns for the first factor will sum to a column of ones, and so will the indicator columns for the second factor. This means that we can add a constant $S$ to the beta coefficients for all levels of the first factor, subtract $S$ from all the betas for the levels of the second factor, and still get the same $\\hat{Y}$.  The values in $B$ are not *uniquely estimable* in that there are an infinite set of $B$ coeffcients with the same $\\hat{Y}$:"
     ]
    },
    {
     "cell_type": "code",
     "collapsed": false,
     "input": [
      "X_nat = %R model.matrix(~ nationality - 1) # indicator coding\n",
      "X_awe = %R model.matrix(~ awesome - 1) # indicator coding\n",
      "X = np.column_stack((X_nat, X_awe)) # our design with indicator coding for both\n",
      "# Do an estimation.  This is ordinary least squares, but it doesn't matter how we get the estimate\n",
      "B = np.dot(np.linalg.pinv(X), Y)\n",
      "Y_hat = np.dot(X, B) # fitted values\n",
      "print \"OLS coefficient estimate\", B\n",
      "print \"Fitted values\", Y_hat\n",
      "S = 100 # any old constant value\n",
      "B2 = B[:] # Make a new parameter vector with the constant applied\n",
      "B2[:3] += S\n",
      "B2[3:] -= S\n",
      "print \"Parameters with constant added, subtracted\", B2\n",
      "print \"Same Yhat?\", np.allclose(Y_hat, np.dot(X, B2)) # Are the fitted values the same?"
     ],
     "language": "python",
     "metadata": {},
     "outputs": [
      {
       "output_type": "stream",
       "stream": "stdout",
       "text": [
        "OLS coefficient estimate [ 38.55297778  72.56353333  43.51097778  61.50735556  93.12013333]\n",
        "Fitted values [ 136.63111111  105.01833333  136.63111111  105.01833333  136.63111111\n",
        "  134.07088889  165.68366667  134.07088889  165.68366667  134.07088889\n",
        "  131.67311111  100.06033333  131.67311111  100.06033333  131.67311111]\n",
        "Parameters with constant added, subtracted [ 138.55297778  172.56353333  143.51097778  -38.49264444   -6.87986667]\n",
        "Same Yhat? True\n"
       ]
      }
     ],
     "prompt_number": 73
    },
    {
     "cell_type": "markdown",
     "metadata": {},
     "source": [
      "You might say - oh - well - I'll do contrasts to look at the effects, I don't care too much about the $B$ coefficient values anyway.  And I'd probably agree with you.  But that's another story."
     ]
    },
    {
     "cell_type": "heading",
     "level": 4,
     "metadata": {},
     "source": [
      "It doesn't always work"
     ]
    },
    {
     "cell_type": "markdown",
     "metadata": {},
     "source": [
      "Despite the contrast coding rules, it's relatively easy to get designs that aren't uniquely estimable:"
     ]
    },
    {
     "cell_type": "code",
     "collapsed": false,
     "input": [
      "%R print(lm(Y ~ nationality:awesome))"
     ],
     "language": "python",
     "metadata": {},
     "outputs": [
      {
       "output_type": "display_data",
       "text": [
        "\n",
        "Call:\n",
        "lm(formula = Y ~ nationality:awesome)\n",
        "\n",
        "Coefficients:\n",
        "                 (Intercept)   nationalityFrance:awesomeNo  \n",
        "                     141.130                       -51.900  \n",
        "     nationalityUK:awesomeNo      nationalityUSA:awesomeNo  \n",
        "                       4.660                       -42.860  \n",
        "nationalityFrance:awesomeYes      nationalityUK:awesomeYes  \n",
        "                      -2.237                         6.975  \n",
        "   nationalityUSA:awesomeYes  \n",
        "                          NA  \n",
        "\n"
       ]
      }
     ],
     "prompt_number": 74
    },
    {
     "cell_type": "markdown",
     "metadata": {},
     "source": [
      "Why the redundant column at the end?  It might be clear from the design matrix column names that we got indicator coding for the interaction, when we already had an intercept.  Why?  Because when we got to `nationality:awesome`, we ask \"have we seen `awesome`\" - no - then we use indicator coding for `nationality` in the interaction.  Similarly we have indicator coding for `awesome` in the interaction, giving indicator coding for the interaction overall, and a rank deficient design.  This often happens with three-way or greater interactions.  To demonstrate, let's make another two factors, `popular` and `overrated`:"
     ]
    },
    {
     "cell_type": "code",
     "collapsed": false,
     "input": [
      "popular = ['Yes'] * 8 + ['No'] * 7\n",
      "overrated = ['Yes', 'Yes', 'No', 'No', 'Yes', 'Yes', 'No', 'No', 'Yes', 'Yes', 'No', 'No', 'Yes', 'Yes', 'No']"
     ],
     "language": "python",
     "metadata": {},
     "outputs": [],
     "prompt_number": 75
    },
    {
     "cell_type": "markdown",
     "metadata": {},
     "source": [
      "We get a rank deficient design here, in fairly ordinary cases:"
     ]
    },
    {
     "cell_type": "code",
     "collapsed": false,
     "input": [
      "%%R -i popular,overrated\n",
      "popular = factor(popular)\n",
      "overrated = factor(overrated)\n",
      "print(lm(Y ~ awesome + popular + overrated + awesome:popular:overrated))"
     ],
     "language": "python",
     "metadata": {},
     "outputs": [
      {
       "output_type": "display_data",
       "text": [
        "\n",
        "Call:\n",
        "lm(formula = Y ~ awesome + popular + overrated + awesome:popular:overrated)\n",
        "\n",
        "Coefficients:\n",
        "                       (Intercept)                          awesomeYes  \n",
        "                           156.545                              -6.635  \n",
        "                        popularYes                        overratedYes  \n",
        "                             0.880                             -12.215  \n",
        "   awesomeNo:popularNo:overratedNo    awesomeYes:popularNo:overratedNo  \n",
        "                           -67.245                              -8.830  \n",
        "  awesomeNo:popularYes:overratedNo   awesomeYes:popularYes:overratedNo  \n",
        "                           -46.935                                  NA  \n",
        "  awesomeNo:popularNo:overratedYes   awesomeYes:popularNo:overratedYes  \n",
        "                           -38.495                                  NA  \n",
        " awesomeNo:popularYes:overratedYes  awesomeYes:popularYes:overratedYes  \n",
        "                                NA                                  NA  \n",
        "\n"
       ]
      }
     ],
     "prompt_number": 76
    },
    {
     "cell_type": "code",
     "collapsed": false,
     "input": [
      "X_3 = %R model.matrix(~ awesome + popular + overrated + awesome:popular:overrated)\n",
      "show_x(X_3)"
     ],
     "language": "python",
     "metadata": {},
     "outputs": [
      {
       "output_type": "display_data",
       "png": "[encoded data removed]"
      }
     ],
     "prompt_number": 77
    },
    {
     "cell_type": "markdown",
     "metadata": {},
     "source": [
      "So what went wrong?  For the same reasons as before, the single terms `awesome`, `popular`, `overrated` each got contrast coding, and therefore one column each.  So far so good.  Next we look at `awesome:popular:overrated`.   We first remove `awesome` and ask \"have we seen `popular:overrated`?\"  No, hence we will use indicator coding for `awesome` in the interaction.  For the same reason we get indicator coding for all of the factors in the interaction, and therefore a full 8 columns for the indicator coding of the interaction.  These 8 columns also code the column space of the intercept and the single terms `awesome`, `popular`, `overrated` that we have already included in the design."
     ]
    },
    {
     "cell_type": "markdown",
     "metadata": {},
     "source": [
      "There are more odd cases in `R` design matrix coding described in http://patsy.readthedocs.org/en/latest/R-comparison.html"
     ]
    },
    {
     "cell_type": "heading",
     "level": 2,
     "metadata": {},
     "source": [
      "A Python note"
     ]
    },
    {
     "cell_type": "markdown",
     "metadata": {},
     "source": [
      "Nathaniel Smith has written an `R`-like formula framework in Python. See https://github.com/pydata/patsy and http://patsy.readthedocs.org/en/latest/"
     ]
    },
    {
     "cell_type": "heading",
     "level": 2,
     "metadata": {},
     "source": [
      "That's it?"
     ]
    },
    {
     "cell_type": "markdown",
     "metadata": {},
     "source": [
      "Is this kind of description the best way of describing a design in terms of terms and factors?  It has a lot of magic in it.  The post-processing, column rearrangement and pruning look ugly to my Python-tuned eyes.  Predicting the design matrix from the formula can be difficult for designs that are not simple.  You will need to keep in mind all the rules above, and that can be confusing.  I wonder if this kind of shorthand is a barrier to understanding of linear models in terms of matrices and column spaces.  Can we do better?  I suppose we'll have to try stuff out to see..."
     ]
    },
    {
     "cell_type": "heading",
     "level": 2,
     "metadata": {},
     "source": [
      "Thanks"
     ]
    },
    {
     "cell_type": "markdown",
     "metadata": {},
     "source": [
      "* Jean-Baptiste Poline for several edits and suggestions\n",
      "* Nathaniel Smith for typically thought-provoking discussion and great documentation\n",
      "* Jonathan Taylor for his patient feedback"
     ]
    }
   ],
   "metadata": {}
  }
 ]
}