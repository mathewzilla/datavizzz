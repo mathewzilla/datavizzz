{
 "metadata": {
  "name": ""
 },
 "nbformat": 3,
 "nbformat_minor": 0,
 "worksheets": [
  {
   "cells": [
    {
     "cell_type": "heading",
     "level": 1,
     "metadata": {},
     "source": [
      "Example IPython Notebook running with PySpark"
     ]
    },
    {
     "cell_type": "markdown",
     "metadata": {},
     "source": [
      "After completing the setup [here](http://example.com), this is what an example IPython Notebook session could look like.\n",
      "\n",
      "You will first notice that when a notebook first connects to the IPython kernel, the notebook server will spit out all the usual PySpark output about initializing Spark.\n",
      "\n",
      "First start by seeing that there does exist a `SparkContext` object in the `sc` variable:"
     ]
    },
    {
     "cell_type": "code",
     "collapsed": false,
     "input": [
      "print sc"
     ],
     "language": "python",
     "metadata": {},
     "outputs": [
      {
       "output_type": "stream",
       "stream": "stdout",
       "text": [
        "<pyspark.context.SparkContext object at 0x26e7990>\n"
       ]
      }
     ],
     "prompt_number": 1
    },
    {
     "cell_type": "markdown",
     "metadata": {},
     "source": [
      "Now let's load an RDD with some interesting data.  We have the GDELT event data set on our cluster as a collection of tab-delimited text files:"
     ]
    },
    {
     "cell_type": "code",
     "collapsed": false,
     "input": [
      "raw_events = sc.textFile('/user/laserson/gdelt/events').map(lambda x: x.split('\\t'))\n",
      "# raw_events.cache()"
     ],
     "language": "python",
     "metadata": {},
     "outputs": [],
     "prompt_number": 2
    },
    {
     "cell_type": "markdown",
     "metadata": {},
     "source": [
      "Note how we've cached the event data in distributed memory.\n",
      "\n",
      "Let's see what an object in the RDD looks like"
     ]
    },
    {
     "cell_type": "code",
     "collapsed": false,
     "input": [
      "print raw_events.first()"
     ],
     "language": "python",
     "metadata": {},
     "outputs": [
      {
       "output_type": "stream",
       "stream": "stdout",
       "text": [
        "[u'0', u'19790101', u'197901', u'1979', u'1979.0027', u'', u'', u'', u'', u'', u'', u'', u'', u'', u'', u'AFR', u'AFRICA', u'AFR', u'', u'', u'', u'', u'', u'', u'', u'1', u'040', u'040', u'04', u'1', u'1', u'9', u'1', u'9', u'5.52631578947368', u'', u'', u'', u'', u'0', u'0', u'0', u'', u'', u'', u'', u'0', u'0', u'0', u'', u'', u'', u'', u'0', u'0', u'', u'20130203']\n"
       ]
      }
     ],
     "prompt_number": 7
    },
    {
     "cell_type": "markdown",
     "metadata": {},
     "source": [
      "Let's count the number of events we have.  You can follow the progress of the computation using the Spark application web server."
     ]
    },
    {
     "cell_type": "code",
     "collapsed": false,
     "input": [
      "print raw_events.count()"
     ],
     "language": "python",
     "metadata": {},
     "outputs": [
      {
       "output_type": "stream",
       "stream": "stdout",
       "text": [
        "61260109\n"
       ]
      }
     ],
     "prompt_number": 8
    },
    {
     "cell_type": "markdown",
     "metadata": {},
     "source": [
      "We see that we have about 60 million events at our disposal.\n",
      "\n",
      "The GDELT event data set collects geopolitical events that occur around the world.  Each event is tagged with a Goldstein scale value that measures the potential for the event to destabilize the country.  Let's compute and plot a histogram of the Goldstein scale values across all the events in the database.  The Goldstein scale value is present in the 31st field.\n",
      "\n",
      "First, let's make sure that plotting images are set to be displayed inline (see the IPython docs):"
     ]
    },
    {
     "cell_type": "code",
     "collapsed": false,
     "input": [
      "%matplotlib inline\n",
      "import matplotlib.pyplot as plt\n",
      "import numpy as np"
     ],
     "language": "python",
     "metadata": {},
     "outputs": [],
     "prompt_number": 4
    },
    {
     "cell_type": "markdown",
     "metadata": {},
     "source": [
      "Now we'll just confirm that all the Goldstein values are indeed between -10 and 10."
     ]
    },
    {
     "cell_type": "code",
     "collapsed": false,
     "input": [
      "m = raw_events.map(lambda x: float(x[30])).min()\n",
      "M = raw_events.map(lambda x: float(x[30])).max()\n",
      "print \"Min is %f\\nMax is %f\" % (m, M)"
     ],
     "language": "python",
     "metadata": {},
     "outputs": [
      {
       "output_type": "stream",
       "stream": "stdout",
       "text": [
        "Min is -10.000000\n",
        "Max is 10.000000\n"
       ]
      }
     ],
     "prompt_number": 6
    },
    {
     "cell_type": "markdown",
     "metadata": {},
     "source": [
      "Here we compute the histogram.  This is slightly hacky, but _c'est la vie_:"
     ]
    },
    {
     "cell_type": "code",
     "collapsed": false,
     "input": [
      "bins = np.arange(-10, 11)\n",
      "one_hot = raw_events.map(lambda x: float(x[30])).map(lambda x: np.histogram([x], bins=bins)[0])\n",
      "hist = one_hot.reduce(lambda x, y: x + y)\n",
      "print hist"
     ],
     "language": "python",
     "metadata": {},
     "outputs": [
      {
       "output_type": "stream",
       "stream": "stdout",
       "text": [
        "[ 4315780   562319   516529   938546   100780  3890452  1816766        0\n",
        "  4678160  1290723  6450944 10235827  4893120  6673389  4912603  1487392\n",
        "  1056329  5624014  1400922   415514]\n"
       ]
      }
     ],
     "prompt_number": 7
    },
    {
     "cell_type": "markdown",
     "metadata": {},
     "source": [
      "Finally we plot the histogram"
     ]
    },
    {
     "cell_type": "code",
     "collapsed": false,
     "input": [
      "fig = plt.figure()\n",
      "ax = fig.add_subplot(111)\n",
      "t = ax.bar(bins[:-1], hist)"
     ],
     "language": "python",
     "metadata": {},
     "outputs": [
      {
       "metadata": {},
       "output_type": "display_data",
       "png": "[encoded data removed]",
       "text": [
        "<matplotlib.figure.Figure at 0x2556bd0>"
       ]
      }
     ],
     "prompt_number": 8
    },
    {
     "cell_type": "markdown",
     "metadata": {},
     "source": [
      "We can also plot the number of events each day for the 5 countries that have the most events in the year 2001.\n",
      "\n",
      "First we can see the number of unique countries that are available.  Note that we filter out events that don't list a country code."
     ]
    },
    {
     "cell_type": "code",
     "collapsed": false,
     "input": [
      "raw_events.filter(lambda x: x[7] != '').map(lambda x: x[7]).distinct().collect()"
     ],
     "language": "python",
     "metadata": {},
     "outputs": [
      {
       "metadata": {},
       "output_type": "pyout",
       "prompt_number": 6,
       "text": [
        "[u'',\n",
        " u'SAS',\n",
        " u'NMR',\n",
        " u'IDN',\n",
        " u'ALB',\n",
        " u'KHM',\n",
        " u'TUN',\n",
        " u'COK',\n",
        " u'SHN',\n",
        " u'THA',\n",
        " u'ESP',\n",
        " u'BLZ',\n",
        " u'IND',\n",
        " u'CAS',\n",
        " u'TON',\n",
        " u'COM',\n",
        " u'NAF',\n",
        " u'UKR',\n",
        " u'TGO',\n",
        " u'AZE',\n",
        " u'COL',\n",
        " u'MEX',\n",
        " u'NOR',\n",
        " u'BGR',\n",
        " u'LTU',\n",
        " u'AFR',\n",
        " u'SAU',\n",
        " u'CRI',\n",
        " u'TKM',\n",
        " u'EUR',\n",
        " u'DJI',\n",
        " u'NER',\n",
        " u'LAM',\n",
        " u'WLF',\n",
        " u'JOR',\n",
        " u'CAU',\n",
        " u'FJI',\n",
        " u'PRK',\n",
        " u'MMR',\n",
        " u'LAO',\n",
        " u'EAF',\n",
        " u'BLR',\n",
        " u'LBN',\n",
        " u'BEN',\n",
        " u'TTO',\n",
        " u'YEM',\n",
        " u'GEO',\n",
        " u'STP',\n",
        " u'PRT',\n",
        " u'HKG',\n",
        " u'LSO',\n",
        " u'KAZ',\n",
        " u'FRA',\n",
        " u'UGA',\n",
        " u'BEL',\n",
        " u'BTN',\n",
        " u'NAM',\n",
        " u'AIA',\n",
        " u'GBR',\n",
        " u'DMA',\n",
        " u'SVK',\n",
        " u'KIR',\n",
        " u'BWA',\n",
        " u'CAN',\n",
        " u'IRQ',\n",
        " u'GHA',\n",
        " u'BFA',\n",
        " u'CYM',\n",
        " u'DNK',\n",
        " u'AUS',\n",
        " u'VAT',\n",
        " u'BLK',\n",
        " u'PNG',\n",
        " u'MDA',\n",
        " u'MAR',\n",
        " u'MLI',\n",
        " u'ABW',\n",
        " u'DZA',\n",
        " u'MDG',\n",
        " u'HND',\n",
        " u'AUT',\n",
        " u'PGS',\n",
        " u'VUT',\n",
        " u'MYS',\n",
        " u'VNM',\n",
        " u'PER',\n",
        " u'SLV',\n",
        " u'JPN',\n",
        " u'BMU',\n",
        " u'ZAF',\n",
        " u'TMP',\n",
        " u'PRY',\n",
        " u'CAF',\n",
        " u'NIC',\n",
        " u'SUR',\n",
        " u'BRN',\n",
        " u'NGA',\n",
        " u'EGY',\n",
        " u'HTI',\n",
        " u'JAM',\n",
        " u'CZE',\n",
        " u'LKA',\n",
        " u'PLW',\n",
        " u'SOM',\n",
        " u'BOL',\n",
        " u'AND',\n",
        " u'IRL',\n",
        " u'KEN',\n",
        " u'ISR',\n",
        " u'ARE',\n",
        " u'CHE',\n",
        " u'NLD',\n",
        " u'SDN',\n",
        " u'IRN',\n",
        " u'MLT',\n",
        " u'HRV',\n",
        " u'ARG',\n",
        " u'SRB',\n",
        " u'ATG',\n",
        " u'GTM',\n",
        " u'ZWE',\n",
        " u'BHS',\n",
        " u'MAC',\n",
        " u'ETH',\n",
        " u'TJK',\n",
        " u'UZB',\n",
        " u'BHR',\n",
        " u'KNA',\n",
        " u'MDV',\n",
        " u'WSM',\n",
        " u'CHL',\n",
        " u'SWE',\n",
        " u'QAT',\n",
        " u'MOZ',\n",
        " u'WAF',\n",
        " u'SMR',\n",
        " u'ARM',\n",
        " u'SLE',\n",
        " u'RUS',\n",
        " u'BRB',\n",
        " u'USA',\n",
        " u'POL',\n",
        " u'CHN',\n",
        " u'GRD',\n",
        " u'SEA',\n",
        " u'ASA',\n",
        " u'BRA',\n",
        " u'GNQ',\n",
        " u'MNG',\n",
        " u'SYC',\n",
        " u'LVA',\n",
        " u'MEA',\n",
        " u'LUX',\n",
        " u'NPL',\n",
        " u'GRC',\n",
        " u'SEN',\n",
        " u'TCD',\n",
        " u'SAM',\n",
        " u'SLB',\n",
        " u'ISL',\n",
        " u'LBR',\n",
        " u'MKD',\n",
        " u'SWZ',\n",
        " u'DOM',\n",
        " u'FIN',\n",
        " u'SGP',\n",
        " u'KWT',\n",
        " u'CMR',\n",
        " u'WST',\n",
        " u'MWI',\n",
        " u'MUS',\n",
        " u'AFG',\n",
        " u'LBY',\n",
        " u'TZA',\n",
        " u'BDI',\n",
        " u'VCT',\n",
        " u'AGO',\n",
        " u'GIN',\n",
        " u'SAF',\n",
        " u'URY',\n",
        " u'CUB',\n",
        " u'DEU',\n",
        " u'MHL',\n",
        " u'NRU',\n",
        " u'CPV',\n",
        " u'TUR',\n",
        " u'CYP',\n",
        " u'LCA',\n",
        " u'EEU',\n",
        " u'ZMB',\n",
        " u'GNB',\n",
        " u'BGD',\n",
        " u'VEN',\n",
        " u'LIE',\n",
        " u'ROM',\n",
        " u'GAB',\n",
        " u'GMB',\n",
        " u'RWA',\n",
        " u'ECU',\n",
        " u'HUN',\n",
        " u'TUV',\n",
        " u'PAK',\n",
        " u'ITA',\n",
        " u'PHL',\n",
        " u'MRT',\n",
        " u'CRB',\n",
        " u'MCO',\n",
        " u'OMN',\n",
        " u'FSM',\n",
        " u'SYR',\n",
        " u'CIV',\n",
        " u'ERI',\n",
        " u'COD',\n",
        " u'GUY',\n",
        " u'COG',\n",
        " u'PAN',\n",
        " u'SCN',\n",
        " u'KGZ',\n",
        " u'PSE',\n",
        " u'EST',\n",
        " u'KOR',\n",
        " u'NZL']"
       ]
      }
     ],
     "prompt_number": 6
    },
    {
     "cell_type": "markdown",
     "metadata": {},
     "source": [
      "Here we convert each event into counts.  We will aggregate by country and day, for all events in the year 2001."
     ]
    },
    {
     "cell_type": "code",
     "collapsed": false,
     "input": [
      "events_2001 = raw_events.filter(lambda x: x[7] != '').filter(lambda x: x[1] >= '20010101').filter(lambda x: x[1] <= '20011231')\n",
      "events_2001.cache()"
     ],
     "language": "python",
     "metadata": {},
     "outputs": [
      {
       "metadata": {},
       "output_type": "pyout",
       "prompt_number": 15,
       "text": [
        "PythonRDD[12] at RDD at PythonRDD.scala:40"
       ]
      }
     ],
     "prompt_number": 15
    },
    {
     "cell_type": "code",
     "collapsed": false,
     "input": [
      "events_2001.count()"
     ],
     "language": "python",
     "metadata": {},
     "outputs": [
      {
       "metadata": {},
       "output_type": "pyout",
       "prompt_number": 19,
       "text": [
        "3162516"
       ]
      }
     ],
     "prompt_number": 19
    },
    {
     "cell_type": "code",
     "collapsed": false,
     "input": [
      "country_day_counts = events_2001.filter(lambda x: x[7] != '').map(lambda x: ((x[7], x[1]), 1)).reduceByKey(lambda x, y: x + y)\n",
      "country_day_counts.cache()"
     ],
     "language": "python",
     "metadata": {},
     "outputs": [
      {
       "metadata": {},
       "output_type": "pyout",
       "prompt_number": 21,
       "text": [
        "PythonRDD[22] at RDD at PythonRDD.scala:40"
       ]
      }
     ],
     "prompt_number": 21
    },
    {
     "cell_type": "code",
     "collapsed": false,
     "input": [
      "country_day_counts.take(5)"
     ],
     "language": "python",
     "metadata": {},
     "outputs": [
      {
       "metadata": {},
       "output_type": "pyout",
       "prompt_number": 22,
       "text": [
        "[((u'VEN', u'20010602'), 12),\n",
        " ((u'GHA', u'20011224'), 15),\n",
        " ((u'BWA', u'20011224'), 2),\n",
        " ((u'PHL', u'20010223'), 63),\n",
        " ((u'IRN', u'20010428'), 186)]"
       ]
      }
     ],
     "prompt_number": 22
    },
    {
     "cell_type": "code",
     "collapsed": false,
     "input": [
      "from dateutil.parser import parse as parse_date\n",
      "epoch = parse_date('19700101')\n",
      "def td2s(td):\n",
      "    return (td.microseconds + (td.seconds + td.days * 24 * 3600) * 1000000) / 1e6\n",
      "def day2unix(day):\n",
      "    return td2s(parse_date(day) - epoch)"
     ],
     "language": "python",
     "metadata": {},
     "outputs": [],
     "prompt_number": 23
    },
    {
     "cell_type": "code",
     "collapsed": false,
     "input": [
      "country_series = country_day_counts \\\n",
      "    .map(lambda x: (x[0][0], (day2unix(x[0][1]), x[1]))) \\\n",
      "    .groupByKey() \\\n",
      "    .map(lambda x: (x[0], sorted(x[1], key=lambda y: y[0]))) \\\n",
      "    .map(lambda x: (x[0], zip(*x[1]))) \\\n",
      "    .map(lambda x: (x[0], x[1][0], x[1][1]))"
     ],
     "language": "python",
     "metadata": {},
     "outputs": [],
     "prompt_number": 24
    },
    {
     "cell_type": "code",
     "collapsed": false,
     "input": [
      "country_series.cache()"
     ],
     "language": "python",
     "metadata": {},
     "outputs": [
      {
       "metadata": {},
       "output_type": "pyout",
       "prompt_number": 65,
       "text": [
        "PythonRDD[77] at RDD at PythonRDD.scala:40"
       ]
      }
     ],
     "prompt_number": 65
    },
    {
     "cell_type": "code",
     "collapsed": false,
     "input": [
      "country_series.first()"
     ],
     "language": "python",
     "metadata": {},
     "outputs": [
      {
       "metadata": {},
       "output_type": "pyout",
       "prompt_number": 25,
       "text": [
        "(u'NMR',\n",
        " (978307200.0,\n",
        "  978393600.0,\n",
        "  978480000.0,\n",
        "  978652800.0,\n",
        "  978739200.0,\n",
        "  978825600.0,\n",
        "  978912000.0,\n",
        "  978998400.0,\n",
        "  979084800.0,\n",
        "  979689600.0,\n",
        "  980121600.0,\n",
        "  980294400.0,\n",
        "  980467200.0,\n",
        "  980640000.0,\n",
        "  980726400.0,\n",
        "  980812800.0,\n",
        "  980899200.0,\n",
        "  981331200.0,\n",
        "  981417600.0,\n",
        "  981504000.0,\n",
        "  981590400.0,\n",
        "  981676800.0,\n",
        "  981849600.0,\n",
        "  982108800.0,\n",
        "  982195200.0,\n",
        "  982281600.0,\n",
        "  982368000.0,\n",
        "  982540800.0,\n",
        "  982713600.0,\n",
        "  982800000.0,\n",
        "  982886400.0,\n",
        "  982972800.0,\n",
        "  983059200.0,\n",
        "  983232000.0,\n",
        "  983750400.0,\n",
        "  983836800.0,\n",
        "  983923200.0,\n",
        "  984096000.0,\n",
        "  984182400.0,\n",
        "  984355200.0,\n",
        "  984441600.0,\n",
        "  984528000.0,\n",
        "  984873600.0,\n",
        "  985132800.0,\n",
        "  985219200.0,\n",
        "  985392000.0,\n",
        "  985478400.0,\n",
        "  985564800.0,\n",
        "  985651200.0,\n",
        "  985737600.0,\n",
        "  985910400.0,\n",
        "  986169600.0,\n",
        "  986342400.0,\n",
        "  986515200.0,\n",
        "  986774400.0,\n",
        "  986947200.0,\n",
        "  987292800.0,\n",
        "  987379200.0,\n",
        "  987465600.0,\n",
        "  987552000.0,\n",
        "  987638400.0,\n",
        "  987724800.0,\n",
        "  987811200.0,\n",
        "  987897600.0,\n",
        "  987984000.0,\n",
        "  988156800.0,\n",
        "  988329600.0,\n",
        "  988675200.0,\n",
        "  988848000.0,\n",
        "  989020800.0,\n",
        "  989193600.0,\n",
        "  989366400.0,\n",
        "  989625600.0,\n",
        "  989884800.0,\n",
        "  989971200.0,\n",
        "  990057600.0,\n",
        "  990316800.0,\n",
        "  990403200.0,\n",
        "  990489600.0,\n",
        "  990576000.0,\n",
        "  990662400.0,\n",
        "  990748800.0,\n",
        "  990835200.0,\n",
        "  991094400.0,\n",
        "  991180800.0,\n",
        "  991267200.0,\n",
        "  991353600.0,\n",
        "  991699200.0,\n",
        "  991872000.0,\n",
        "  991958400.0,\n",
        "  992217600.0,\n",
        "  992304000.0,\n",
        "  992390400.0,\n",
        "  992476800.0,\n",
        "  992995200.0,\n",
        "  993081600.0,\n",
        "  993340800.0,\n",
        "  993513600.0,\n",
        "  993600000.0,\n",
        "  993686400.0,\n",
        "  994032000.0,\n",
        "  994118400.0,\n",
        "  994204800.0,\n",
        "  994291200.0,\n",
        "  994550400.0,\n",
        "  994636800.0,\n",
        "  994809600.0,\n",
        "  994896000.0,\n",
        "  995414400.0,\n",
        "  995500800.0,\n",
        "  995587200.0,\n",
        "  995846400.0,\n",
        "  996019200.0,\n",
        "  996192000.0,\n",
        "  996364800.0,\n",
        "  996451200.0,\n",
        "  996710400.0,\n",
        "  996796800.0,\n",
        "  997142400.0,\n",
        "  997228800.0,\n",
        "  997401600.0,\n",
        "  997574400.0,\n",
        "  997660800.0,\n",
        "  997747200.0,\n",
        "  997833600.0,\n",
        "  998438400.0,\n",
        "  998524800.0,\n",
        "  998956800.0,\n",
        "  999043200.0,\n",
        "  999216000.0,\n",
        "  999388800.0,\n",
        "  999561600.0,\n",
        "  999648000.0,\n",
        "  999734400.0,\n",
        "  999820800.0,\n",
        "  1000080000.0,\n",
        "  1000252800.0,\n",
        "  1000425600.0,\n",
        "  1000598400.0,\n",
        "  1000684800.0,\n",
        "  1000857600.0,\n",
        "  1001030400.0,\n",
        "  1001116800.0,\n",
        "  1001289600.0,\n",
        "  1001548800.0,\n",
        "  1001635200.0,\n",
        "  1001808000.0,\n",
        "  1001980800.0,\n",
        "  1002067200.0,\n",
        "  1002153600.0,\n",
        "  1002240000.0,\n",
        "  1002412800.0,\n",
        "  1002499200.0,\n",
        "  1002585600.0,\n",
        "  1002672000.0,\n",
        "  1002758400.0,\n",
        "  1002844800.0,\n",
        "  1002931200.0,\n",
        "  1003104000.0,\n",
        "  1003190400.0,\n",
        "  1003363200.0,\n",
        "  1003622400.0,\n",
        "  1003708800.0,\n",
        "  1003795200.0,\n",
        "  1004054400.0,\n",
        "  1004140800.0,\n",
        "  1004227200.0,\n",
        "  1004313600.0,\n",
        "  1004745600.0,\n",
        "  1004918400.0,\n",
        "  1005004800.0,\n",
        "  1005091200.0,\n",
        "  1005436800.0,\n",
        "  1005523200.0,\n",
        "  1005696000.0,\n",
        "  1005782400.0,\n",
        "  1005868800.0,\n",
        "  1006128000.0,\n",
        "  1006214400.0,\n",
        "  1006300800.0,\n",
        "  1006905600.0,\n",
        "  1006992000.0,\n",
        "  1007164800.0,\n",
        "  1007251200.0,\n",
        "  1007424000.0,\n",
        "  1007769600.0,\n",
        "  1008028800.0,\n",
        "  1008115200.0,\n",
        "  1008201600.0,\n",
        "  1008460800.0,\n",
        "  1008547200.0,\n",
        "  1008633600.0,\n",
        "  1008720000.0,\n",
        "  1009238400.0,\n",
        "  1009411200.0,\n",
        "  1009584000.0,\n",
        "  1009670400.0),\n",
        " (1,\n",
        "  2,\n",
        "  1,\n",
        "  2,\n",
        "  1,\n",
        "  2,\n",
        "  4,\n",
        "  1,\n",
        "  5,\n",
        "  1,\n",
        "  1,\n",
        "  2,\n",
        "  3,\n",
        "  2,\n",
        "  1,\n",
        "  4,\n",
        "  2,\n",
        "  1,\n",
        "  3,\n",
        "  3,\n",
        "  5,\n",
        "  1,\n",
        "  3,\n",
        "  8,\n",
        "  7,\n",
        "  12,\n",
        "  2,\n",
        "  2,\n",
        "  11,\n",
        "  7,\n",
        "  6,\n",
        "  1,\n",
        "  2,\n",
        "  1,\n",
        "  2,\n",
        "  3,\n",
        "  1,\n",
        "  1,\n",
        "  2,\n",
        "  4,\n",
        "  2,\n",
        "  4,\n",
        "  1,\n",
        "  1,\n",
        "  2,\n",
        "  5,\n",
        "  2,\n",
        "  5,\n",
        "  3,\n",
        "  3,\n",
        "  5,\n",
        "  1,\n",
        "  4,\n",
        "  2,\n",
        "  1,\n",
        "  4,\n",
        "  2,\n",
        "  9,\n",
        "  19,\n",
        "  2,\n",
        "  10,\n",
        "  1,\n",
        "  4,\n",
        "  10,\n",
        "  3,\n",
        "  1,\n",
        "  1,\n",
        "  1,\n",
        "  2,\n",
        "  8,\n",
        "  3,\n",
        "  1,\n",
        "  1,\n",
        "  2,\n",
        "  3,\n",
        "  2,\n",
        "  1,\n",
        "  1,\n",
        "  2,\n",
        "  1,\n",
        "  3,\n",
        "  6,\n",
        "  1,\n",
        "  1,\n",
        "  1,\n",
        "  2,\n",
        "  1,\n",
        "  4,\n",
        "  3,\n",
        "  1,\n",
        "  1,\n",
        "  6,\n",
        "  4,\n",
        "  1,\n",
        "  4,\n",
        "  2,\n",
        "  1,\n",
        "  1,\n",
        "  3,\n",
        "  2,\n",
        "  4,\n",
        "  3,\n",
        "  2,\n",
        "  7,\n",
        "  2,\n",
        "  7,\n",
        "  2,\n",
        "  3,\n",
        "  4,\n",
        "  1,\n",
        "  3,\n",
        "  1,\n",
        "  1,\n",
        "  16,\n",
        "  1,\n",
        "  1,\n",
        "  3,\n",
        "  1,\n",
        "  2,\n",
        "  1,\n",
        "  1,\n",
        "  2,\n",
        "  2,\n",
        "  2,\n",
        "  4,\n",
        "  4,\n",
        "  3,\n",
        "  1,\n",
        "  1,\n",
        "  2,\n",
        "  1,\n",
        "  1,\n",
        "  7,\n",
        "  5,\n",
        "  2,\n",
        "  3,\n",
        "  7,\n",
        "  4,\n",
        "  8,\n",
        "  3,\n",
        "  3,\n",
        "  1,\n",
        "  1,\n",
        "  6,\n",
        "  2,\n",
        "  5,\n",
        "  2,\n",
        "  4,\n",
        "  4,\n",
        "  3,\n",
        "  1,\n",
        "  1,\n",
        "  1,\n",
        "  4,\n",
        "  1,\n",
        "  1,\n",
        "  2,\n",
        "  1,\n",
        "  4,\n",
        "  2,\n",
        "  1,\n",
        "  2,\n",
        "  4,\n",
        "  3,\n",
        "  2,\n",
        "  2,\n",
        "  3,\n",
        "  3,\n",
        "  2,\n",
        "  1,\n",
        "  4,\n",
        "  3,\n",
        "  3,\n",
        "  3,\n",
        "  2,\n",
        "  3,\n",
        "  1,\n",
        "  2,\n",
        "  2,\n",
        "  2,\n",
        "  1,\n",
        "  3,\n",
        "  2,\n",
        "  2,\n",
        "  1,\n",
        "  4,\n",
        "  3,\n",
        "  1,\n",
        "  1,\n",
        "  1,\n",
        "  1,\n",
        "  2,\n",
        "  1,\n",
        "  1,\n",
        "  7,\n",
        "  6,\n",
        "  4))"
       ]
      }
     ],
     "prompt_number": 25
    },
    {
     "cell_type": "markdown",
     "metadata": {},
     "source": [
      "Now we're ready to plot.  Each object in `country_series` has the information we need to plot a single line."
     ]
    },
    {
     "cell_type": "code",
     "collapsed": false,
     "input": [
      "random_color = lambda: '#%02x%02x%02x' % tuple(np.random.randint(0,256,3))\n",
      "fig = plt.figure()\n",
      "ax = fig.add_subplot(111)\n",
      "for (country, times, events) in country_series.takeOrdered(10, lambda x: -sum(x[2])):\n",
      "    t = ax.plot(times, events, lw=1, c=random_color())"
     ],
     "language": "python",
     "metadata": {},
     "outputs": [
      {
       "metadata": {},
       "output_type": "display_data",
       "png": "[encoded data removed]",
       "text": [
        "<matplotlib.figure.Figure at 0x3903850>"
       ]
      }
     ],
     "prompt_number": 27
    },
    {
     "cell_type": "markdown",
     "metadata": {},
     "source": [
      "What's the big spike for the blue line above?"
     ]
    },
    {
     "cell_type": "code",
     "collapsed": false,
     "input": [
      "country_day_counts.reduce(lambda x, y: max(x, y, key=lambda z: z[1]))"
     ],
     "language": "python",
     "metadata": {},
     "outputs": [
      {
       "metadata": {},
       "output_type": "pyout",
       "prompt_number": 28,
       "text": [
        "((u'USA', u'20010912'), 2387)"
       ]
      }
     ],
     "prompt_number": 28
    },
    {
     "cell_type": "markdown",
     "metadata": {},
     "source": [
      "Looks like it was the day after September 11th."
     ]
    }
   ],
   "metadata": {}
  }
 ]
}